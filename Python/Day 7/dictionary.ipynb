{
 "cells": [
  {
   "cell_type": "markdown",
   "id": "35921361-f95d-4dc1-bf20-78225ecf7b3a",
   "metadata": {},
   "source": [
    "Dictionary"
   ]
  },
  {
   "cell_type": "code",
   "execution_count": 3,
   "id": "db247853-f9af-4ede-a437-8e0a0a627fb5",
   "metadata": {},
   "outputs": [],
   "source": [
    "#Dictionary is a collection which has keys and vales pair seperated by : and pairs seperated by , \\n\n",
    "#All pairs enclosed in {} -> dict_dl = { key1 : value1, key2 : value2 } aka JSON\n",
    "#d1 = {} or d2 = dict()\n",
    "#To access keys -> d1.keys\n",
    "#To access value -> d1.value\n",
    "#combination of botn -> d1.items"
   ]
  },
  {
   "cell_type": "code",
   "execution_count": 24,
   "id": "aa13ddda-3856-4f42-bb44-e89240296bf1",
   "metadata": {},
   "outputs": [],
   "source": [
    "mydict = {'name': 'sanika', 'location': 'pune', 'DOB': '07/01/2003', 'height': 5.2, 'age': 21}"
   ]
  },
  {
   "cell_type": "code",
   "execution_count": 25,
   "id": "39a419d2-a5cb-4fea-a89d-3d5419a2dcee",
   "metadata": {},
   "outputs": [
    {
     "data": {
      "text/plain": [
       "{'name': 'sanika',\n",
       " 'location': 'pune',\n",
       " 'DOB': '07/01/2003',\n",
       " 'height': 5.2,\n",
       " 'age': 21}"
      ]
     },
     "execution_count": 25,
     "metadata": {},
     "output_type": "execute_result"
    }
   ],
   "source": [
    "mydict"
   ]
  },
  {
   "cell_type": "code",
   "execution_count": 26,
   "id": "5aca061d-aabd-408d-91bd-ba426fd6f99c",
   "metadata": {},
   "outputs": [
    {
     "data": {
      "text/plain": [
       "dict_keys(['name', 'location', 'DOB', 'height', 'age'])"
      ]
     },
     "execution_count": 26,
     "metadata": {},
     "output_type": "execute_result"
    }
   ],
   "source": [
    "mydict.keys()"
   ]
  },
  {
   "cell_type": "code",
   "execution_count": 27,
   "id": "1e8f5ff7-db60-409b-bb79-3b63462c8fea",
   "metadata": {},
   "outputs": [
    {
     "data": {
      "text/plain": [
       "dict_values(['sanika', 'pune', '07/01/2003', 5.2, 21])"
      ]
     },
     "execution_count": 27,
     "metadata": {},
     "output_type": "execute_result"
    }
   ],
   "source": [
    "mydict.values()"
   ]
  },
  {
   "cell_type": "code",
   "execution_count": 28,
   "id": "6256a247-4d53-4b93-a968-fad73b775e00",
   "metadata": {},
   "outputs": [
    {
     "data": {
      "text/plain": [
       "dict_items([('name', 'sanika'), ('location', 'pune'), ('DOB', '07/01/2003'), ('height', 5.2), ('age', 21)])"
      ]
     },
     "execution_count": 28,
     "metadata": {},
     "output_type": "execute_result"
    }
   ],
   "source": [
    "mydict.items()"
   ]
  },
  {
   "cell_type": "code",
   "execution_count": 29,
   "id": "28658ed8-0797-49da-83bc-07033334b1b9",
   "metadata": {},
   "outputs": [
    {
     "data": {
      "text/plain": [
       "'sanika'"
      ]
     },
     "execution_count": 29,
     "metadata": {},
     "output_type": "execute_result"
    }
   ],
   "source": [
    "mydict['name']"
   ]
  },
  {
   "cell_type": "code",
   "execution_count": 23,
   "id": "20f23d08-d580-40be-923f-88f080f2c529",
   "metadata": {},
   "outputs": [
    {
     "data": {
      "text/plain": [
       "'pune'"
      ]
     },
     "execution_count": 23,
     "metadata": {},
     "output_type": "execute_result"
    }
   ],
   "source": [
    "#mydict = [1,2,3,4,[5,{5:[67,89,90,{'area':'wagholi','city':'pune'}]}]]\n",
    "#mydict[4][1][5][3]['city']"
   ]
  },
  {
   "cell_type": "code",
   "execution_count": 32,
   "id": "5d08766a-940c-414b-abd5-e4b336da2770",
   "metadata": {},
   "outputs": [],
   "source": [
    "#accessing values theoudh index\n",
    "info = {0:{1:'one' , 2:'two' , 3:'three'},\n",
    "        1:{2:['pune','banglore','hydrabad',12], 3:{'character' : 'luffy' , 'anime' : 'one piece'}}}"
   ]
  },
  {
   "cell_type": "code",
   "execution_count": 33,
   "id": "aebab67a-8976-457a-bd73-00d162469ec8",
   "metadata": {},
   "outputs": [
    {
     "data": {
      "text/plain": [
       "'one piece'"
      ]
     },
     "execution_count": 33,
     "metadata": {},
     "output_type": "execute_result"
    }
   ],
   "source": [
    "info[1][3]['anime']"
   ]
  },
  {
   "cell_type": "code",
   "execution_count": 34,
   "id": "62428d6e-e55a-4a70-a16d-cc37cb626867",
   "metadata": {},
   "outputs": [
    {
     "data": {
      "text/plain": [
       "'pune'"
      ]
     },
     "execution_count": 34,
     "metadata": {},
     "output_type": "execute_result"
    }
   ],
   "source": [
    "info[1][2][0]"
   ]
  },
  {
   "cell_type": "code",
   "execution_count": 38,
   "id": "d131643c-9c26-4302-8ca4-cc1ad8fa29eb",
   "metadata": {},
   "outputs": [
    {
     "data": {
      "text/plain": [
       "{'name': 'sanika',\n",
       " 'location': 'pune city',\n",
       " 'DOB': '07/01/2003',\n",
       " 'height': 5.2,\n",
       " 'age': 21,\n",
       " 'education': 'BE entc'}"
      ]
     },
     "execution_count": 38,
     "metadata": {},
     "output_type": "execute_result"
    }
   ],
   "source": [
    "#to add new value into list\n",
    "mydict.update({'education':'BE entc'})\n",
    "mydict"
   ]
  },
  {
   "cell_type": "code",
   "execution_count": 39,
   "id": "04dc21cb-ef90-47f8-b1a7-34082f753b94",
   "metadata": {},
   "outputs": [
    {
     "data": {
      "text/plain": [
       "{'name': 'sanika',\n",
       " 'location': 'pune city',\n",
       " 'DOB': '07/01/2003',\n",
       " 'height': 5.2,\n",
       " 'age': 21,\n",
       " 'education': 'BE entc'}"
      ]
     },
     "execution_count": 39,
     "metadata": {},
     "output_type": "execute_result"
    }
   ],
   "source": [
    "#to update existing value into list\n",
    "mydict.update({'location':'pune city'})\n",
    "mydict"
   ]
  },
  {
   "cell_type": "code",
   "execution_count": 42,
   "id": "103b76d2-f195-4028-b981-6af144cb4f31",
   "metadata": {},
   "outputs": [
    {
     "data": {
      "text/plain": [
       "{'name': 'sanika',\n",
       " 'location': 'pune city',\n",
       " 'DOB': '07/01/2003',\n",
       " 'height': 5.2,\n",
       " 'age': 21,\n",
       " 'education': 'BE entc',\n",
       " 'hobby': ['painting', 'watching anime', 'listening songs']}"
      ]
     },
     "execution_count": 42,
     "metadata": {},
     "output_type": "execute_result"
    }
   ],
   "source": [
    "#adding list\n",
    "mydict.update({'hobby':['painting','watching anime','listening songs']})\n",
    "mydict"
   ]
  },
  {
   "cell_type": "code",
   "execution_count": 49,
   "id": "da75bc91-9818-4519-949d-358aab00947f",
   "metadata": {},
   "outputs": [],
   "source": [
    "info = {0:{1:'one' , 2:'two' , 3:'three'},\n",
    "        1:{2:['pune','banglore','hydrabad',12], 3:{'character' : 'luffy' , 'anime' : 'one piece'}}}"
   ]
  },
  {
   "cell_type": "code",
   "execution_count": 50,
   "id": "d6e663cd-8162-441b-8418-6c26429ac2f3",
   "metadata": {},
   "outputs": [
    {
     "data": {
      "text/plain": [
       "{1: 'one', 2: 'two', 3: 'three'}"
      ]
     },
     "execution_count": 50,
     "metadata": {},
     "output_type": "execute_result"
    }
   ],
   "source": [
    "#removing item in dict\n",
    "info.pop(0)"
   ]
  },
  {
   "cell_type": "code",
   "execution_count": 51,
   "id": "882b4e78-7856-4906-a725-86cb4e25dc6e",
   "metadata": {},
   "outputs": [
    {
     "data": {
      "text/plain": [
       "{1: {2: ['pune', 'banglore', 'hydrabad', 12],\n",
       "  3: {'character': 'luffy', 'anime': 'one piece'}}}"
      ]
     },
     "execution_count": 51,
     "metadata": {},
     "output_type": "execute_result"
    }
   ],
   "source": [
    "info"
   ]
  },
  {
   "cell_type": "code",
   "execution_count": 52,
   "id": "6bb02cc1-84a1-47d6-923f-4a374edd2560",
   "metadata": {},
   "outputs": [
    {
     "data": {
      "text/plain": [
       "(1,\n",
       " {2: ['pune', 'banglore', 'hydrabad', 12],\n",
       "  3: {'character': 'luffy', 'anime': 'one piece'}})"
      ]
     },
     "execution_count": 52,
     "metadata": {},
     "output_type": "execute_result"
    }
   ],
   "source": [
    "#removing random item in dict\n",
    "info.popitem()"
   ]
  },
  {
   "cell_type": "code",
   "execution_count": 53,
   "id": "9a11465d-a6af-4db6-a946-f27af4c516e2",
   "metadata": {},
   "outputs": [
    {
     "data": {
      "text/plain": [
       "{}"
      ]
     },
     "execution_count": 53,
     "metadata": {},
     "output_type": "execute_result"
    }
   ],
   "source": [
    "info"
   ]
  },
  {
   "cell_type": "code",
   "execution_count": 64,
   "id": "1ddfb6f6-ae77-4454-b109-d4a62c8a3c35",
   "metadata": {},
   "outputs": [
    {
     "data": {
      "text/plain": [
       "{0: {1: 'one', 2: 'two', 3: 'three'},\n",
       " 1: {2: ['pune', 'banglore', 'hydrabad', 12],\n",
       "  3: {'character': 'luffy', 'anime': 'one piece'}}}"
      ]
     },
     "execution_count": 64,
     "metadata": {},
     "output_type": "execute_result"
    }
   ],
   "source": [
    "info = {0:{1:'one' , 2:'two' , 3:'three'},\n",
    "        1:{2:['pune','banglore','hydrabad',12], 3:{'character' : 'luffy' , 'anime' : 'one piece'}}}\n",
    "info"
   ]
  },
  {
   "cell_type": "code",
   "execution_count": 65,
   "id": "77de6658-f593-4412-a237-3a1ef44ee9e7",
   "metadata": {},
   "outputs": [],
   "source": [
    "#removing item using del\n",
    "del info[1]"
   ]
  },
  {
   "cell_type": "code",
   "execution_count": 66,
   "id": "3059d99b-8908-479d-95c0-2fb81f0e895f",
   "metadata": {},
   "outputs": [
    {
     "data": {
      "text/plain": [
       "{0: {1: 'one', 2: 'two', 3: 'three'}}"
      ]
     },
     "execution_count": 66,
     "metadata": {},
     "output_type": "execute_result"
    }
   ],
   "source": [
    "info"
   ]
  },
  {
   "cell_type": "code",
   "execution_count": 67,
   "id": "6e23db84-1e83-4eb9-8105-b1f3f8e200e7",
   "metadata": {},
   "outputs": [
    {
     "data": {
      "text/plain": [
       "{}"
      ]
     },
     "execution_count": 67,
     "metadata": {},
     "output_type": "execute_result"
    }
   ],
   "source": [
    "#delete all items of dictionary\n",
    "info.clear()\n",
    "info"
   ]
  },
  {
   "cell_type": "code",
   "execution_count": 68,
   "id": "396f0d3b-8b28-4dbe-8144-9f374b8e3605",
   "metadata": {},
   "outputs": [],
   "source": [
    "#delete dictionary object\n",
    "del info"
   ]
  },
  {
   "cell_type": "code",
   "execution_count": 69,
   "id": "b33d44e4-93fc-4241-9fa3-caf0d4b32f4a",
   "metadata": {},
   "outputs": [
    {
     "ename": "NameError",
     "evalue": "name 'info' is not defined",
     "output_type": "error",
     "traceback": [
      "\u001b[1;31m---------------------------------------------------------------------------\u001b[0m",
      "\u001b[1;31mNameError\u001b[0m                                 Traceback (most recent call last)",
      "Cell \u001b[1;32mIn[69], line 1\u001b[0m\n\u001b[1;32m----> 1\u001b[0m info\n",
      "\u001b[1;31mNameError\u001b[0m: name 'info' is not defined"
     ]
    }
   ],
   "source": [
    "info"
   ]
  },
  {
   "cell_type": "code",
   "execution_count": null,
   "id": "a25f6183-e0eb-42e0-bdb8-3f0c316617bb",
   "metadata": {},
   "outputs": [],
   "source": []
  }
 ],
 "metadata": {
  "kernelspec": {
   "display_name": "Python 3 (ipykernel)",
   "language": "python",
   "name": "python3"
  },
  "language_info": {
   "codemirror_mode": {
    "name": "ipython",
    "version": 3
   },
   "file_extension": ".py",
   "mimetype": "text/x-python",
   "name": "python",
   "nbconvert_exporter": "python",
   "pygments_lexer": "ipython3",
   "version": "3.12.4"
  }
 },
 "nbformat": 4,
 "nbformat_minor": 5
}
