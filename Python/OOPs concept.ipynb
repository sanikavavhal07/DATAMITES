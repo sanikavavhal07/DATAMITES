{
 "cells": [
  {
   "cell_type": "code",
   "execution_count": 1,
   "id": "f13e85ce-0570-4f61-b096-499fce2d0d8e",
   "metadata": {},
   "outputs": [
    {
     "name": "stdout",
     "output_type": "stream",
     "text": [
      "Addition: 15\n",
      "Subtraction: 5\n",
      "Multiplication: 50\n",
      "Division: 2.0\n"
     ]
    }
   ],
   "source": [
    "class Calculator:\n",
    "    def __init__(self, a, b):\n",
    "        self.a = a\n",
    "        self.b = b\n",
    "\n",
    "    def add(self):\n",
    "        return self.a + self.b\n",
    "\n",
    "    def subtract(self):\n",
    "        return self.a - self.b\n",
    "\n",
    "    def multiply(self):\n",
    "        return self.a * self.b\n",
    "\n",
    "    def divide(self):\n",
    "        if self.b != 0:\n",
    "            return self.a / self.b\n",
    "        else:\n",
    "            return \"Division by zero is undefined\"\n",
    "calc = Calculator(10, 5)\n",
    "\n",
    "print(f\"Addition: {calc.add()}\")\n",
    "print(f\"Subtraction: {calc.subtract()}\")\n",
    "print(f\"Multiplication: {calc.multiply()}\")\n",
    "print(f\"Division: {calc.divide()}\")"
   ]
  },
  {
   "cell_type": "code",
   "execution_count": 9,
   "id": "12b7e1a8-b32e-4dae-8b76-9e9456ac1f44",
   "metadata": {},
   "outputs": [],
   "source": [
    "#single inheriance\n",
    "class parent:\n",
    "    def get(self):\n",
    "        self.a = 10\n",
    "        self.b = 5"
   ]
  },
  {
   "cell_type": "code",
   "execution_count": 5,
   "id": "0348a059-3f8b-4e18-a0d6-48a4c05306f0",
   "metadata": {},
   "outputs": [],
   "source": [
    "class child(parent):\n",
    "    def show(self):\n",
    "        print(self.a + self.b)"
   ]
  },
  {
   "cell_type": "code",
   "execution_count": 8,
   "id": "87f6a41b-62da-4daa-96cd-1f00211637db",
   "metadata": {},
   "outputs": [
    {
     "name": "stdout",
     "output_type": "stream",
     "text": [
      "15\n"
     ]
    }
   ],
   "source": [
    "obj = child()\n",
    "obj.get()\n",
    "obj.show()"
   ]
  },
  {
   "cell_type": "code",
   "execution_count": 3,
   "id": "d70397ec-3b2f-4ccf-b1ee-98b5e2b5b92e",
   "metadata": {},
   "outputs": [],
   "source": [
    "#multiple inheriance\n",
    "class parent1:\n",
    "    def get1(self):\n",
    "        self.a = 10"
   ]
  },
  {
   "cell_type": "code",
   "execution_count": 4,
   "id": "793a98a5-4e9a-4fa9-9843-36562ad060ba",
   "metadata": {},
   "outputs": [],
   "source": [
    "class parent2:\n",
    "    def get2(self):\n",
    "        self.b = 5"
   ]
  },
  {
   "cell_type": "code",
   "execution_count": 5,
   "id": "e69cb75b-0c08-4e66-8974-cd9e845057a8",
   "metadata": {},
   "outputs": [],
   "source": [
    "class child(parent1,parent2):\n",
    "    def show(self):\n",
    "        print(self.a + self.b)"
   ]
  },
  {
   "cell_type": "code",
   "execution_count": 6,
   "id": "4a25d588-1caa-49d0-afa7-745d33b8a7da",
   "metadata": {},
   "outputs": [
    {
     "name": "stdout",
     "output_type": "stream",
     "text": [
      "15\n"
     ]
    }
   ],
   "source": [
    "obj = child()\n",
    "obj.get1()\n",
    "obj.get2()\n",
    "obj.show()"
   ]
  },
  {
   "cell_type": "code",
   "execution_count": 7,
   "id": "b7c2c2f5-6c05-473f-a066-e66d4c9e08be",
   "metadata": {},
   "outputs": [],
   "source": [
    "#multi level inheritance\n",
    "class parent1:\n",
    "    def get(self):\n",
    "        self.a = 10\n",
    "        self.b = 5"
   ]
  },
  {
   "cell_type": "code",
   "execution_count": 13,
   "id": "f62e09c3-3eb2-4b7e-9ece-ae523084765f",
   "metadata": {},
   "outputs": [],
   "source": [
    "class child1(parent1):\n",
    "    def add(self):\n",
    "        self.c = self.a + self.b"
   ]
  },
  {
   "cell_type": "code",
   "execution_count": 14,
   "id": "61597e4a-c581-4afb-8b8e-55399fe6e16b",
   "metadata": {},
   "outputs": [],
   "source": [
    "class child2(child1):\n",
    "    def show(self):\n",
    "        print(self.c)"
   ]
  },
  {
   "cell_type": "code",
   "execution_count": 15,
   "id": "af7a171b-3d75-46f3-952b-06cb68e50d3a",
   "metadata": {},
   "outputs": [
    {
     "name": "stdout",
     "output_type": "stream",
     "text": [
      "15\n"
     ]
    }
   ],
   "source": [
    "obj = child2()\n",
    "obj.get()\n",
    "obj.add()\n",
    "obj.show()"
   ]
  },
  {
   "cell_type": "code",
   "execution_count": 16,
   "id": "5dbafd9e-0ad2-40b8-91af-4efbe449a00a",
   "metadata": {},
   "outputs": [],
   "source": [
    "#hierarchical inheritance\n",
    "class parent1:\n",
    "    def get1(self):\n",
    "        self.a = 10\n",
    "        self.b = 5"
   ]
  },
  {
   "cell_type": "code",
   "execution_count": 26,
   "id": "c51c42a1-13d7-42fe-9a9e-65b1c91ed614",
   "metadata": {},
   "outputs": [],
   "source": [
    "class child1(parent1):\n",
    "    def add(self):\n",
    "        self.c = self.a + self.b\n",
    "        print(self.c)"
   ]
  },
  {
   "cell_type": "code",
   "execution_count": 27,
   "id": "600e0f4b-f0e9-4b9c-ac25-9316e7b2e853",
   "metadata": {},
   "outputs": [],
   "source": [
    "class child2(parent1):\n",
    "    def sub(self):\n",
    "        self.c = self.a - self.b\n",
    "        print(self.c)"
   ]
  },
  {
   "cell_type": "code",
   "execution_count": 28,
   "id": "3facfdd3-2297-4cc9-b74b-7e51c7d4f0d3",
   "metadata": {},
   "outputs": [
    {
     "name": "stdout",
     "output_type": "stream",
     "text": [
      "15\n",
      "5\n"
     ]
    }
   ],
   "source": [
    "obj1 = child1()\n",
    "obj2 = child2()\n",
    "obj1.get1()\n",
    "obj2.get1()\n",
    "obj1.add()\n",
    "obj2.sub()"
   ]
  },
  {
   "cell_type": "code",
   "execution_count": null,
   "id": "2b8faea4-bad8-477e-9675-fdb9b46fbfbc",
   "metadata": {},
   "outputs": [],
   "source": []
  }
 ],
 "metadata": {
  "kernelspec": {
   "display_name": "Python 3 (ipykernel)",
   "language": "python",
   "name": "python3"
  },
  "language_info": {
   "codemirror_mode": {
    "name": "ipython",
    "version": 3
   },
   "file_extension": ".py",
   "mimetype": "text/x-python",
   "name": "python",
   "nbconvert_exporter": "python",
   "pygments_lexer": "ipython3",
   "version": "3.12.4"
  }
 },
 "nbformat": 4,
 "nbformat_minor": 5
}
