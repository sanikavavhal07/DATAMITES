{
 "cells": [
  {
   "cell_type": "code",
   "execution_count": 8,
   "id": "d786fae6-9ca2-49db-8bd9-710b321df22e",
   "metadata": {},
   "outputs": [
    {
     "data": {
      "text/plain": [
       "5"
      ]
     },
     "execution_count": 8,
     "metadata": {},
     "output_type": "execute_result"
    }
   ],
   "source": [
    "def add(a,b): # function defination\n",
    "    return a+b\n",
    "add(2,3) # function call"
   ]
  },
  {
   "cell_type": "code",
   "execution_count": 9,
   "id": "e7adcd5a-573b-4aab-ab83-be7f3c452b53",
   "metadata": {},
   "outputs": [
    {
     "data": {
      "text/plain": [
       "12"
      ]
     },
     "execution_count": 9,
     "metadata": {},
     "output_type": "execute_result"
    }
   ],
   "source": [
    "add(4,8)"
   ]
  },
  {
   "cell_type": "code",
   "execution_count": 10,
   "id": "5e694a14-784b-4312-a04e-3dbcd8744f09",
   "metadata": {},
   "outputs": [
    {
     "data": {
      "text/plain": [
       "116"
      ]
     },
     "execution_count": 10,
     "metadata": {},
     "output_type": "execute_result"
    }
   ],
   "source": [
    "add(78,38)  "
   ]
  },
  {
   "cell_type": "code",
   "execution_count": 11,
   "id": "b39aeffd-e91b-4ccb-bc03-54419a7138b1",
   "metadata": {},
   "outputs": [
    {
     "data": {
      "text/plain": [
       "6"
      ]
     },
     "execution_count": 11,
     "metadata": {},
     "output_type": "execute_result"
    }
   ],
   "source": [
    "def add(a=2,b=4): #giving default value to argument\n",
    "    return a+b\n",
    "add()"
   ]
  },
  {
   "cell_type": "code",
   "execution_count": 12,
   "id": "517a535f-354f-44e8-84ea-bffa5d68a937",
   "metadata": {},
   "outputs": [
    {
     "data": {
      "text/plain": [
       "11"
      ]
     },
     "execution_count": 12,
     "metadata": {},
     "output_type": "execute_result"
    }
   ],
   "source": [
    "add(7)"
   ]
  },
  {
   "cell_type": "markdown",
   "id": "5bd66bb4-1e68-4d70-b414-9f5a6f565171",
   "metadata": {},
   "source": [
    "area of circle"
   ]
  },
  {
   "cell_type": "code",
   "execution_count": 16,
   "id": "028166c0-7bf0-4227-9d0e-6dbdf27880e9",
   "metadata": {},
   "outputs": [
    {
     "data": {
      "text/plain": [
       "50.24"
      ]
     },
     "execution_count": 16,
     "metadata": {},
     "output_type": "execute_result"
    }
   ],
   "source": [
    "def area_of_circle(radius):\n",
    "    area = 3.14 * (radius**2)\n",
    "    return area\n",
    "area_of_circle(4)"
   ]
  },
  {
   "cell_type": "code",
   "execution_count": null,
   "id": "080d5207-b5b6-40ab-9f2e-35748c53ec67",
   "metadata": {},
   "outputs": [],
   "source": []
  }
 ],
 "metadata": {
  "kernelspec": {
   "display_name": "Python 3 (ipykernel)",
   "language": "python",
   "name": "python3"
  },
  "language_info": {
   "codemirror_mode": {
    "name": "ipython",
    "version": 3
   },
   "file_extension": ".py",
   "mimetype": "text/x-python",
   "name": "python",
   "nbconvert_exporter": "python",
   "pygments_lexer": "ipython3",
   "version": "3.12.4"
  }
 },
 "nbformat": 4,
 "nbformat_minor": 5
}
