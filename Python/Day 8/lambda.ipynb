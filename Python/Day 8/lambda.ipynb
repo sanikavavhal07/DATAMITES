{
 "cells": [
  {
   "cell_type": "code",
   "execution_count": 10,
   "id": "ff6843ec-b786-4d95-870b-5e4cebd157ee",
   "metadata": {},
   "outputs": [
    {
     "name": "stdin",
     "output_type": "stream",
     "text": [
      "Enter the first number:  2\n",
      "Enter the second number:  4\n"
     ]
    },
    {
     "name": "stdout",
     "output_type": "stream",
     "text": [
      "The greater number is: 4\n"
     ]
    }
   ],
   "source": [
    "#finding greater number using lambda\n",
    "a = int(input(\"Enter the first number: \"))\n",
    "b = int(input(\"Enter the second number: \"))\n",
    "greater = lambda a, b: a if a > b else b\n",
    "print(f\"The greater number is: {greater(a, b)}\")"
   ]
  },
  {
   "cell_type": "code",
   "execution_count": 11,
   "id": "3e5b2c67-d908-4981-b332-ec6e7c25c801",
   "metadata": {},
   "outputs": [
    {
     "name": "stdin",
     "output_type": "stream",
     "text": [
      "Enter radius of circle:  4\n"
     ]
    },
    {
     "name": "stdout",
     "output_type": "stream",
     "text": [
      "Area of circle is: 50.24\n"
     ]
    }
   ],
   "source": [
    "#area of circle\n",
    "radius = float(input(\"Enter radius of circle: \"))\n",
    "area = lambda radius: 3.14 * (radius**2)\n",
    "print(f\"Area of circle is: {area(radius)}\")"
   ]
  },
  {
   "cell_type": "markdown",
   "id": "300e7362-3e19-4d79-a0ad-f0d65203870a",
   "metadata": {},
   "source": [
    "## filter function"
   ]
  },
  {
   "cell_type": "code",
   "execution_count": 8,
   "id": "3c5cd0b0-e939-470a-9395-b9e2b299b2eb",
   "metadata": {},
   "outputs": [
    {
     "data": {
      "text/plain": [
       "[1, 3, 5, 7, 9]"
      ]
     },
     "execution_count": 8,
     "metadata": {},
     "output_type": "execute_result"
    }
   ],
   "source": [
    "#using lambda for collection\n",
    "#takes two input\n",
    "my_list = [1,2,3,4,5,6,7,8,9,10]\n",
    "list(filter(lambda x: x % 2 == 1, my_list))"
   ]
  },
  {
   "cell_type": "code",
   "execution_count": 9,
   "id": "4c98af4d-e688-4db1-b6b8-a8dd382b59f3",
   "metadata": {},
   "outputs": [
    {
     "data": {
      "text/plain": [
       "[15]"
      ]
     },
     "execution_count": 9,
     "metadata": {},
     "output_type": "execute_result"
    }
   ],
   "source": [
    "div_3_5 = [1,2,3,4,5,6,7,8,9,10,11,12,13,14,15,16,17,18,19,20]\n",
    "list(filter(lambda x: x % 3 == 0 and x % 5 == 0, div_3_5))"
   ]
  },
  {
   "cell_type": "markdown",
   "id": "e7c83625-c900-4062-9744-3af930a4dc73",
   "metadata": {},
   "source": [
    "## map"
   ]
  },
  {
   "cell_type": "code",
   "execution_count": 10,
   "id": "37f09109-fd30-489b-b43c-85ccd5037b3c",
   "metadata": {},
   "outputs": [
    {
     "data": {
      "text/plain": [
       "[1, 4, 9, 16, 25, 36, 49, 64, 81, 100]"
      ]
     },
     "execution_count": 10,
     "metadata": {},
     "output_type": "execute_result"
    }
   ],
   "source": [
    "#map function performs operation on each element of list \n",
    "#takes two input\n",
    "my_list2 = [1,2,3,4,5,6,7,8,9,10]\n",
    "list(map(lambda x : x**2,my_list2))"
   ]
  },
  {
   "cell_type": "markdown",
   "id": "673a0d7c-fae9-4153-a9da-dde792efbc63",
   "metadata": {},
   "source": [
    "## reduce"
   ]
  },
  {
   "cell_type": "code",
   "execution_count": 15,
   "id": "e238bad0-92e4-4bae-8e84-1bb8842f57e8",
   "metadata": {},
   "outputs": [
    {
     "data": {
      "text/plain": [
       "55"
      ]
     },
     "execution_count": 15,
     "metadata": {},
     "output_type": "execute_result"
    }
   ],
   "source": [
    "# reduce used to return single value from list\n",
    "# takes two input\n",
    "import functools\n",
    "functools.reduce(lambda x,y: x+y,my_list2)"
   ]
  },
  {
   "cell_type": "code",
   "execution_count": 16,
   "id": "30e11efc-29c6-4f2b-8ed4-3f5bb29eff11",
   "metadata": {},
   "outputs": [
    {
     "data": {
      "text/plain": [
       "10"
      ]
     },
     "execution_count": 16,
     "metadata": {},
     "output_type": "execute_result"
    }
   ],
   "source": [
    "import functools\n",
    "functools.reduce(lambda a, b: a if a > b else b, my_list2)"
   ]
  }
 ],
 "metadata": {
  "kernelspec": {
   "display_name": "Python 3 (ipykernel)",
   "language": "python",
   "name": "python3"
  },
  "language_info": {
   "codemirror_mode": {
    "name": "ipython",
    "version": 3
   },
   "file_extension": ".py",
   "mimetype": "text/x-python",
   "name": "python",
   "nbconvert_exporter": "python",
   "pygments_lexer": "ipython3",
   "version": "3.12.4"
  }
 },
 "nbformat": 4,
 "nbformat_minor": 5
}
