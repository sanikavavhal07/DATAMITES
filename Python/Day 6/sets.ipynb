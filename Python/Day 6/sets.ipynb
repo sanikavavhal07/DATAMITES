{
 "cells": [
  {
   "cell_type": "code",
   "execution_count": 1,
   "id": "cbee917d-64b6-4d6b-bb20-b62d69952239",
   "metadata": {},
   "outputs": [],
   "source": [
    "# enclosed in {} seperated by , \n",
    "# workes only for unique value\n",
    "# indexing does not work\n",
    "# unordered\n",
    "# we cannot leave set empty set1 = {} not allowed for defining empty set set() function is used\n",
    "# set operations can be performed - union, intersection, difference"
   ]
  },
  {
   "cell_type": "code",
   "execution_count": 2,
   "id": "fab711db-80ba-4298-a022-4c0a5dede49e",
   "metadata": {},
   "outputs": [],
   "source": [
    "my_set = {}"
   ]
  },
  {
   "cell_type": "code",
   "execution_count": 3,
   "id": "3b7ed0c4-b9ee-4066-bb8b-e4fbdc158d36",
   "metadata": {},
   "outputs": [
    {
     "data": {
      "text/plain": [
       "dict"
      ]
     },
     "execution_count": 3,
     "metadata": {},
     "output_type": "execute_result"
    }
   ],
   "source": [
    "type(my_set)"
   ]
  },
  {
   "cell_type": "code",
   "execution_count": 4,
   "id": "73e60745-ddc8-473c-ba28-a468abc2039e",
   "metadata": {},
   "outputs": [
    {
     "data": {
      "text/plain": [
       "{1, 2, 3, 4, 5, 6, 7}"
      ]
     },
     "execution_count": 4,
     "metadata": {},
     "output_type": "execute_result"
    }
   ],
   "source": [
    "my_set = {1,2,3,4,5,6,7,2,5,1}\n",
    "my_set"
   ]
  },
  {
   "cell_type": "code",
   "execution_count": 6,
   "id": "ededa88f-928c-4891-ae2a-a7bb679cb4d3",
   "metadata": {},
   "outputs": [
    {
     "data": {
      "text/plain": [
       "{1, 3, 5, 7, 20, 21, 34, 56, 90}"
      ]
     },
     "execution_count": 6,
     "metadata": {},
     "output_type": "execute_result"
    }
   ],
   "source": [
    "my_set2 = {20,3,5,1,90,56,34,21,7}\n",
    "my_set2"
   ]
  },
  {
   "cell_type": "code",
   "execution_count": 9,
   "id": "789c9f48-f037-424c-8f99-ce4cd70f54b8",
   "metadata": {},
   "outputs": [
    {
     "data": {
      "text/plain": [
       "set"
      ]
     },
     "execution_count": 9,
     "metadata": {},
     "output_type": "execute_result"
    }
   ],
   "source": [
    "type(my_set)"
   ]
  },
  {
   "cell_type": "code",
   "execution_count": 11,
   "id": "b42b197d-a18f-4c7f-81f3-412fcdd5cdeb",
   "metadata": {},
   "outputs": [
    {
     "data": {
      "text/plain": [
       "{(34, 76, 12, 78), 1, 3.67, 34, 67, 'robin', 'zoro'}"
      ]
     },
     "execution_count": 11,
     "metadata": {},
     "output_type": "execute_result"
    }
   ],
   "source": [
    "my_set3 = {1,34,\"robin\",\"zoro\",3.67,(34,76,12,78),67}\n",
    "my_set3"
   ]
  },
  {
   "cell_type": "markdown",
   "id": "672ad4f5-847b-4f58-883d-df4ef3b87252",
   "metadata": {},
   "source": [
    "Add and Remove items\n"
   ]
  },
  {
   "cell_type": "code",
   "execution_count": 14,
   "id": "a2b70a6e-cc1e-44b1-8297-4c154c71d20e",
   "metadata": {},
   "outputs": [
    {
     "data": {
      "text/plain": [
       "{1, 2, 3, 4, 5, 6, 7, 24}"
      ]
     },
     "execution_count": 14,
     "metadata": {},
     "output_type": "execute_result"
    }
   ],
   "source": [
    "my_set = {1,2,3,4,5,6,7,2,5,1}\n",
    "my_set.add(24)\n",
    "my_set\n",
    "#cannot add duplicate valus"
   ]
  },
  {
   "cell_type": "code",
   "execution_count": 15,
   "id": "5a331ea9-cf75-4274-9fed-966d7092db98",
   "metadata": {},
   "outputs": [
    {
     "ename": "TypeError",
     "evalue": "'set' object is not subscriptable",
     "output_type": "error",
     "traceback": [
      "\u001b[1;31m---------------------------------------------------------------------------\u001b[0m",
      "\u001b[1;31mTypeError\u001b[0m                                 Traceback (most recent call last)",
      "Cell \u001b[1;32mIn[15], line 1\u001b[0m\n\u001b[1;32m----> 1\u001b[0m my_set[\u001b[38;5;241m1\u001b[39m]\n",
      "\u001b[1;31mTypeError\u001b[0m: 'set' object is not subscriptable"
     ]
    }
   ],
   "source": [
    "my_set[1]\n",
    "#indexing does not work"
   ]
  },
  {
   "cell_type": "code",
   "execution_count": 16,
   "id": "99a28926-3ded-4f83-b882-526c6654bd7f",
   "metadata": {},
   "outputs": [
    {
     "data": {
      "text/plain": [
       "{1, 2, 24, 3, 4, 5, 6, 7, 'ten', 'twenty'}"
      ]
     },
     "execution_count": 16,
     "metadata": {},
     "output_type": "execute_result"
    }
   ],
   "source": [
    "my_set.update([\"ten\",\"twenty\"])\n",
    "my_set\n"
   ]
  },
  {
   "cell_type": "code",
   "execution_count": 17,
   "id": "220afdd2-729e-4a11-bcd1-ce89128c82f4",
   "metadata": {},
   "outputs": [
    {
     "data": {
      "text/plain": [
       "{1, 2, 24, 3, 4, 5, 6, 7, 'twenty'}"
      ]
     },
     "execution_count": 17,
     "metadata": {},
     "output_type": "execute_result"
    }
   ],
   "source": [
    "my_set.remove(\"ten\")\n",
    "my_set\n"
   ]
  },
  {
   "cell_type": "code",
   "execution_count": 19,
   "id": "383c3439-5da5-4f16-8320-63efbf374cbf",
   "metadata": {},
   "outputs": [
    {
     "data": {
      "text/plain": [
       "{1, 2, 24, 3, 4, 5, 6, 7, False, 'twenty'}"
      ]
     },
     "execution_count": 19,
     "metadata": {},
     "output_type": "execute_result"
    }
   ],
   "source": [
    "my_set.update([False])\n",
    "my_set"
   ]
  },
  {
   "cell_type": "code",
   "execution_count": 22,
   "id": "a7d775b6-68c6-4c36-9c8e-f2c51bcc2aed",
   "metadata": {},
   "outputs": [
    {
     "data": {
      "text/plain": [
       "{1, 2, 24, 3, 4, 40, 5, 6, 7, 70, False, 'twenty'}"
      ]
     },
     "execution_count": 22,
     "metadata": {},
     "output_type": "execute_result"
    }
   ],
   "source": [
    "my_set.update((1,2,3,4,70,40))\n",
    "my_set"
   ]
  },
  {
   "cell_type": "markdown",
   "id": "60710fc9-fd7e-4c79-a409-2e732eda5099",
   "metadata": {},
   "source": [
    "Set Operations"
   ]
  },
  {
   "cell_type": "code",
   "execution_count": 23,
   "id": "55009355-89a4-49b3-9349-ae659a0c9041",
   "metadata": {},
   "outputs": [],
   "source": [
    "set1 = {1,2,3,4,5}\n",
    "set2 = {4,5,6,7,8}\n",
    "set3 = {1,3,5,21,34,56}"
   ]
  },
  {
   "cell_type": "code",
   "execution_count": 24,
   "id": "c41b8b72-00ee-4b21-8078-5af568369f43",
   "metadata": {},
   "outputs": [
    {
     "data": {
      "text/plain": [
       "{1, 2, 3, 4, 5, 6, 7, 8}"
      ]
     },
     "execution_count": 24,
     "metadata": {},
     "output_type": "execute_result"
    }
   ],
   "source": [
    "set1.union(set2)"
   ]
  },
  {
   "cell_type": "code",
   "execution_count": 25,
   "id": "8065a310-b595-4405-ab50-ea70bcfa63dd",
   "metadata": {},
   "outputs": [
    {
     "data": {
      "text/plain": [
       "{1, 2, 3, 4, 5, 6, 7, 8}"
      ]
     },
     "execution_count": 25,
     "metadata": {},
     "output_type": "execute_result"
    }
   ],
   "source": [
    "set2.union(set1)"
   ]
  },
  {
   "cell_type": "code",
   "execution_count": 28,
   "id": "9e14586a-fa1c-461c-897d-846ef9563ce7",
   "metadata": {},
   "outputs": [
    {
     "data": {
      "text/plain": [
       "{1, 2, 3, 4, 5, 6, 7, 8, 21, 34, 56}"
      ]
     },
     "execution_count": 28,
     "metadata": {},
     "output_type": "execute_result"
    }
   ],
   "source": [
    "set4 = set1.union(set2,set3)\n",
    "set4"
   ]
  },
  {
   "cell_type": "code",
   "execution_count": 29,
   "id": "89f9ca82-95eb-4498-a8b8-997e615a6363",
   "metadata": {},
   "outputs": [
    {
     "data": {
      "text/plain": [
       "{1, 2, 3, 4, 5}"
      ]
     },
     "execution_count": 29,
     "metadata": {},
     "output_type": "execute_result"
    }
   ],
   "source": [
    "set1"
   ]
  },
  {
   "cell_type": "code",
   "execution_count": 30,
   "id": "93601063-4d38-4a76-bceb-dbd7e7737115",
   "metadata": {},
   "outputs": [
    {
     "data": {
      "text/plain": [
       "{4, 5}"
      ]
     },
     "execution_count": 30,
     "metadata": {},
     "output_type": "execute_result"
    }
   ],
   "source": [
    "set1.intersection(set2)"
   ]
  },
  {
   "cell_type": "code",
   "execution_count": 31,
   "id": "d9155a08-1c39-4872-87fc-464bb17f0a12",
   "metadata": {},
   "outputs": [
    {
     "data": {
      "text/plain": [
       "{1, 2, 3}"
      ]
     },
     "execution_count": 31,
     "metadata": {},
     "output_type": "execute_result"
    }
   ],
   "source": [
    "set1.difference(set2) # set1 - set2"
   ]
  },
  {
   "cell_type": "code",
   "execution_count": 32,
   "id": "a541d56d-59e4-42da-8985-c6e73a7d7fe3",
   "metadata": {},
   "outputs": [
    {
     "data": {
      "text/plain": [
       "{6, 7, 8}"
      ]
     },
     "execution_count": 32,
     "metadata": {},
     "output_type": "execute_result"
    }
   ],
   "source": [
    "set2.difference(set1) #set2 - set1\n"
   ]
  },
  {
   "cell_type": "code",
   "execution_count": 39,
   "id": "53333605-7320-4784-aeb7-52e7e797b2dd",
   "metadata": {},
   "outputs": [
    {
     "data": {
      "text/plain": [
       "{1, 2, 3, 6, 7, 8}"
      ]
     },
     "execution_count": 39,
     "metadata": {},
     "output_type": "execute_result"
    }
   ],
   "source": [
    "set1.union(set2) - set1.intersection(set2)\n",
    "set1.difference(set2).union(set2.difference(set1))"
   ]
  },
  {
   "cell_type": "code",
   "execution_count": null,
   "id": "bfc78b33-8129-460b-918e-7ebede263762",
   "metadata": {},
   "outputs": [],
   "source": []
  }
 ],
 "metadata": {
  "kernelspec": {
   "display_name": "Python 3 (ipykernel)",
   "language": "python",
   "name": "python3"
  },
  "language_info": {
   "codemirror_mode": {
    "name": "ipython",
    "version": 3
   },
   "file_extension": ".py",
   "mimetype": "text/x-python",
   "name": "python",
   "nbconvert_exporter": "python",
   "pygments_lexer": "ipython3",
   "version": "3.12.4"
  }
 },
 "nbformat": 4,
 "nbformat_minor": 5
}
