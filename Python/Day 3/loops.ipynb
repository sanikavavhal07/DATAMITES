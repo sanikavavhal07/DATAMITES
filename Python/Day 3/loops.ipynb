{
 "cells": [
  {
   "cell_type": "code",
   "execution_count": 4,
   "id": "9d41f6dc-2b5b-46bd-8434-ff7ea8a37a5f",
   "metadata": {},
   "outputs": [
    {
     "data": {
      "text/plain": [
       "[0, 5, 10, 15, 20, 25, 30, 35, 40, 45, 50]"
      ]
     },
     "execution_count": 4,
     "metadata": {},
     "output_type": "execute_result"
    }
   ],
   "source": [
    "list(range(0,51,5))"
   ]
  },
  {
   "cell_type": "code",
   "execution_count": 6,
   "id": "371e58b2-078c-47fb-9846-7cc5253a5276",
   "metadata": {},
   "outputs": [
    {
     "data": {
      "text/plain": [
       "[50, 45, 40, 35, 30, 25, 20, 15, 10, 5]"
      ]
     },
     "execution_count": 6,
     "metadata": {},
     "output_type": "execute_result"
    }
   ],
   "source": [
    "list(range(50,0,-5))"
   ]
  },
  {
   "cell_type": "code",
   "execution_count": 10,
   "id": "3a3ae2b5-8fbe-4bb0-833d-3b0dc6bbef6d",
   "metadata": {},
   "outputs": [
    {
     "name": "stdin",
     "output_type": "stream",
     "text": [
      " 9\n"
     ]
    },
    {
     "name": "stdout",
     "output_type": "stream",
     "text": [
      "9\n",
      "18\n",
      "27\n",
      "36\n",
      "45\n",
      "54\n",
      "63\n",
      "72\n",
      "81\n",
      "90\n",
      "outside for loop\n"
     ]
    }
   ],
   "source": [
    "num = int(input())\n",
    "for i in range(1,11):\n",
    "    print(i*num)\n",
    "print(\"outside for loop\")\n",
    "    "
   ]
  },
  {
   "cell_type": "code",
   "execution_count": 11,
   "id": "b871a757-7d36-456a-b7b0-f7b3d74a94f8",
   "metadata": {},
   "outputs": [
    {
     "name": "stdin",
     "output_type": "stream",
     "text": [
      " 9\n"
     ]
    },
    {
     "name": "stdout",
     "output_type": "stream",
     "text": [
      "1\n",
      "2\n",
      "3\n",
      "4\n",
      "5\n",
      "6\n",
      "7\n",
      "8\n",
      "9\n"
     ]
    }
   ],
   "source": [
    "num = int(input())\n",
    "for i in range(1 , num+1):\n",
    "    print(i)"
   ]
  },
  {
   "cell_type": "code",
   "execution_count": 12,
   "id": "cf3fc597-bcc4-4293-9c38-2a697322755c",
   "metadata": {},
   "outputs": [
    {
     "data": {
      "text/plain": [
       "[]"
      ]
     },
     "execution_count": 12,
     "metadata": {},
     "output_type": "execute_result"
    }
   ],
   "source": [
    "list(range(100,30))"
   ]
  },
  {
   "cell_type": "code",
   "execution_count": 15,
   "id": "901859e3-fe91-46ad-8d68-3cc2bd9a5c9b",
   "metadata": {},
   "outputs": [
    {
     "data": {
      "text/plain": [
       "[100, 90, 80, 70, 60, 50, 40]"
      ]
     },
     "execution_count": 15,
     "metadata": {},
     "output_type": "execute_result"
    }
   ],
   "source": [
    "list(range(100,30,-10))"
   ]
  },
  {
   "cell_type": "code",
   "execution_count": 16,
   "id": "d19508a4-f927-45da-9808-38659c5fdf5a",
   "metadata": {},
   "outputs": [
    {
     "data": {
      "text/plain": [
       "[]"
      ]
     },
     "execution_count": 16,
     "metadata": {},
     "output_type": "execute_result"
    }
   ],
   "source": [
    "list(range(10,30,-10))"
   ]
  },
  {
   "cell_type": "code",
   "execution_count": 17,
   "id": "da610f92-762c-4c59-b4a6-e26706f1aeb5",
   "metadata": {},
   "outputs": [
    {
     "name": "stdout",
     "output_type": "stream",
     "text": [
      "0\n",
      "1\n",
      "2\n",
      "3\n",
      "4\n",
      "5\n",
      "6\n",
      "7\n",
      "8\n",
      "9\n",
      "10\n"
     ]
    }
   ],
   "source": [
    "for i in range(11):\n",
    "    print(i)"
   ]
  },
  {
   "cell_type": "code",
   "execution_count": 18,
   "id": "72007f69-23be-4119-90ab-a2df619c5c91",
   "metadata": {},
   "outputs": [
    {
     "name": "stdout",
     "output_type": "stream",
     "text": [
      "1\n",
      "2\n",
      "3\n",
      "4\n",
      "5\n",
      "6\n",
      "7\n",
      "8\n",
      "9\n",
      "10\n"
     ]
    }
   ],
   "source": [
    "for i in range(1,11):\n",
    "    print(i)"
   ]
  },
  {
   "cell_type": "code",
   "execution_count": 19,
   "id": "3cc39352-232a-44b2-aee8-0a504949d0dd",
   "metadata": {},
   "outputs": [
    {
     "name": "stdout",
     "output_type": "stream",
     "text": [
      "10\n",
      "12\n",
      "14\n",
      "16\n",
      "18\n",
      "hello\n"
     ]
    }
   ],
   "source": [
    "#else will compulsory run in for irrespective of condition true or false after execution of complete for loop\n",
    "for i in range(10,20,2):\n",
    "    print(i)\n",
    "else:\n",
    "    print(\"hello\")"
   ]
  },
  {
   "cell_type": "code",
   "execution_count": 23,
   "id": "b80c182c-fa53-416c-aa44-bb28f4cdc2da",
   "metadata": {},
   "outputs": [
    {
     "name": "stdout",
     "output_type": "stream",
     "text": [
      "10\n",
      "12\n",
      "14\n"
     ]
    }
   ],
   "source": [
    "for i in range(10,20,2):\n",
    "    if (i==16):\n",
    "        break\n",
    "    print(i)\n",
    "else:\n",
    "    print(\"hello\")\n",
    "#break will break the loop and hence for will stop looping so else will not work"
   ]
  },
  {
   "cell_type": "code",
   "execution_count": 24,
   "id": "c497edc2-ad45-4394-9ad1-0b3a4557903a",
   "metadata": {},
   "outputs": [
    {
     "name": "stdout",
     "output_type": "stream",
     "text": [
      "10\n",
      "12\n",
      "14\n",
      "18\n",
      "hello\n"
     ]
    }
   ],
   "source": [
    "for i in range(10,20,2):\n",
    "    if (i==16):\n",
    "        continue\n",
    "    print(i)\n",
    "else:\n",
    "    print(\"hello\")"
   ]
  },
  {
   "cell_type": "code",
   "execution_count": 25,
   "id": "fce47f75-e5eb-4f6a-bb0c-b56728a8a236",
   "metadata": {},
   "outputs": [
    {
     "name": "stdout",
     "output_type": "stream",
     "text": [
      "10\n",
      "12\n",
      "14\n",
      "16\n",
      "18\n",
      "hello\n"
     ]
    }
   ],
   "source": [
    "for i in range(10,20,2):\n",
    "    if (i==17):\n",
    "        break\n",
    "    print(i)\n",
    "else:\n",
    "    print(\"hello\")"
   ]
  },
  {
   "cell_type": "code",
   "execution_count": 26,
   "id": "4e678884-aeb2-4fdd-9006-5dd7d08edd6d",
   "metadata": {},
   "outputs": [
    {
     "name": "stdout",
     "output_type": "stream",
     "text": [
      "10\n",
      "12\n"
     ]
    }
   ],
   "source": [
    "for i in range(10,20,2):\n",
    "    if (i==16 or i==14):\n",
    "        break\n",
    "    print(i)\n",
    "else:\n",
    "    print(\"hello\")"
   ]
  },
  {
   "cell_type": "code",
   "execution_count": 27,
   "id": "d907fc62-4bfd-4dac-a968-32780e5e62db",
   "metadata": {},
   "outputs": [
    {
     "name": "stdout",
     "output_type": "stream",
     "text": [
      "10\n",
      "12\n",
      "14\n",
      "16\n",
      "18\n",
      "hello\n"
     ]
    }
   ],
   "source": [
    "for i in range(10,20,2):\n",
    "    if (i==16 and i==14):\n",
    "        break\n",
    "    print(i)\n",
    "else:\n",
    "    print(\"hello\")"
   ]
  },
  {
   "cell_type": "code",
   "execution_count": 29,
   "id": "edd408a4-ecb7-447d-801e-13de18f65002",
   "metadata": {},
   "outputs": [
    {
     "name": "stdout",
     "output_type": "stream",
     "text": [
      "hello\n"
     ]
    }
   ],
   "source": [
    "for i in range(20,10,2):#wrong condition self note \n",
    "    if (i==16):\n",
    "        break\n",
    "    print(i)\n",
    "else:\n",
    "    print(\"hello\")"
   ]
  },
  {
   "cell_type": "code",
   "execution_count": 31,
   "id": "397cb570-b610-4ab0-a446-2c95e41d3040",
   "metadata": {},
   "outputs": [
    {
     "data": {
      "text/plain": [
       "'aa'"
      ]
     },
     "execution_count": 31,
     "metadata": {},
     "output_type": "execute_result"
    }
   ],
   "source": [
    "2*'a'#possible only for integer"
   ]
  },
  {
   "cell_type": "code",
   "execution_count": 34,
   "id": "af674750-deb0-465a-b6f5-ce072dfdef57",
   "metadata": {},
   "outputs": [
    {
     "name": "stdout",
     "output_type": "stream",
     "text": [
      "0**new\n",
      "1**new\n",
      "2**new\n",
      "3**new\n",
      "4**new\n",
      "5**new\n",
      "6**new\n",
      "7**new\n",
      "8**new\n",
      "9**new\n",
      "10**new\n"
     ]
    }
   ],
   "source": [
    "for i in range (11):\n",
    "    print(i,end=\"**\")#used to specify the end of statement. By default taken as \\n\n",
    "    print(\"new\")"
   ]
  },
  {
   "cell_type": "code",
   "execution_count": 40,
   "id": "0317eba7-8214-40a4-95de-e7e2311c11e4",
   "metadata": {},
   "outputs": [
    {
     "name": "stdout",
     "output_type": "stream",
     "text": [
      "# \n",
      "& & \n",
      "# # # \n",
      "& & & & \n"
     ]
    }
   ],
   "source": [
    "for i in range(1,5):\n",
    "    if(i % 2 == 0):\n",
    "        print(i*'& ')\n",
    "    else:\n",
    "        print(i*'# ')\n",
    "    "
   ]
  },
  {
   "cell_type": "code",
   "execution_count": 43,
   "id": "feffdb62-21ba-426e-a9fe-2302fe1540d7",
   "metadata": {},
   "outputs": [
    {
     "name": "stdin",
     "output_type": "stream",
     "text": [
      " 7\n"
     ]
    },
    {
     "name": "stdout",
     "output_type": "stream",
     "text": [
      "# \n",
      "& & \n",
      "# # # \n",
      "& & & & \n",
      "# # # # # \n",
      "& & & & & & \n",
      "# # # # # # # \n"
     ]
    }
   ],
   "source": [
    "num = input()\n",
    "intnum = int(num)\n",
    "for i in range(1,intnum+1):\n",
    "    if(i % 2 == 0):\n",
    "        print(i*'& ')\n",
    "    else:\n",
    "        print(i*'# ')"
   ]
  },
  {
   "cell_type": "code",
   "execution_count": 6,
   "id": "74bcb2b2-5f41-4882-8b9b-ad2a1ddc6aef",
   "metadata": {},
   "outputs": [
    {
     "name": "stdout",
     "output_type": "stream",
     "text": [
      "1\n",
      "2\n",
      "3\n",
      "5\n",
      "7\n",
      "11\n",
      "13\n",
      "17\n",
      "19\n",
      "23\n",
      "29\n",
      "31\n",
      "37\n",
      "41\n",
      "43\n",
      "47\n",
      "53\n",
      "59\n",
      "61\n",
      "67\n",
      "71\n",
      "73\n",
      "79\n",
      "83\n",
      "89\n",
      "97\n"
     ]
    }
   ],
   "source": [
    "for num in range(1,101):\n",
    "    for i in range(2,num):\n",
    "        if num % i == 0:\n",
    "            break\n",
    "    else:\n",
    "        print(num)\n",
    "   "
   ]
  },
  {
   "cell_type": "code",
   "execution_count": null,
   "id": "5563f723-29fc-4293-a2de-97f737523247",
   "metadata": {},
   "outputs": [],
   "source": []
  }
 ],
 "metadata": {
  "kernelspec": {
   "display_name": "Python 3 (ipykernel)",
   "language": "python",
   "name": "python3"
  },
  "language_info": {
   "codemirror_mode": {
    "name": "ipython",
    "version": 3
   },
   "file_extension": ".py",
   "mimetype": "text/x-python",
   "name": "python",
   "nbconvert_exporter": "python",
   "pygments_lexer": "ipython3",
   "version": "3.12.4"
  }
 },
 "nbformat": 4,
 "nbformat_minor": 5
}
