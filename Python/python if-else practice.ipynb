{
 "cells": [
  {
   "cell_type": "code",
   "execution_count": 2,
   "id": "1a34d17c-555f-4e33-a6bc-7dae19af511c",
   "metadata": {},
   "outputs": [
    {
     "name": "stdin",
     "output_type": "stream",
     "text": [
      "Enter first angle :  60\n",
      "Enter second angle :  90\n",
      "Enter Third angle :  76\n"
     ]
    },
    {
     "name": "stdout",
     "output_type": "stream",
     "text": [
      "Invalid triangle\n"
     ]
    }
   ],
   "source": [
    "a = int(input(\"Enter first angle : \"))\n",
    "b = int(input(\"Enter second angle : \"))\n",
    "c = int(input(\"Enter Third angle : \"))\n",
    "sum = a+b+c\n",
    "if sum == 180:\n",
    "    print(\"Triangle is valid.\")\n",
    "else:\n",
    "    print(\"Invalid triangle\")"
   ]
  },
  {
   "cell_type": "code",
   "execution_count": 5,
   "id": "7d4ed63a-cbaa-431d-b3dc-cb040d17c38d",
   "metadata": {},
   "outputs": [
    {
     "name": "stdin",
     "output_type": "stream",
     "text": [
      "Enter marks for English :  59\n",
      "Enter marks for Maths :  98\n",
      "Enter marks for Science :  23\n",
      "Enter marks for History :  56\n",
      "Enter marks for Geography :  67\n"
     ]
    },
    {
     "name": "stdout",
     "output_type": "stream",
     "text": [
      "You scored : 60.6 %\n",
      "hurray! you passed your exam\n"
     ]
    }
   ],
   "source": [
    "s1 = float(input(\"Enter marks for English : \"))\n",
    "s2 = float(input(\"Enter marks for Maths : \"))\n",
    "s3 = float(input(\"Enter marks for Science : \"))\n",
    "s4 = float(input(\"Enter marks for History : \"))\n",
    "s5 = float(input(\"Enter marks for Geography : \"))\n",
    "sum = s1 + s2 + s3 + s4 + s5\n",
    "percentage = (sum / 500) * 100\n",
    "print(\"You scored :\",percentage,\"%\")\n",
    "if percentage >= 35 :\n",
    "    print(\"hurray! you passed your exam\")\n",
    "else:\n",
    "    print(\"you need to work hard for your exam\")"
   ]
  },
  {
   "cell_type": "code",
   "execution_count": 7,
   "id": "a65c5278-b2d6-42fa-ac45-49679dec8d82",
   "metadata": {},
   "outputs": [
    {
     "name": "stdin",
     "output_type": "stream",
     "text": [
      "Enter the number :  67\n"
     ]
    },
    {
     "name": "stdout",
     "output_type": "stream",
     "text": [
      "Odd Number\n"
     ]
    }
   ],
   "source": [
    "num = int(input(\"Enter the number : \"))\n",
    "if num % 2 == 0:\n",
    "    print(\"Even number\")\n",
    "else:\n",
    "    print(\"Odd Number\")"
   ]
  },
  {
   "cell_type": "code",
   "execution_count": 11,
   "id": "31fed752-7fdd-424f-af8d-a21152037cd8",
   "metadata": {},
   "outputs": [
    {
     "name": "stdin",
     "output_type": "stream",
     "text": [
      "Enter your input:  sanika\n"
     ]
    },
    {
     "name": "stdout",
     "output_type": "stream",
     "text": [
      "not palindrome\n"
     ]
    }
   ],
   "source": [
    "str = input(\"Enter your input: \")\n",
    "new_str = str[::-1]\n",
    "if str == new_str:\n",
    "    print(\"Input in palindrome\")\n",
    "else:\n",
    "    print(\"not palindrome\")"
   ]
  },
  {
   "cell_type": "code",
   "execution_count": 14,
   "id": "f42f0d46-2324-4f44-a617-85816996eae1",
   "metadata": {},
   "outputs": [
    {
     "name": "stdin",
     "output_type": "stream",
     "text": [
      "Enter first side of triangle :  8\n",
      "Enter second side of triangle :  3\n",
      "Enter third side of triangle :  6\n"
     ]
    },
    {
     "name": "stdout",
     "output_type": "stream",
     "text": [
      "Triangle is Scalen\n"
     ]
    }
   ],
   "source": [
    "s1 = int(input(\"Enter first side of triangle : \"))\n",
    "s2 = int(input(\"Enter second side of triangle : \"))\n",
    "s3 = int(input(\"Enter third side of triangle : \"))\n",
    "if s1 == s2 == s3:\n",
    "    print(\"Triangle is equilateral\")\n",
    "elif s1 == s2 or s1 == s3 or s2 == s3:\n",
    "    print (\"Triangle is Isoscelese\")\n",
    "else :\n",
    "    print(\"Triangle is Scalen\")"
   ]
  },
  {
   "cell_type": "code",
   "execution_count": 22,
   "id": "2507a4f1-d454-4f04-bde4-ed1330317350",
   "metadata": {},
   "outputs": [
    {
     "name": "stdin",
     "output_type": "stream",
     "text": [
      "Enter first angle :  130\n",
      "Enter second angle :  20\n",
      "Enter Third angle :  30\n"
     ]
    },
    {
     "name": "stdout",
     "output_type": "stream",
     "text": [
      "Triangle is valid.\n",
      "Triangle is obtuse angled triangle\n"
     ]
    }
   ],
   "source": [
    "a = int(input(\"Enter first angle : \"))\n",
    "b = int(input(\"Enter second angle : \"))\n",
    "c = int(input(\"Enter Third angle : \"))\n",
    "sum = a+b+c\n",
    "if sum == 180:\n",
    "    print(\"Triangle is valid.\")\n",
    "    if a == 90 or b == 90 or c == 90:\n",
    "        print(\"Triangle is right angled triangle\")\n",
    "    if a > 90 or b > 90 or c > 90:\n",
    "        print(\"Triangle is obtuse angled triangle\")\n",
    "    if a < 90 and b < 90 and c < 90:\n",
    "        print(\"Triangle is acute angled triangle\")\n",
    "else:\n",
    "    print(\"Invalid triangle\")"
   ]
  },
  {
   "cell_type": "code",
   "execution_count": 5,
   "id": "47581544-2e65-4de5-b7d9-385a5e8beccc",
   "metadata": {},
   "outputs": [
    {
     "name": "stdout",
     "output_type": "stream",
     "text": [
      "Enter 3 numbers : \n"
     ]
    },
    {
     "name": "stdin",
     "output_type": "stream",
     "text": [
      " 45\n",
      " 23\n",
      " 90\n"
     ]
    },
    {
     "name": "stdout",
     "output_type": "stream",
     "text": [
      "Greater number is :  90\n"
     ]
    }
   ],
   "source": [
    "print(\"Enter 3 numbers : \")\n",
    "num1 = int(input())\n",
    "num2 = int(input())\n",
    "num3 = int(input())\n",
    "greater = num1\n",
    "if num2 > num1 and num2 > num3:\n",
    "    greater = num2\n",
    "else:\n",
    "    greater = num3\n",
    "print(\"Greater number is : \",greater)"
   ]
  },
  {
   "cell_type": "code",
   "execution_count": 10,
   "id": "4cbe6b93-78d0-4ec5-815b-63dce59e77b8",
   "metadata": {},
   "outputs": [
    {
     "name": "stdin",
     "output_type": "stream",
     "text": [
      "Enter a number :  5\n",
      "Enter a number :  8\n",
      "Enter an operator + - * / % :  4\n"
     ]
    },
    {
     "name": "stdout",
     "output_type": "stream",
     "text": [
      "invalid choice\n"
     ]
    }
   ],
   "source": [
    "num1 = int(input(\"Enter a number : \"))\n",
    "num2 = int(input(\"Enter a number : \"))\n",
    "operator = input(\"Enter an operator + - * / % : \")\n",
    "match operator:\n",
    "    case \"+\":\n",
    "        print(num1 + num2)\n",
    "    case \"-\":\n",
    "        print(num1 - num2)\n",
    "    case \"*\":\n",
    "        print(num1 * num2)\n",
    "    case \"/\":\n",
    "        print(num1 / num2)\n",
    "    case \"%\":\n",
    "        print(num1 % num2)\n",
    "    case _ :\n",
    "        print(\"invalid choice\")"
   ]
  },
  {
   "cell_type": "code",
   "execution_count": 12,
   "id": "cb8e01a5-b37a-4959-af0a-9b333a04b396",
   "metadata": {},
   "outputs": [
    {
     "name": "stdin",
     "output_type": "stream",
     "text": [
      "enter your data :  my password is sanika@07\n"
     ]
    },
    {
     "name": "stdout",
     "output_type": "stream",
     "text": [
      "m is alphabets\n",
      "y is alphabets\n",
      "  is spaces\n",
      "p is alphabets\n",
      "a is alphabets\n",
      "s is alphabets\n",
      "s is alphabets\n",
      "w is alphabets\n",
      "o is alphabets\n",
      "r is alphabets\n",
      "d is alphabets\n",
      "  is spaces\n",
      "i is alphabets\n",
      "s is alphabets\n",
      "  is spaces\n",
      "s is alphabets\n",
      "a is alphabets\n",
      "n is alphabets\n",
      "i is alphabets\n",
      "k is alphabets\n",
      "a is alphabets\n",
      "@ is symbols\n",
      "0 is digits\n",
      "7 is digits\n"
     ]
    }
   ],
   "source": [
    "user_input = input(\"enter your data : \")\n",
    "for char in user_input:\n",
    "    if char.isalpha():\n",
    "        print(f\"{char} is alphabets\")\n",
    "    elif char.isdigit():\n",
    "        print(f\"{char} is digits\")\n",
    "    elif char.isspace():\n",
    "        print(f\"{char} is spaces\")\n",
    "    else:\n",
    "        print(f\"{char} is symbols\")"
   ]
  },
  {
   "cell_type": "code",
   "execution_count": 2,
   "id": "fcb43c79-24ed-4c02-9361-40c6691a2710",
   "metadata": {},
   "outputs": [
    {
     "name": "stdin",
     "output_type": "stream",
     "text": [
      "Enter your unit to generate the bill :  765\n"
     ]
    },
    {
     "name": "stdout",
     "output_type": "stream",
     "text": [
      "4337.1675\n"
     ]
    }
   ],
   "source": [
    "unit = int(input(\"Enter your unit to generate the bill : \"))\n",
    "if unit > 0:\n",
    "    if unit <= 100:\n",
    "        total = unit * 0.75\n",
    "        print(total)\n",
    "    elif unit > 100 and unit <= 300:\n",
    "        amt = unit * 1.62\n",
    "        tax = amt * (5/100)\n",
    "        total = amt + tax\n",
    "        print(total)\n",
    "    elif unit > 300 and unit <= 500:\n",
    "        amt = unit * 3.27\n",
    "        tax = amt * (10/100)\n",
    "        total = amt + tax\n",
    "        print(total)\n",
    "    elif unit > 500 and unit <= 1000:\n",
    "        amt = unit * 4.93\n",
    "        tax = amt * (15/100)\n",
    "        total = amt + tax\n",
    "        print(total)\n",
    "    else:\n",
    "        amt = unit * 6.50\n",
    "        tax = amt * (20/100)\n",
    "        total = amt + tax\n",
    "        print(total)\n",
    "else:\n",
    "    print(\"Invalid input\")"
   ]
  },
  {
   "cell_type": "code",
   "execution_count": 7,
   "id": "45ad63a0-b48a-44fa-b3fe-3ef22cb01a92",
   "metadata": {},
   "outputs": [
    {
     "name": "stdin",
     "output_type": "stream",
     "text": [
      "Enter your website :  www.sanikavavhal01.com\n"
     ]
    },
    {
     "name": "stdout",
     "output_type": "stream",
     "text": [
      "Your username is :  sanikavavhal01\n"
     ]
    }
   ],
   "source": [
    "website = input(\"Enter your website : \")\n",
    "arr = website.split('.')\n",
    "#print(arr)\n",
    "print(\"Your username is : \",arr[1])"
   ]
  },
  {
   "cell_type": "code",
   "execution_count": 8,
   "id": "48156069-c6b3-43e1-8958-c421daabecd4",
   "metadata": {},
   "outputs": [
    {
     "name": "stdin",
     "output_type": "stream",
     "text": [
      "Enter your gmail :  sanikavavhal07@gmail.com\n"
     ]
    },
    {
     "name": "stdout",
     "output_type": "stream",
     "text": [
      "Your username is :  sanikavavhal07\n"
     ]
    }
   ],
   "source": [
    "website = input(\"Enter your gmail : \")\n",
    "arr = website.split('@')\n",
    "#print(arr)\n",
    "print(\"Your username is : \",arr[0])"
   ]
  },
  {
   "cell_type": "code",
   "execution_count": 1,
   "id": "e11b6518-7813-4057-8eba-773c76981071",
   "metadata": {},
   "outputs": [
    {
     "name": "stdin",
     "output_type": "stream",
     "text": [
      "enter you input sasasa\n"
     ]
    },
    {
     "name": "stdout",
     "output_type": "stream",
     "text": [
      "The first two characters and the last two characters are same\n"
     ]
    }
   ],
   "source": [
    "input = input(\"enter you input\")\n",
    "start = input[0:2]\n",
    "end = input[-2:]\n",
    "if start == end:\n",
    "    print(\"The first two characters and the last two characters are same\")\n",
    "else:\n",
    "    print(\"The first two characters and the last two characters are different\")"
   ]
  },
  {
   "cell_type": "code",
   "execution_count": null,
   "id": "b1b6e971-2e97-49cf-b2dd-c0c5c858c3de",
   "metadata": {},
   "outputs": [],
   "source": []
  }
 ],
 "metadata": {
  "kernelspec": {
   "display_name": "Python 3 (ipykernel)",
   "language": "python",
   "name": "python3"
  },
  "language_info": {
   "codemirror_mode": {
    "name": "ipython",
    "version": 3
   },
   "file_extension": ".py",
   "mimetype": "text/x-python",
   "name": "python",
   "nbconvert_exporter": "python",
   "pygments_lexer": "ipython3",
   "version": "3.12.4"
  }
 },
 "nbformat": 4,
 "nbformat_minor": 5
}
