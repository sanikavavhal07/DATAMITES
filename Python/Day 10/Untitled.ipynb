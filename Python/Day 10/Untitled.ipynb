{
 "cells": [
  {
   "cell_type": "code",
   "execution_count": 3,
   "id": "be6d990f-8a0b-4459-ae06-63182f8c65d9",
   "metadata": {},
   "outputs": [],
   "source": [
    "from package import operations"
   ]
  },
  {
   "cell_type": "code",
   "execution_count": 8,
   "id": "1c30328d-9094-466c-ac95-ac85dbfd2a55",
   "metadata": {},
   "outputs": [
    {
     "data": {
      "text/plain": [
       "16"
      ]
     },
     "execution_count": 8,
     "metadata": {},
     "output_type": "execute_result"
    }
   ],
   "source": [
    "operations.addition(9,7)"
   ]
  },
  {
   "cell_type": "code",
   "execution_count": 9,
   "id": "8f2d7c22-7bd5-4f52-a543-38d70fd2f7ce",
   "metadata": {},
   "outputs": [
    {
     "data": {
      "text/plain": [
       "2"
      ]
     },
     "execution_count": 9,
     "metadata": {},
     "output_type": "execute_result"
    }
   ],
   "source": [
    "operations.subtraction(9,7)"
   ]
  },
  {
   "cell_type": "code",
   "execution_count": 10,
   "id": "6d3d4cf4-0f9a-4b3d-b409-c12bc88a9ef6",
   "metadata": {},
   "outputs": [
    {
     "data": {
      "text/plain": [
       "63"
      ]
     },
     "execution_count": 10,
     "metadata": {},
     "output_type": "execute_result"
    }
   ],
   "source": [
    "operations.mult(9,7)"
   ]
  },
  {
   "cell_type": "code",
   "execution_count": 12,
   "id": "cd43e1f4-3298-43af-83d7-89c945b876cc",
   "metadata": {},
   "outputs": [
    {
     "data": {
      "text/plain": [
       "1.2857142857142858"
      ]
     },
     "execution_count": 12,
     "metadata": {},
     "output_type": "execute_result"
    }
   ],
   "source": [
    "operations.division(9,7)"
   ]
  },
  {
   "cell_type": "code",
   "execution_count": 13,
   "id": "b40d39b3-87f7-4811-b2a3-f0a44b7cdcb4",
   "metadata": {},
   "outputs": [
    {
     "data": {
      "text/plain": [
       "2"
      ]
     },
     "execution_count": 13,
     "metadata": {},
     "output_type": "execute_result"
    }
   ],
   "source": [
    "operations.mod(9,7)"
   ]
  },
  {
   "cell_type": "code",
   "execution_count": 14,
   "id": "d7646563-99cf-4629-b865-43f0d8d7f74c",
   "metadata": {},
   "outputs": [
    {
     "data": {
      "text/plain": [
       "81"
      ]
     },
     "execution_count": 14,
     "metadata": {},
     "output_type": "execute_result"
    }
   ],
   "source": [
    "operations.sq(9)"
   ]
  },
  {
   "cell_type": "code",
   "execution_count": 15,
   "id": "744fb0ac-7cde-4c38-8d27-89835ba0a813",
   "metadata": {},
   "outputs": [
    {
     "data": {
      "text/plain": [
       "6.0"
      ]
     },
     "execution_count": 15,
     "metadata": {},
     "output_type": "execute_result"
    }
   ],
   "source": [
    "operations.sqrt(36)"
   ]
  },
  {
   "cell_type": "code",
   "execution_count": null,
   "id": "339c5054-db60-43ee-afc0-87475eba6847",
   "metadata": {},
   "outputs": [],
   "source": []
  }
 ],
 "metadata": {
  "kernelspec": {
   "display_name": "Python 3 (ipykernel)",
   "language": "python",
   "name": "python3"
  },
  "language_info": {
   "codemirror_mode": {
    "name": "ipython",
    "version": 3
   },
   "file_extension": ".py",
   "mimetype": "text/x-python",
   "name": "python",
   "nbconvert_exporter": "python",
   "pygments_lexer": "ipython3",
   "version": "3.12.4"
  }
 },
 "nbformat": 4,
 "nbformat_minor": 5
}
