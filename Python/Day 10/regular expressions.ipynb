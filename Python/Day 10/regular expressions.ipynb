{
 "cells": [
  {
   "cell_type": "markdown",
   "id": "a27065cb-cf63-41b3-be78-74f6bb04f45d",
   "metadata": {},
   "source": [
    "## Regular expression"
   ]
  },
  {
   "cell_type": "markdown",
   "id": "16bafb1e-a4ed-428c-ba07-338222507fe7",
   "metadata": {},
   "source": [
    "used to analyze text"
   ]
  },
  {
   "cell_type": "markdown",
   "id": "108dde72-e713-4773-a4a5-3ef34963f6ff",
   "metadata": {},
   "source": [
    "Methods - findall search split sub(substitute)"
   ]
  },
  {
   "cell_type": "code",
   "execution_count": 1,
   "id": "81dda04d-0c6e-4ad3-86e1-1b01d7bf9391",
   "metadata": {},
   "outputs": [
    {
     "name": "stdout",
     "output_type": "stream",
     "text": [
      "['ai', 'ai']\n"
     ]
    }
   ],
   "source": [
    "import re\n",
    "txt = \"the rain in spain\"\n",
    "x = re.findall(\"ai\",txt)\n",
    "print(x)"
   ]
  },
  {
   "cell_type": "code",
   "execution_count": 2,
   "id": "ba30f1d6-12b9-4357-993f-2bda48794259",
   "metadata": {},
   "outputs": [
    {
     "name": "stdout",
     "output_type": "stream",
     "text": [
      "[]\n"
     ]
    }
   ],
   "source": [
    "import re\n",
    "txt = \"the rain in spain\"\n",
    "x = re.findall(\"xyz\",txt)\n",
    "print(x)"
   ]
  },
  {
   "cell_type": "code",
   "execution_count": 36,
   "id": "1b5bd4bd-ba12-40ab-a156-a19415422747",
   "metadata": {},
   "outputs": [
    {
     "name": "stdout",
     "output_type": "stream",
     "text": [
      "<re.Match object; span=(5, 6), match='a'>\n"
     ]
    }
   ],
   "source": [
    "import re\n",
    "txt = \"the rain in spain\"\n",
    "x = re.search(\"a\",txt)\n",
    "print(x) # starting and ending position of element searched"
   ]
  },
  {
   "cell_type": "code",
   "execution_count": 37,
   "id": "7211b45b-a25d-4082-adf8-3c35d82eb0d3",
   "metadata": {},
   "outputs": [
    {
     "name": "stdout",
     "output_type": "stream",
     "text": [
      "(5, 6)\n"
     ]
    }
   ],
   "source": [
    "import re\n",
    "txt = \"the rain in spain\"\n",
    "x = re.search(\"a\",txt)\n",
    "print(x.span())"
   ]
  },
  {
   "cell_type": "code",
   "execution_count": 39,
   "id": "b9ddda91-8e49-4401-ba26-b5214be509f1",
   "metadata": {},
   "outputs": [
    {
     "name": "stdout",
     "output_type": "stream",
     "text": [
      "the rain in spain\n"
     ]
    }
   ],
   "source": [
    "import re\n",
    "txt = \"the rain in spain\"\n",
    "x = re.search(\"a\",txt)\n",
    "print(x.string) # returns the text in which we are searching"
   ]
  },
  {
   "cell_type": "code",
   "execution_count": 41,
   "id": "1357d21d-d847-4901-a528-08e3d6ebeba8",
   "metadata": {},
   "outputs": [
    {
     "name": "stdout",
     "output_type": "stream",
     "text": [
      "ai\n"
     ]
    }
   ],
   "source": [
    "import re\n",
    "txt = \"the rain in spain\"\n",
    "x = re.search(\"ai\",txt)\n",
    "print(x.group()) # returns element which is to be searched"
   ]
  },
  {
   "cell_type": "code",
   "execution_count": null,
   "id": "18406872-36ff-48b6-bd3b-cc23a80760e0",
   "metadata": {},
   "outputs": [],
   "source": [
    "import re\n",
    "txt = \"the rain in spain\"\n",
    "x = re.search(\"\\\\s\",txt)\n",
    "print(x.start())"
   ]
  },
  {
   "cell_type": "code",
   "execution_count": 10,
   "id": "3541ee0f-98a0-404f-b948-04a0deedb9e2",
   "metadata": {},
   "outputs": [
    {
     "name": "stdout",
     "output_type": "stream",
     "text": [
      "None\n"
     ]
    }
   ],
   "source": [
    "import re\n",
    "txt = \"the rain in spain\"\n",
    "x = re.search(\"nxt\",txt)\n",
    "print(x)"
   ]
  },
  {
   "cell_type": "code",
   "execution_count": 11,
   "id": "78c39e48-e301-42db-870f-01939d29bf73",
   "metadata": {},
   "outputs": [
    {
     "name": "stdout",
     "output_type": "stream",
     "text": [
      "['the rai', ' i', ' spai', '']\n"
     ]
    }
   ],
   "source": [
    "import re\n",
    "txt = \"the rain in spain\"\n",
    "x = re.split(\"n\",txt)\n",
    "print(x)"
   ]
  },
  {
   "cell_type": "code",
   "execution_count": 14,
   "id": "66f8626e-4ad3-4a39-987f-2d6bbb01bc85",
   "metadata": {},
   "outputs": [
    {
     "name": "stdout",
     "output_type": "stream",
     "text": [
      "['the', 'rain', 'in', 'spain']\n"
     ]
    }
   ],
   "source": [
    "import re\n",
    "txt = \"the rain in spain\"\n",
    "x = re.split(\"\\\\s\",txt)\n",
    "print(x)"
   ]
  },
  {
   "cell_type": "code",
   "execution_count": 17,
   "id": "fb5d33b6-e24f-4061-81fe-fbf29ebbbe9c",
   "metadata": {},
   "outputs": [
    {
     "name": "stdout",
     "output_type": "stream",
     "text": [
      "['the', 'rain in spain']\n"
     ]
    }
   ],
   "source": [
    "import re\n",
    "txt = \"the rain in spain\"\n",
    "x = re.split(\"\\\\s\",txt,1)\n",
    "print(x)"
   ]
  },
  {
   "cell_type": "code",
   "execution_count": 18,
   "id": "b130a834-2538-4a55-bbca-039dbe6e5aec",
   "metadata": {},
   "outputs": [
    {
     "name": "stdout",
     "output_type": "stream",
     "text": [
      "['the', 'rain', 'in spain']\n"
     ]
    }
   ],
   "source": [
    "import re\n",
    "txt = \"the rain in spain\"\n",
    "x = re.split(\"\\\\s\",txt,2)\n",
    "print(x)"
   ]
  },
  {
   "cell_type": "code",
   "execution_count": 19,
   "id": "a089a904-4ae2-4514-965c-c1f78301f544",
   "metadata": {},
   "outputs": [
    {
     "name": "stdout",
     "output_type": "stream",
     "text": [
      "serch successful.\n"
     ]
    }
   ],
   "source": [
    "import re\n",
    "\n",
    "pattern = '^a*s$'\n",
    "test_string = 'as'\n",
    "result = re.match(pattern,test_string)\n",
    "\n",
    "if result:\n",
    "    print(\"serch successful.\")\n",
    "else:\n",
    "    print(\"search unsuccessful.\")"
   ]
  },
  {
   "cell_type": "code",
   "execution_count": 23,
   "id": "59d3ff8f-8edd-4839-87c8-37e3f722089d",
   "metadata": {},
   "outputs": [
    {
     "name": "stdout",
     "output_type": "stream",
     "text": [
      "['1234', '3456']\n"
     ]
    }
   ],
   "source": [
    "import re\n",
    "string = \"hello 1234 howdy 3456\"\n",
    "pattern = \"\\\\d+\"\n",
    "result = re.findall(pattern,string)\n",
    "print(result)"
   ]
  },
  {
   "cell_type": "code",
   "execution_count": 25,
   "id": "aa81cb9b-89ed-49c0-9c2e-c39430680c90",
   "metadata": {},
   "outputs": [
    {
     "name": "stdout",
     "output_type": "stream",
     "text": [
      "['hello ', ' howdy ', '']\n"
     ]
    }
   ],
   "source": [
    "import re\n",
    "string = \"hello 1234 howdy 3456\"\n",
    "pattern = \"\\\\d+\"\n",
    "result = re.split(pattern, string)\n",
    "print(result)"
   ]
  },
  {
   "cell_type": "code",
   "execution_count": 28,
   "id": "832a6fdd-28c5-47da-b26b-b81ccf2cd11d",
   "metadata": {},
   "outputs": [
    {
     "name": "stdout",
     "output_type": "stream",
     "text": [
      "['hello ', ' howdy 3456']\n"
     ]
    }
   ],
   "source": [
    "import re\n",
    "string = \"hello 1234 howdy 3456\"\n",
    "pattern = \"\\\\d+\"\n",
    "result = re.split(pattern, string,1)\n",
    "print(result)"
   ]
  },
  {
   "cell_type": "code",
   "execution_count": 33,
   "id": "aa34b38d-47ed-47d3-8820-906d41515d87",
   "metadata": {},
   "outputs": [
    {
     "name": "stdout",
     "output_type": "stream",
     "text": [
      "hello_1234_howdy_3456\n"
     ]
    }
   ],
   "source": [
    "import re\n",
    "string = \"hello 1234 howdy 3456\"\n",
    "pattern = \"\\\\s+\"\n",
    "replace = \"_\"\n",
    "result = re.sub(pattern, replace, string)\n",
    "print(result)"
   ]
  },
  {
   "cell_type": "code",
   "execution_count": 34,
   "id": "47a4118b-4639-41b0-a35a-8c2d748d2992",
   "metadata": {},
   "outputs": [
    {
     "name": "stdout",
     "output_type": "stream",
     "text": [
      "hello _ howdy _\n"
     ]
    }
   ],
   "source": [
    "import re\n",
    "string = \"hello 1234 howdy 3456\"\n",
    "pattern = \"\\\\d+\"\n",
    "replace = \"_\"\n",
    "result = re.sub(pattern, replace, string)\n",
    "print(result)"
   ]
  },
  {
   "cell_type": "code",
   "execution_count": null,
   "id": "d566e266-6244-48ba-9901-38397dba4322",
   "metadata": {},
   "outputs": [],
   "source": []
  }
 ],
 "metadata": {
  "kernelspec": {
   "display_name": "Python 3 (ipykernel)",
   "language": "python",
   "name": "python3"
  },
  "language_info": {
   "codemirror_mode": {
    "name": "ipython",
    "version": 3
   },
   "file_extension": ".py",
   "mimetype": "text/x-python",
   "name": "python",
   "nbconvert_exporter": "python",
   "pygments_lexer": "ipython3",
   "version": "3.12.4"
  }
 },
 "nbformat": 4,
 "nbformat_minor": 5
}
