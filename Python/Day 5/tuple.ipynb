{
 "cells": [
  {
   "cell_type": "code",
   "execution_count": 14,
   "id": "9b705ac2-b36a-4617-be30-e9b628c6f2f9",
   "metadata": {},
   "outputs": [
    {
     "name": "stdin",
     "output_type": "stream",
     "text": [
      "Enter element 20\n",
      "Enter element 45\n",
      "Enter element 12\n",
      "Enter element 89\n",
      "Enter element 12\n",
      "Enter element 78\n",
      "Enter element 45\n",
      "Enter element 12\n",
      "Enter element 78\n",
      "Enter element 45\n"
     ]
    },
    {
     "name": "stdout",
     "output_type": "stream",
     "text": [
      "The list is: [20, 45, 12, 89, 12, 78, 45, 12, 78, 45]\n"
     ]
    }
   ],
   "source": [
    "my_list = []\n",
    "for i in range(10):\n",
    "    element = int(input(\"Enter element\"))\n",
    "    my_list.append(element)\n",
    "print(\"The list is:\", my_list)\n",
    "\n"
   ]
  },
  {
   "cell_type": "code",
   "execution_count": 12,
   "id": "be4ef7a3-b073-401a-9963-2d7907b21584",
   "metadata": {},
   "outputs": [
    {
     "data": {
      "text/plain": [
       "str"
      ]
     },
     "execution_count": 12,
     "metadata": {},
     "output_type": "execute_result"
    }
   ],
   "source": [
    "type(element)"
   ]
  },
  {
   "cell_type": "code",
   "execution_count": 13,
   "id": "6452974e-25ac-4b3f-b2ca-32b450dc1b2f",
   "metadata": {},
   "outputs": [
    {
     "data": {
      "text/plain": [
       "list"
      ]
     },
     "execution_count": 13,
     "metadata": {},
     "output_type": "execute_result"
    }
   ],
   "source": [
    "type(my_list)"
   ]
  },
  {
   "cell_type": "code",
   "execution_count": 15,
   "id": "4568f3ae-134e-4333-9641-aa399ff47fcc",
   "metadata": {},
   "outputs": [
    {
     "data": {
      "text/plain": [
       "int"
      ]
     },
     "execution_count": 15,
     "metadata": {},
     "output_type": "execute_result"
    }
   ],
   "source": [
    "type(element)"
   ]
  },
  {
   "cell_type": "code",
   "execution_count": 30,
   "id": "ae88f967-832d-49f9-867c-adb309003ba2",
   "metadata": {},
   "outputs": [
    {
     "name": "stdin",
     "output_type": "stream",
     "text": [
      "Enter element 1\n",
      "Enter element 2\n",
      "Enter element 3\n",
      "Enter element 4\n",
      "Enter element 5\n",
      "Enter element 6\n",
      "Enter element 7\n",
      "Enter element 8\n",
      "Enter element 9\n",
      "Enter element 10\n"
     ]
    },
    {
     "name": "stdout",
     "output_type": "stream",
     "text": [
      "The list is: [1, 2, 3, 4, 5, 6, 7, 8, 9, 10]\n",
      "Count of even numbers :  5 \n",
      "Count of odd numbers :  5\n",
      "List of square of even nos : [4, 16, 36, 64, 100]\n",
      "List of square roor of odd nos : [1.0, 1.7320508075688772, 2.23606797749979, 2.6457513110645907, 3.0]\n"
     ]
    }
   ],
   "source": [
    "my_list = []\n",
    "even_list = []\n",
    "odd_list = []\n",
    "ev_count = odd_count = 0\n",
    "for i in range(10):\n",
    "    element = int(input(\"Enter element\"))\n",
    "    my_list.append(element)\n",
    "    if element % 2 == 0:\n",
    "        even_list.append(element**2)\n",
    "        ev_count += 1\n",
    "    else:\n",
    "        odd_list.append(element**0.5)\n",
    "        odd_count += 1\n",
    "print(\"The list is:\", my_list)\n",
    "print(\"Count of even numbers : \",ev_count,\"\\nCount of odd numbers : \",odd_count)\n",
    "print(\"List of square of even nos :\", even_list)    \n",
    "print(\"List of square roor of odd nos :\", odd_list)"
   ]
  },
  {
   "cell_type": "code",
   "execution_count": 31,
   "id": "16b40680-420c-4342-9f39-010a256db181",
   "metadata": {},
   "outputs": [
    {
     "name": "stdout",
     "output_type": "stream",
     "text": [
      "<class 'tuple'>\n"
     ]
    }
   ],
   "source": [
    "t1 = tuple()\n",
    "print(type(t1))"
   ]
  },
  {
   "cell_type": "code",
   "execution_count": 32,
   "id": "d6035ef8-3ec5-4c25-8c64-cff5717e5b64",
   "metadata": {},
   "outputs": [
    {
     "data": {
      "text/plain": [
       "tuple"
      ]
     },
     "execution_count": 32,
     "metadata": {},
     "output_type": "execute_result"
    }
   ],
   "source": [
    "type(t1)"
   ]
  },
  {
   "cell_type": "code",
   "execution_count": 36,
   "id": "bd62abc0-5aa3-44c8-bd5b-0b5cd6065894",
   "metadata": {},
   "outputs": [
    {
     "data": {
      "text/plain": [
       "(1001, 'robin', 4.4)"
      ]
     },
     "execution_count": 36,
     "metadata": {},
     "output_type": "execute_result"
    }
   ],
   "source": [
    "t2 = tuple([1001, \"robin\", 4.4])\n",
    "t2"
   ]
  },
  {
   "cell_type": "code",
   "execution_count": 37,
   "id": "42dec0a0-2ad4-4bc2-b006-1af239d74dbf",
   "metadata": {},
   "outputs": [
    {
     "data": {
      "text/plain": [
       "('sanika', 86, 5.2)"
      ]
     },
     "execution_count": 37,
     "metadata": {},
     "output_type": "execute_result"
    }
   ],
   "source": [
    "t3 = (\"sanika\", 86, 5.2)\n",
    "t3\n",
    "#tuple can be created using both ways"
   ]
  },
  {
   "cell_type": "code",
   "execution_count": 38,
   "id": "a64460ce-2a9a-4058-894c-400ffeea01b7",
   "metadata": {},
   "outputs": [
    {
     "name": "stdout",
     "output_type": "stream",
     "text": [
      "('robin', 4.4)\n"
     ]
    }
   ],
   "source": [
    "print(t2[1:3])"
   ]
  },
  {
   "cell_type": "code",
   "execution_count": 39,
   "id": "3094a422-c1ab-4973-8359-db6c63e13451",
   "metadata": {},
   "outputs": [
    {
     "data": {
      "text/plain": [
       "4.4"
      ]
     },
     "execution_count": 39,
     "metadata": {},
     "output_type": "execute_result"
    }
   ],
   "source": [
    "t2[-1]"
   ]
  },
  {
   "cell_type": "code",
   "execution_count": 40,
   "id": "0d3c9a54-f766-4853-b460-2f17b22d6a4b",
   "metadata": {},
   "outputs": [
    {
     "data": {
      "text/plain": [
       "(1, 4, 6, 12, 45, [12, 90, 34], 43, 16)"
      ]
     },
     "execution_count": 40,
     "metadata": {},
     "output_type": "execute_result"
    }
   ],
   "source": [
    "t5 = ( 1,4,6,12,45,[12,90,34],43,16)\n",
    "t5"
   ]
  },
  {
   "cell_type": "code",
   "execution_count": 41,
   "id": "2ff1311a-3339-449d-a744-08d517dce226",
   "metadata": {},
   "outputs": [
    {
     "data": {
      "text/plain": [
       "43"
      ]
     },
     "execution_count": 41,
     "metadata": {},
     "output_type": "execute_result"
    }
   ],
   "source": [
    "t5[6]"
   ]
  },
  {
   "cell_type": "code",
   "execution_count": 42,
   "id": "e30b1726-05fe-4c77-83b4-c3ecff45b53b",
   "metadata": {},
   "outputs": [
    {
     "data": {
      "text/plain": [
       "[12, 90, 34]"
      ]
     },
     "execution_count": 42,
     "metadata": {},
     "output_type": "execute_result"
    }
   ],
   "source": [
    "t5[5]"
   ]
  },
  {
   "cell_type": "code",
   "execution_count": 43,
   "id": "024f686e-a9e8-4087-948a-da22c666d066",
   "metadata": {},
   "outputs": [
    {
     "ename": "TypeError",
     "evalue": "'tuple' object does not support item assignment",
     "output_type": "error",
     "traceback": [
      "\u001b[1;31m---------------------------------------------------------------------------\u001b[0m",
      "\u001b[1;31mTypeError\u001b[0m                                 Traceback (most recent call last)",
      "Cell \u001b[1;32mIn[43], line 1\u001b[0m\n\u001b[1;32m----> 1\u001b[0m t5[\u001b[38;5;241m5\u001b[39m] \u001b[38;5;241m=\u001b[39m \u001b[38;5;241m90\u001b[39m\n",
      "\u001b[1;31mTypeError\u001b[0m: 'tuple' object does not support item assignment"
     ]
    }
   ],
   "source": [
    "t5[5] = 90"
   ]
  },
  {
   "cell_type": "code",
   "execution_count": 44,
   "id": "c0aa1e6b-4ff9-42b8-bd1f-4985120fc74e",
   "metadata": {},
   "outputs": [
    {
     "data": {
      "text/plain": [
       "90"
      ]
     },
     "execution_count": 44,
     "metadata": {},
     "output_type": "execute_result"
    }
   ],
   "source": [
    "t5[5][1]"
   ]
  },
  {
   "cell_type": "code",
   "execution_count": 45,
   "id": "ec8c7a32-aa4b-44ab-b0e8-065f57d166ce",
   "metadata": {},
   "outputs": [
    {
     "data": {
      "text/plain": [
       "(1, 4, 6, 12, 45, [12, 30, 34], 43, 16)"
      ]
     },
     "execution_count": 45,
     "metadata": {},
     "output_type": "execute_result"
    }
   ],
   "source": [
    "t5[5][1] = 30\n",
    "t5"
   ]
  },
  {
   "cell_type": "code",
   "execution_count": 46,
   "id": "922385ca-acf6-4345-a7a3-6ca5ec656df3",
   "metadata": {},
   "outputs": [
    {
     "data": {
      "text/plain": [
       "3"
      ]
     },
     "execution_count": 46,
     "metadata": {},
     "output_type": "execute_result"
    }
   ],
   "source": [
    "t6 = (2,5,3,2,5,3,2)\n",
    "t6.count(2)"
   ]
  },
  {
   "cell_type": "code",
   "execution_count": 47,
   "id": "9fbd55a1-7b01-4255-bcf7-c82fa6c78e3d",
   "metadata": {},
   "outputs": [
    {
     "data": {
      "text/plain": [
       "1"
      ]
     },
     "execution_count": 47,
     "metadata": {},
     "output_type": "execute_result"
    }
   ],
   "source": [
    "t6.index(5)"
   ]
  },
  {
   "cell_type": "code",
   "execution_count": 49,
   "id": "e2b1d3af-6555-4ad4-b98e-55b1d4f30eda",
   "metadata": {},
   "outputs": [
    {
     "data": {
      "text/plain": [
       "7"
      ]
     },
     "execution_count": 49,
     "metadata": {},
     "output_type": "execute_result"
    }
   ],
   "source": [
    "len(t6)"
   ]
  },
  {
   "cell_type": "code",
   "execution_count": 54,
   "id": "fddcf28a-f9f4-494a-ba42-506b4029ee36",
   "metadata": {},
   "outputs": [
    {
     "data": {
      "text/plain": [
       "True"
      ]
     },
     "execution_count": 54,
     "metadata": {},
     "output_type": "execute_result"
    }
   ],
   "source": [
    "4 in t5"
   ]
  },
  {
   "cell_type": "code",
   "execution_count": 55,
   "id": "1960a24d-7f39-4050-b3cd-fed7c05f587e",
   "metadata": {},
   "outputs": [
    {
     "data": {
      "text/plain": [
       "False"
      ]
     },
     "execution_count": 55,
     "metadata": {},
     "output_type": "execute_result"
    }
   ],
   "source": [
    "4 not in t5"
   ]
  },
  {
   "cell_type": "code",
   "execution_count": 56,
   "id": "fce25927-1ba4-47a6-b8b2-8aed5ead3ead",
   "metadata": {},
   "outputs": [
    {
     "ename": "TypeError",
     "evalue": "'<' not supported between instances of 'list' and 'int'",
     "output_type": "error",
     "traceback": [
      "\u001b[1;31m---------------------------------------------------------------------------\u001b[0m",
      "\u001b[1;31mTypeError\u001b[0m                                 Traceback (most recent call last)",
      "Cell \u001b[1;32mIn[56], line 1\u001b[0m\n\u001b[1;32m----> 1\u001b[0m \u001b[38;5;28msorted\u001b[39m(t5)\n",
      "\u001b[1;31mTypeError\u001b[0m: '<' not supported between instances of 'list' and 'int'"
     ]
    }
   ],
   "source": [
    "sorted(t5)\n",
    "#sorted is an function not a method and hence it does not change the original list so we need to store this into a variable\n"
   ]
  },
  {
   "cell_type": "code",
   "execution_count": 57,
   "id": "3000f4b5-9eb9-4a03-b4d0-9f3484e60050",
   "metadata": {},
   "outputs": [
    {
     "data": {
      "text/plain": [
       "[2, 2, 2, 3, 3, 5, 5]"
      ]
     },
     "execution_count": 57,
     "metadata": {},
     "output_type": "execute_result"
    }
   ],
   "source": [
    "sorted(t6)"
   ]
  },
  {
   "cell_type": "code",
   "execution_count": 58,
   "id": "12729c8c-ff3c-4613-a607-03c7b2d35176",
   "metadata": {},
   "outputs": [
    {
     "data": {
      "text/plain": [
       "[5, 5, 3, 3, 2, 2, 2]"
      ]
     },
     "execution_count": 58,
     "metadata": {},
     "output_type": "execute_result"
    }
   ],
   "source": [
    "sorted(t6, reverse= True)"
   ]
  },
  {
   "cell_type": "code",
   "execution_count": 59,
   "id": "2cab18c0-08df-40b4-b108-e730e21f9176",
   "metadata": {},
   "outputs": [
    {
     "data": {
      "text/plain": [
       "[1.9, 2.3, 3, 5, 6]"
      ]
     },
     "execution_count": 59,
     "metadata": {},
     "output_type": "execute_result"
    }
   ],
   "source": [
    "t7 = (2.3, 5, 1.9, 6, 3)\n",
    "sorted(t7)"
   ]
  },
  {
   "cell_type": "code",
   "execution_count": 63,
   "id": "9483da85-e3b4-402b-ba39-acaccd0f59a2",
   "metadata": {},
   "outputs": [
    {
     "data": {
      "text/plain": [
       "[[2, 5, 9], [2, 7, 8], [3, 2, 1], [9, 4, 1]]"
      ]
     },
     "execution_count": 63,
     "metadata": {},
     "output_type": "execute_result"
    }
   ],
   "source": [
    "t8 = ([9,4,1],[2,7,8],[3,2,1],[2,5,9])\n",
    "sorted(t8)"
   ]
  },
  {
   "cell_type": "code",
   "execution_count": 65,
   "id": "3d2719e4-c15f-4e70-8c2d-1ba6015bebf3",
   "metadata": {},
   "outputs": [
    {
     "ename": "AttributeError",
     "evalue": "'tuple' object has no attribute 'append'",
     "output_type": "error",
     "traceback": [
      "\u001b[1;31m---------------------------------------------------------------------------\u001b[0m",
      "\u001b[1;31mAttributeError\u001b[0m                            Traceback (most recent call last)",
      "Cell \u001b[1;32mIn[65], line 4\u001b[0m\n\u001b[0;32m      2\u001b[0m newtuple \u001b[38;5;241m=\u001b[39m \u001b[38;5;28mtuple\u001b[39m()\n\u001b[0;32m      3\u001b[0m \u001b[38;5;28;01mfor\u001b[39;00m i \u001b[38;5;129;01min\u001b[39;00m \u001b[38;5;28mrange\u001b[39m(\u001b[38;5;28mlen\u001b[39m(l1)\u001b[38;5;241m-\u001b[39m\u001b[38;5;241m1\u001b[39m,\u001b[38;5;241m-\u001b[39m\u001b[38;5;241m1\u001b[39m,\u001b[38;5;241m-\u001b[39m\u001b[38;5;241m1\u001b[39m):\n\u001b[1;32m----> 4\u001b[0m     newtuple\u001b[38;5;241m.\u001b[39mappend(l1[i])\n",
      "\u001b[1;31mAttributeError\u001b[0m: 'tuple' object has no attribute 'append'"
     ]
    }
   ],
   "source": [
    "l1= (6,7,2,9,4,5)\n",
    "newtuple = tuple()\n",
    "for i in range(len(l1)-1,-1,-1):\n",
    "    newtuple.append(l1[i])"
   ]
  },
  {
   "cell_type": "code",
   "execution_count": 71,
   "id": "6c633782-b219-4ab4-b547-6901231f4d76",
   "metadata": {},
   "outputs": [
    {
     "name": "stdout",
     "output_type": "stream",
     "text": [
      "[9, 4, 1, 5, 7, 3]\n",
      "Sorted List [1, 3, 4, 5, 7, 9]\n"
     ]
    }
   ],
   "source": [
    "l1=[9,4,1,5,7,3] \n",
    "print(l1)\n",
    "for i in range(6):\n",
    "    for j in range(i+1, 6):\n",
    "        if l1[i] >= l1[j]:\n",
    "            l1[i], l1[j] = l1[j],l1[i]\n",
    "print(\"Sorted List\", l1)"
   ]
  },
  {
   "cell_type": "code",
   "execution_count": null,
   "id": "d9722040-62ba-4f9f-9c01-60bfa7fbdbe3",
   "metadata": {},
   "outputs": [],
   "source": []
  }
 ],
 "metadata": {
  "kernelspec": {
   "display_name": "Python 3 (ipykernel)",
   "language": "python",
   "name": "python3"
  },
  "language_info": {
   "codemirror_mode": {
    "name": "ipython",
    "version": 3
   },
   "file_extension": ".py",
   "mimetype": "text/x-python",
   "name": "python",
   "nbconvert_exporter": "python",
   "pygments_lexer": "ipython3",
   "version": "3.12.4"
  }
 },
 "nbformat": 4,
 "nbformat_minor": 5
}
