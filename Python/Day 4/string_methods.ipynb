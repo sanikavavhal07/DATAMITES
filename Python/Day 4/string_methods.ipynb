{
 "cells": [
  {
   "cell_type": "markdown",
   "id": "477b7c8c-91a7-4cff-87f5-bafdb985e894",
   "metadata": {},
   "source": [
    "## String methods"
   ]
  },
  {
   "cell_type": "code",
   "execution_count": 51,
   "id": "1f0eafb8-836f-42a5-8e58-4f363fd5a78a",
   "metadata": {},
   "outputs": [
    {
     "name": "stdout",
     "output_type": "stream",
     "text": [
      "my name is monkey d luffy and i'm going to be king of the pirates\n"
     ]
    }
   ],
   "source": [
    "name = \"my name is monkey d luffy and i'm going to be king of the pirates\"\n",
    "print(name)"
   ]
  },
  {
   "cell_type": "code",
   "execution_count": 49,
   "id": "13ba43a7-ddcd-4d53-890e-a5d31cdbb47d",
   "metadata": {},
   "outputs": [
    {
     "name": "stdout",
     "output_type": "stream",
     "text": [
      "My name is monkey d luffy and i'm going to be king of the pirates\n"
     ]
    }
   ],
   "source": [
    "print(name.capitalize()) #Converts the first character to upper case"
   ]
  },
  {
   "cell_type": "code",
   "execution_count": 50,
   "id": "b20e8f5d-16dd-479c-bb75-44fe7ac3e0ed",
   "metadata": {},
   "outputs": [
    {
     "name": "stdout",
     "output_type": "stream",
     "text": [
      "my name is monkey d luffy and i'm going to be king of the pirates\n"
     ]
    }
   ],
   "source": [
    "print(name.casefold()) #Converts string into lower case"
   ]
  },
  {
   "cell_type": "code",
   "execution_count": 52,
   "id": "dbed2718-f125-47b5-8740-606254106e8d",
   "metadata": {},
   "outputs": [
    {
     "name": "stdout",
     "output_type": "stream",
     "text": [
      "1\n"
     ]
    }
   ],
   "source": [
    "print(name.count('my'))"
   ]
  },
  {
   "cell_type": "code",
   "execution_count": 53,
   "id": "5c54a8ff-3f2a-479e-81f7-981ad2cc371c",
   "metadata": {},
   "outputs": [
    {
     "name": "stdout",
     "output_type": "stream",
     "text": [
      "True\n"
     ]
    }
   ],
   "source": [
    "print(name.endswith('s'))"
   ]
  },
  {
   "cell_type": "code",
   "execution_count": 54,
   "id": "ea185a61-777a-42f6-9f0e-c25f5a7c59b2",
   "metadata": {},
   "outputs": [
    {
     "data": {
      "text/plain": [
       "False"
      ]
     },
     "execution_count": 54,
     "metadata": {},
     "output_type": "execute_result"
    }
   ],
   "source": [
    "name.endswith('e')"
   ]
  },
  {
   "cell_type": "code",
   "execution_count": 55,
   "id": "181adb12-86e9-40dd-95aa-68f6db700d57",
   "metadata": {},
   "outputs": [
    {
     "data": {
      "text/plain": [
       "b\"my name is monkey d luffy and i'm going to be king of the pirates\""
      ]
     },
     "execution_count": 55,
     "metadata": {},
     "output_type": "execute_result"
    }
   ],
   "source": [
    "name.encode() \n",
    "#Returns an encoded version of the string\n",
    "#b prefix indicates that the string is now a bytes object."
   ]
  },
  {
   "cell_type": "code",
   "execution_count": 56,
   "id": "95bc432f-7e6c-44f9-8c47-32a1c7b76a8c",
   "metadata": {},
   "outputs": [
    {
     "data": {
      "text/plain": [
       "8"
      ]
     },
     "execution_count": 56,
     "metadata": {},
     "output_type": "execute_result"
    }
   ],
   "source": [
    "name.find('is') #returns the position of where it was found"
   ]
  },
  {
   "cell_type": "code",
   "execution_count": 48,
   "id": "153e3a89-71a9-43c8-bbe7-c21195a89857",
   "metadata": {},
   "outputs": [
    {
     "data": {
      "text/plain": [
       "40"
      ]
     },
     "execution_count": 48,
     "metadata": {},
     "output_type": "execute_result"
    }
   ],
   "source": [
    "name.index('to')"
   ]
  },
  {
   "cell_type": "code",
   "execution_count": 59,
   "id": "d267d549-1a2d-40bb-977c-d4c976a0e0e9",
   "metadata": {},
   "outputs": [
    {
     "name": "stdout",
     "output_type": "stream",
     "text": [
      "**hello***\n"
     ]
    }
   ],
   "source": [
    "text = \"hello\"\n",
    "print(text.center(10, '*'))"
   ]
  },
  {
   "cell_type": "code",
   "execution_count": 60,
   "id": "fcdbfe33-7e34-4ec7-a168-2827470b965b",
   "metadata": {},
   "outputs": [
    {
     "name": "stdout",
     "output_type": "stream",
     "text": [
      "hello     world\n"
     ]
    }
   ],
   "source": [
    "text = \"hello\\tworld\"\n",
    "print(text.expandtabs(10))"
   ]
  },
  {
   "cell_type": "code",
   "execution_count": 62,
   "id": "4765d0bb-e787-44cd-86d6-c47796cbdbf7",
   "metadata": {},
   "outputs": [
    {
     "name": "stdout",
     "output_type": "stream",
     "text": [
      "Hello, Sanika. You are 21 years old.\n"
     ]
    }
   ],
   "source": [
    "text = \"Hello, {}. You are {} years old.\"\n",
    "formatted_text = text.format(\"Sanika\", 21)\n",
    "print(formatted_text) "
   ]
  },
  {
   "cell_type": "code",
   "execution_count": 64,
   "id": "5bf026e1-1849-4c02-9a84-d60ad13ed09f",
   "metadata": {},
   "outputs": [
    {
     "name": "stdout",
     "output_type": "stream",
     "text": [
      "Hello, Sanika. You are 21 years old.\n"
     ]
    }
   ],
   "source": [
    "text = \"Hello, {name}. You are {age} years old.\"\n",
    "formatted_text = text.format_map({\"name\": \"Sanika\", \"age\": 21})\n",
    "print(formatted_text)  "
   ]
  },
  {
   "cell_type": "code",
   "execution_count": 65,
   "id": "3ac9411b-e481-4d81-9d1e-742f251d3f15",
   "metadata": {},
   "outputs": [
    {
     "name": "stdout",
     "output_type": "stream",
     "text": [
      "True\n"
     ]
    }
   ],
   "source": [
    "text = \"hello123\"\n",
    "print(text.isalnum()) #Returns True if all characters in the string are alphanumeric"
   ]
  },
  {
   "cell_type": "code",
   "execution_count": 67,
   "id": "3dd79933-23d8-4469-a985-cb32b3f24be0",
   "metadata": {},
   "outputs": [
    {
     "name": "stdout",
     "output_type": "stream",
     "text": [
      "False\n"
     ]
    }
   ],
   "source": [
    "text = \"hello123\"\n",
    "print(text.isalpha()) #Returns True if all characters in the string are alphabet"
   ]
  },
  {
   "cell_type": "code",
   "execution_count": 69,
   "id": "05a4d103-83e4-4315-ae8f-84ddee58e9e2",
   "metadata": {},
   "outputs": [
    {
     "name": "stdout",
     "output_type": "stream",
     "text": [
      "True\n"
     ]
    }
   ],
   "source": [
    "text = \"12345\"\n",
    "print(text.isdecimal())  "
   ]
  },
  {
   "cell_type": "code",
   "execution_count": 70,
   "id": "11f24347-1315-4425-88d0-5c0416132d29",
   "metadata": {},
   "outputs": [
    {
     "name": "stdout",
     "output_type": "stream",
     "text": [
      "True\n"
     ]
    }
   ],
   "source": [
    "text = \"12345\"\n",
    "print(text.isdigit())  "
   ]
  },
  {
   "cell_type": "code",
   "execution_count": 72,
   "id": "d436945d-12c4-40a0-a77c-64a591db0e75",
   "metadata": {},
   "outputs": [
    {
     "name": "stdout",
     "output_type": "stream",
     "text": [
      "True\n"
     ]
    }
   ],
   "source": [
    "text = \"hello\"\n",
    "print(text.isalpha())  "
   ]
  },
  {
   "cell_type": "code",
   "execution_count": 73,
   "id": "c754c070-1323-45f1-8ab6-04466edfcf4b",
   "metadata": {},
   "outputs": [
    {
     "name": "stdout",
     "output_type": "stream",
     "text": [
      "True\n"
     ]
    }
   ],
   "source": [
    "text = \"hello\"\n",
    "print(text.islower()) "
   ]
  },
  {
   "cell_type": "code",
   "execution_count": 74,
   "id": "ed5400a3-f5bb-4e0c-b193-207749d024fb",
   "metadata": {},
   "outputs": [
    {
     "name": "stdout",
     "output_type": "stream",
     "text": [
      "True\n"
     ]
    }
   ],
   "source": [
    "text = \"12345\"\n",
    "print(text.isnumeric()) "
   ]
  },
  {
   "cell_type": "code",
   "execution_count": 75,
   "id": "00437992-30cd-4013-a056-2dc757f20db5",
   "metadata": {},
   "outputs": [
    {
     "name": "stdout",
     "output_type": "stream",
     "text": [
      "True\n"
     ]
    }
   ],
   "source": [
    "text = \"hello\"\n",
    "print(text.isprintable())"
   ]
  },
  {
   "cell_type": "code",
   "execution_count": 76,
   "id": "16df47f8-6fe4-4c99-9275-31c353509086",
   "metadata": {},
   "outputs": [
    {
     "name": "stdout",
     "output_type": "stream",
     "text": [
      "True\n"
     ]
    }
   ],
   "source": [
    "text = \"HELLO\"\n",
    "print(text.isupper()) "
   ]
  },
  {
   "cell_type": "code",
   "execution_count": 77,
   "id": "76ef19dc-7cfa-4101-a3c0-1224c72aa694",
   "metadata": {},
   "outputs": [
    {
     "name": "stdout",
     "output_type": "stream",
     "text": [
      "False\n"
     ]
    }
   ],
   "source": [
    "text = \"HELLO\"\n",
    "print(text.islower())"
   ]
  },
  {
   "cell_type": "code",
   "execution_count": 78,
   "id": "43f3988d-f79b-4a11-b7e0-ab2046527cf2",
   "metadata": {},
   "outputs": [
    {
     "name": "stdout",
     "output_type": "stream",
     "text": [
      "2024-08-09\n"
     ]
    }
   ],
   "source": [
    "text = \"-\"\n",
    "print(text.join([\"2024\", \"08\", \"09\"]))  "
   ]
  },
  {
   "cell_type": "code",
   "execution_count": 79,
   "id": "bb74f722-33d2-46fa-b5cd-82ab0ebed74f",
   "metadata": {},
   "outputs": [
    {
     "name": "stdout",
     "output_type": "stream",
     "text": [
      "hello*****\n"
     ]
    }
   ],
   "source": [
    "text = \"hello\"\n",
    "print(text.ljust(10, '*')) "
   ]
  },
  {
   "cell_type": "code",
   "execution_count": 80,
   "id": "55ae0086-906f-4276-8256-31348627c681",
   "metadata": {},
   "outputs": [
    {
     "name": "stdout",
     "output_type": "stream",
     "text": [
      "hello\n"
     ]
    }
   ],
   "source": [
    "text = \"HELLO\"\n",
    "print(text.lower()) "
   ]
  },
  {
   "cell_type": "code",
   "execution_count": 81,
   "id": "7eb862c2-5d7d-4a5d-abd9-fc503f6792f5",
   "metadata": {},
   "outputs": [
    {
     "name": "stdout",
     "output_type": "stream",
     "text": [
      "HELLO\n"
     ]
    }
   ],
   "source": [
    "text = \"HEllo\"\n",
    "print(text.upper()) "
   ]
  },
  {
   "cell_type": "code",
   "execution_count": 83,
   "id": "b70cfb74-1e4e-483a-b0d0-a07db8f54e5a",
   "metadata": {},
   "outputs": [
    {
     "name": "stdout",
     "output_type": "stream",
     "text": [
      "('hello', ' ', 'world')\n"
     ]
    }
   ],
   "source": [
    "text = \"hello world\"\n",
    "print(text.partition(\" \"))  "
   ]
  },
  {
   "cell_type": "code",
   "execution_count": 85,
   "id": "91eff42d-6c47-49e8-b4cd-e09d06a5bb28",
   "metadata": {},
   "outputs": [
    {
     "name": "stdout",
     "output_type": "stream",
     "text": [
      "hello Sanika\n"
     ]
    }
   ],
   "source": [
    "text = \"hello world\"\n",
    "print(text.replace(\"world\", \"Sanika\"))  "
   ]
  },
  {
   "cell_type": "code",
   "execution_count": 86,
   "id": "68febe67-b42b-4a97-b4c0-2d3d8f1fe42b",
   "metadata": {},
   "outputs": [
    {
     "name": "stdout",
     "output_type": "stream",
     "text": [
      "['hello world', 'world']\n"
     ]
    }
   ],
   "source": [
    "text = \"hello world world\"\n",
    "print(text.rsplit(\" \", 1))  "
   ]
  },
  {
   "cell_type": "code",
   "execution_count": 93,
   "id": "4210071f-f886-4df9-b6ed-34c4cebe3d7b",
   "metadata": {},
   "outputs": [
    {
     "name": "stdout",
     "output_type": "stream",
     "text": [
      "['hello', 'world', 'world']\n"
     ]
    }
   ],
   "source": [
    "text = \"hello world world\"\n",
    "print(text.rsplit(\" \", 2))  "
   ]
  },
  {
   "cell_type": "code",
   "execution_count": 92,
   "id": "6b6ce0b6-fb6c-41e2-9da8-f5117d54b2e8",
   "metadata": {},
   "outputs": [
    {
     "name": "stdout",
     "output_type": "stream",
     "text": [
      "True\n"
     ]
    }
   ],
   "source": [
    "text = \"hello world\"\n",
    "print(text.startswith(\"hello\")) "
   ]
  },
  {
   "cell_type": "code",
   "execution_count": 98,
   "id": "81f2da23-0c87-48c2-b934-c145d5113604",
   "metadata": {},
   "outputs": [
    {
     "name": "stdout",
     "output_type": "stream",
     "text": [
      "False\n"
     ]
    }
   ],
   "source": [
    "text = \"hello world\"\n",
    "print(text.endswith(\"hello\")) "
   ]
  },
  {
   "cell_type": "code",
   "execution_count": 94,
   "id": "bff136e9-4ea8-49ad-9df8-b6e2028ffa3e",
   "metadata": {},
   "outputs": [
    {
     "name": "stdout",
     "output_type": "stream",
     "text": [
      "hello\n"
     ]
    }
   ],
   "source": [
    "text = \"   hello   \"\n",
    "print(text.strip())  "
   ]
  },
  {
   "cell_type": "code",
   "execution_count": 95,
   "id": "67b88c65-7b1c-432e-85f8-2633a30c02de",
   "metadata": {},
   "outputs": [
    {
     "name": "stdout",
     "output_type": "stream",
     "text": [
      "   hello\n"
     ]
    }
   ],
   "source": [
    "text = \"   hello   \"\n",
    "print(text.rstrip()) "
   ]
  },
  {
   "cell_type": "code",
   "execution_count": 96,
   "id": "25de1c5e-7b55-4780-b75a-48bbc8b44ce0",
   "metadata": {},
   "outputs": [
    {
     "name": "stdout",
     "output_type": "stream",
     "text": [
      "hello   \n"
     ]
    }
   ],
   "source": [
    "text = \"   hello   \"\n",
    "print(text.lstrip()) "
   ]
  },
  {
   "cell_type": "code",
   "execution_count": 97,
   "id": "be1d481a-8fd2-449c-b9e5-8898eb5156c3",
   "metadata": {},
   "outputs": [
    {
     "name": "stdout",
     "output_type": "stream",
     "text": [
      "hELLO wORLD\n"
     ]
    }
   ],
   "source": [
    "text = \"Hello World\"\n",
    "print(text.swapcase()) "
   ]
  },
  {
   "cell_type": "code",
   "execution_count": null,
   "id": "81c57408-571f-488d-94f5-74a83b0e1f93",
   "metadata": {},
   "outputs": [],
   "source": []
  }
 ],
 "metadata": {
  "kernelspec": {
   "display_name": "Python 3 (ipykernel)",
   "language": "python",
   "name": "python3"
  },
  "language_info": {
   "codemirror_mode": {
    "name": "ipython",
    "version": 3
   },
   "file_extension": ".py",
   "mimetype": "text/x-python",
   "name": "python",
   "nbconvert_exporter": "python",
   "pygments_lexer": "ipython3",
   "version": "3.12.4"
  }
 },
 "nbformat": 4,
 "nbformat_minor": 5
}
