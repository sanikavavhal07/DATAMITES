{
 "cells": [
  {
   "cell_type": "code",
   "execution_count": 53,
   "id": "53415070-b2e7-42c1-82d0-ead3e5ac406f",
   "metadata": {},
   "outputs": [],
   "source": [
    "my_list = [4,5,6,7,'eight','nine','ten',[11,12],(14,15,16)]"
   ]
  },
  {
   "cell_type": "markdown",
   "id": "4e5bd548-e82f-4a1e-8407-a87df3204299",
   "metadata": {},
   "source": [
    "We can access the elements of list using index"
   ]
  },
  {
   "cell_type": "code",
   "execution_count": 54,
   "id": "ad1ce189-62ac-4dcc-b12b-97493f2f9139",
   "metadata": {},
   "outputs": [
    {
     "data": {
      "text/plain": [
       "(14, 15, 16)"
      ]
     },
     "execution_count": 54,
     "metadata": {},
     "output_type": "execute_result"
    }
   ],
   "source": [
    "my_list[8]"
   ]
  },
  {
   "cell_type": "code",
   "execution_count": 28,
   "id": "0cdd7368-9a3c-4aa1-a320-0537a557f8db",
   "metadata": {},
   "outputs": [
    {
     "data": {
      "text/plain": [
       "16"
      ]
     },
     "execution_count": 28,
     "metadata": {},
     "output_type": "execute_result"
    }
   ],
   "source": [
    "my_list[8][2]"
   ]
  },
  {
   "cell_type": "code",
   "execution_count": 55,
   "id": "a77164c4-5d98-4126-8341-9f5fb307009d",
   "metadata": {},
   "outputs": [
    {
     "data": {
      "text/plain": [
       "[6, 7, 'eight', 'nine', 'ten']"
      ]
     },
     "execution_count": 55,
     "metadata": {},
     "output_type": "execute_result"
    }
   ],
   "source": [
    "my_list[2:7]"
   ]
  },
  {
   "cell_type": "markdown",
   "id": "c32f9704-a63b-4250-8045-2a48f7e6e002",
   "metadata": {},
   "source": [
    "Add an item to the end of the list."
   ]
  },
  {
   "cell_type": "code",
   "execution_count": 56,
   "id": "567169db-2338-49bb-9c80-c18216bd07bb",
   "metadata": {},
   "outputs": [
    {
     "data": {
      "text/plain": [
       "[4, 5, 6, 7, 'eight', 'nine', 'ten', [11, 12], (14, 15, 16), 71]"
      ]
     },
     "execution_count": 56,
     "metadata": {},
     "output_type": "execute_result"
    }
   ],
   "source": [
    "my_list.append(71)\n",
    "my_list"
   ]
  },
  {
   "cell_type": "code",
   "execution_count": 57,
   "id": "c86978b6-27ba-4347-8958-e3c94c75ec26",
   "metadata": {},
   "outputs": [
    {
     "data": {
      "text/plain": [
       "[4, 5, 6, 7, 'eight', 'nine', 'ten', [11, 12], (14, 15, 16), 71, [18.19]]"
      ]
     },
     "execution_count": 57,
     "metadata": {},
     "output_type": "execute_result"
    }
   ],
   "source": [
    "my_list.append([18.19])\n",
    "my_list"
   ]
  },
  {
   "cell_type": "markdown",
   "id": "b7eda732-a2b7-4b82-a818-50844952ddf7",
   "metadata": {},
   "source": [
    "Extend the list by appending all the items from the iterable."
   ]
  },
  {
   "cell_type": "code",
   "execution_count": 58,
   "id": "c158d363-cc18-4c58-9da4-ee141e4e329b",
   "metadata": {},
   "outputs": [
    {
     "data": {
      "text/plain": [
       "[4, 5, 6, 7, 'eight', 'nine', 'ten', [11, 12], (14, 15, 16), 71, [18.19], 4, 3]"
      ]
     },
     "execution_count": 58,
     "metadata": {},
     "output_type": "execute_result"
    }
   ],
   "source": [
    "my_list.extend([4,3])\n",
    "my_list"
   ]
  },
  {
   "cell_type": "markdown",
   "id": "c2b6ab0c-995d-4d43-9a77-f81e9afcb169",
   "metadata": {},
   "source": [
    "Insert an item at a given position."
   ]
  },
  {
   "cell_type": "code",
   "execution_count": 60,
   "id": "f9068dba-517e-44d7-b8c5-d0e578a2d946",
   "metadata": {},
   "outputs": [
    {
     "data": {
      "text/plain": [
       "[4,\n",
       " 5,\n",
       " 6,\n",
       " 70,\n",
       " 70,\n",
       " 7,\n",
       " 'eight',\n",
       " 'nine',\n",
       " 'ten',\n",
       " [11, 12],\n",
       " (14, 15, 16),\n",
       " 71,\n",
       " [18.19],\n",
       " 4,\n",
       " 3]"
      ]
     },
     "execution_count": 60,
     "metadata": {},
     "output_type": "execute_result"
    }
   ],
   "source": [
    "my_list.insert(3,70)\n",
    "my_list"
   ]
  },
  {
   "cell_type": "markdown",
   "id": "ac304dab-3c48-4cb6-a8dd-564532597e4a",
   "metadata": {},
   "source": [
    "Remove the first item from the list whose value is equal to x. It raises a ValueError if there is no such item.\r\n",
    "\r\n"
   ]
  },
  {
   "cell_type": "code",
   "execution_count": 63,
   "id": "c92b4889-6814-4ad2-a2ff-1bd0d9a60a67",
   "metadata": {},
   "outputs": [
    {
     "data": {
      "text/plain": [
       "[5, 6, 70, 7, 'eight', 'nine', 'ten', [11, 12], (14, 15, 16), 71, [18.19], 3]"
      ]
     },
     "execution_count": 63,
     "metadata": {},
     "output_type": "execute_result"
    }
   ],
   "source": [
    "my_list.remove(4)\n",
    "my_list"
   ]
  },
  {
   "cell_type": "markdown",
   "id": "07b4de4c-483f-4f67-bbbd-1c7ec04a8d30",
   "metadata": {},
   "source": [
    "Remove the item at the given position in the list, and return it. If no index is specified, a.pop() removes and returns the last item in the list. It raises an IndexError if the list is empty or the index is outside the list range."
   ]
  },
  {
   "cell_type": "code",
   "execution_count": 64,
   "id": "e56711f4-67ab-4bb4-8278-eb1a3d321998",
   "metadata": {},
   "outputs": [
    {
     "data": {
      "text/plain": [
       "7"
      ]
     },
     "execution_count": 64,
     "metadata": {},
     "output_type": "execute_result"
    }
   ],
   "source": [
    "my_list.pop(3)"
   ]
  },
  {
   "cell_type": "code",
   "execution_count": 65,
   "id": "c9d56ac1-2f4d-451b-9870-d55536bc217c",
   "metadata": {},
   "outputs": [
    {
     "data": {
      "text/plain": [
       "[5, 6, 70, 'eight', 'nine', 'ten', [11, 12], (14, 15, 16), 71, [18.19], 3]"
      ]
     },
     "execution_count": 65,
     "metadata": {},
     "output_type": "execute_result"
    }
   ],
   "source": [
    "my_list"
   ]
  },
  {
   "cell_type": "code",
   "execution_count": 66,
   "id": "908275bd-4676-43a7-acc8-88acd4bc8762",
   "metadata": {},
   "outputs": [
    {
     "data": {
      "text/plain": [
       "[5, 6, 70, 'eight', 'nine', 'ten', [11, 12], (14, 15, 16), 71, [18.19]]"
      ]
     },
     "execution_count": 66,
     "metadata": {},
     "output_type": "execute_result"
    }
   ],
   "source": [
    "my_list.pop()\n",
    "my_list"
   ]
  },
  {
   "cell_type": "markdown",
   "id": "149ed9b5-0893-486e-b1ef-a66ade9a8a9b",
   "metadata": {},
   "source": [
    "Used to find the index of given element. it Raise ValueError if element is not found"
   ]
  },
  {
   "cell_type": "code",
   "execution_count": 67,
   "id": "39122bd9-4fa3-4fa1-9e76-2b9b822352d9",
   "metadata": {},
   "outputs": [
    {
     "data": {
      "text/plain": [
       "3"
      ]
     },
     "execution_count": 67,
     "metadata": {},
     "output_type": "execute_result"
    }
   ],
   "source": [
    "my_list.index('eight')"
   ]
  },
  {
   "cell_type": "code",
   "execution_count": 68,
   "id": "66d5975c-be80-4f3b-acea-ddd319c8b3ce",
   "metadata": {},
   "outputs": [
    {
     "ename": "ValueError",
     "evalue": "'eight' is not in list",
     "output_type": "error",
     "traceback": [
      "\u001b[1;31m---------------------------------------------------------------------------\u001b[0m",
      "\u001b[1;31mValueError\u001b[0m                                Traceback (most recent call last)",
      "Cell \u001b[1;32mIn[68], line 1\u001b[0m\n\u001b[1;32m----> 1\u001b[0m my_list\u001b[38;5;241m.\u001b[39mindex(\u001b[38;5;124m'\u001b[39m\u001b[38;5;124meight\u001b[39m\u001b[38;5;124m'\u001b[39m,\u001b[38;5;241m4\u001b[39m)\n",
      "\u001b[1;31mValueError\u001b[0m: 'eight' is not in list"
     ]
    }
   ],
   "source": [
    "my_list.index('eight',4)"
   ]
  },
  {
   "cell_type": "code",
   "execution_count": 42,
   "id": "24da7d9b-b8dc-4f9e-a618-b972acc5f1a5",
   "metadata": {},
   "outputs": [
    {
     "data": {
      "text/plain": [
       "3"
      ]
     },
     "execution_count": 42,
     "metadata": {},
     "output_type": "execute_result"
    }
   ],
   "source": [
    "my_list.index('eight',2) # Find next banana starting at position 4"
   ]
  },
  {
   "cell_type": "markdown",
   "id": "2289e7d6-fff8-4387-ae23-4e7045d77d70",
   "metadata": {},
   "source": [
    "Sort the items of the list "
   ]
  },
  {
   "cell_type": "code",
   "execution_count": 43,
   "id": "aef00a84-4ef0-4d49-8e6a-f19b3b6ab41e",
   "metadata": {},
   "outputs": [
    {
     "ename": "TypeError",
     "evalue": "'<' not supported between instances of 'str' and 'int'",
     "output_type": "error",
     "traceback": [
      "\u001b[1;31m---------------------------------------------------------------------------\u001b[0m",
      "\u001b[1;31mTypeError\u001b[0m                                 Traceback (most recent call last)",
      "Cell \u001b[1;32mIn[43], line 1\u001b[0m\n\u001b[1;32m----> 1\u001b[0m my_list\u001b[38;5;241m.\u001b[39msort()\n",
      "\u001b[1;31mTypeError\u001b[0m: '<' not supported between instances of 'str' and 'int'"
     ]
    }
   ],
   "source": [
    "my_list.sort()"
   ]
  },
  {
   "cell_type": "markdown",
   "id": "185cd7aa-400d-4379-91ec-dc7d823a9c72",
   "metadata": {},
   "source": [
    "Reverse the elements of the list in place."
   ]
  },
  {
   "cell_type": "code",
   "execution_count": 44,
   "id": "74040e13-fd6d-4d8d-88d0-ec451a4db65d",
   "metadata": {},
   "outputs": [],
   "source": [
    "my_list.reverse()"
   ]
  },
  {
   "cell_type": "code",
   "execution_count": 45,
   "id": "d76be440-cb78-4f99-b001-cc9b6436e762",
   "metadata": {},
   "outputs": [
    {
     "data": {
      "text/plain": [
       "[4, [18.19], (14, 15, 16), [11, 12], 'ten', 'nine', 'eight', 70, 6, 5]"
      ]
     },
     "execution_count": 45,
     "metadata": {},
     "output_type": "execute_result"
    }
   ],
   "source": [
    "my_list"
   ]
  },
  {
   "cell_type": "markdown",
   "id": "05b5a8cf-6803-4c5a-b6bf-6298ff37a019",
   "metadata": {},
   "source": [
    "Return a shallow copy of the list."
   ]
  },
  {
   "cell_type": "code",
   "execution_count": 49,
   "id": "a5f7a321-002c-4a94-8f07-4c7f21d7b72b",
   "metadata": {},
   "outputs": [
    {
     "data": {
      "text/plain": [
       "[4, [18.19], (14, 15, 16), [11, 12], 'ten', 'nine', 'eight', 70, 6, 5]"
      ]
     },
     "execution_count": 49,
     "metadata": {},
     "output_type": "execute_result"
    }
   ],
   "source": [
    "my_list.copy()"
   ]
  },
  {
   "cell_type": "code",
   "execution_count": 50,
   "id": "18e52f39-8ebb-4848-ad6e-c4ae3e0b3c45",
   "metadata": {},
   "outputs": [
    {
     "data": {
      "text/plain": [
       "[]"
      ]
     },
     "execution_count": 50,
     "metadata": {},
     "output_type": "execute_result"
    }
   ],
   "source": [
    "my_list.clear()\n",
    "my_list"
   ]
  },
  {
   "cell_type": "code",
   "execution_count": 51,
   "id": "746d4fba-c045-425d-9603-e73ecb1325b7",
   "metadata": {},
   "outputs": [],
   "source": [
    "del my_list"
   ]
  },
  {
   "cell_type": "code",
   "execution_count": 52,
   "id": "d6310052-72d9-403f-b6b4-875233a033a0",
   "metadata": {},
   "outputs": [
    {
     "ename": "NameError",
     "evalue": "name 'my_list' is not defined",
     "output_type": "error",
     "traceback": [
      "\u001b[1;31m---------------------------------------------------------------------------\u001b[0m",
      "\u001b[1;31mNameError\u001b[0m                                 Traceback (most recent call last)",
      "Cell \u001b[1;32mIn[52], line 1\u001b[0m\n\u001b[1;32m----> 1\u001b[0m my_list\n",
      "\u001b[1;31mNameError\u001b[0m: name 'my_list' is not defined"
     ]
    }
   ],
   "source": [
    "my_list"
   ]
  },
  {
   "cell_type": "code",
   "execution_count": null,
   "id": "15350094-9a16-4e2d-a220-3559362cd11f",
   "metadata": {},
   "outputs": [],
   "source": []
  }
 ],
 "metadata": {
  "kernelspec": {
   "display_name": "Python 3 (ipykernel)",
   "language": "python",
   "name": "python3"
  },
  "language_info": {
   "codemirror_mode": {
    "name": "ipython",
    "version": 3
   },
   "file_extension": ".py",
   "mimetype": "text/x-python",
   "name": "python",
   "nbconvert_exporter": "python",
   "pygments_lexer": "ipython3",
   "version": "3.12.4"
  }
 },
 "nbformat": 4,
 "nbformat_minor": 5
}
