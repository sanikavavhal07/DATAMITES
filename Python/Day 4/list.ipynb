{
 "cells": [
  {
   "cell_type": "code",
   "execution_count": 9,
   "id": "565164e2-d9e5-4247-a81e-ef8f9f8baf35",
   "metadata": {},
   "outputs": [
    {
     "name": "stdout",
     "output_type": "stream",
     "text": [
      "['Sanika', 'Pune', 21, 5.3]\n"
     ]
    }
   ],
   "source": [
    "# list - collection of homogeneous as well as heterogeneous data type\n",
    "# Elements enclosed in [] and seperated by ,\n",
    "# elements accessed by +ve and -ve index\n",
    "# slicing possible in list [start : end : step]\n",
    "# lists are mutable\n",
    "# the function which needs an object to call is called method\n",
    "\n",
    "info = [\"Sanika\",\"Pune\",21, 5.3]\n",
    "print(info)"
   ]
  },
  {
   "cell_type": "code",
   "execution_count": 10,
   "id": "83c3b8a7-e4e7-4817-b8b9-c01f223506b8",
   "metadata": {},
   "outputs": [
    {
     "name": "stdout",
     "output_type": "stream",
     "text": [
      "Pune\n"
     ]
    }
   ],
   "source": [
    "print(info[1])"
   ]
  },
  {
   "cell_type": "code",
   "execution_count": 11,
   "id": "31a2bfff-a952-445b-ab90-3aa993448681",
   "metadata": {},
   "outputs": [
    {
     "data": {
      "text/plain": [
       "list"
      ]
     },
     "execution_count": 11,
     "metadata": {},
     "output_type": "execute_result"
    }
   ],
   "source": [
    "type(info)"
   ]
  },
  {
   "cell_type": "code",
   "execution_count": 12,
   "id": "a5e6b253-501f-452e-a204-02b1da62af85",
   "metadata": {},
   "outputs": [
    {
     "name": "stdout",
     "output_type": "stream",
     "text": [
      "<class 'list'>\n"
     ]
    }
   ],
   "source": [
    "print(type(info))"
   ]
  },
  {
   "cell_type": "code",
   "execution_count": 13,
   "id": "ddab54ea-d3f7-4109-a5b9-f0bbd5ce2ba2",
   "metadata": {},
   "outputs": [
    {
     "data": {
      "text/plain": [
       "str"
      ]
     },
     "execution_count": 13,
     "metadata": {},
     "output_type": "execute_result"
    }
   ],
   "source": [
    "type(info[1])"
   ]
  },
  {
   "cell_type": "code",
   "execution_count": 14,
   "id": "0f3d44c5-39e3-4a41-a74a-b79ddaa7840f",
   "metadata": {},
   "outputs": [
    {
     "data": {
      "text/plain": [
       "5.3"
      ]
     },
     "execution_count": 14,
     "metadata": {},
     "output_type": "execute_result"
    }
   ],
   "source": [
    "info[-1]"
   ]
  },
  {
   "cell_type": "code",
   "execution_count": 17,
   "id": "92595644-a529-45cc-ae83-63825cf42dd8",
   "metadata": {},
   "outputs": [
    {
     "data": {
      "text/plain": [
       "[21, 5.3]"
      ]
     },
     "execution_count": 17,
     "metadata": {},
     "output_type": "execute_result"
    }
   ],
   "source": [
    "info[2:4]"
   ]
  },
  {
   "cell_type": "code",
   "execution_count": 18,
   "id": "136911aa-ee7f-4897-9daa-fc84e3a74b5d",
   "metadata": {},
   "outputs": [
    {
     "data": {
      "text/plain": [
       "['Sanika', 21]"
      ]
     },
     "execution_count": 18,
     "metadata": {},
     "output_type": "execute_result"
    }
   ],
   "source": [
    "info[0:4:2]"
   ]
  },
  {
   "cell_type": "code",
   "execution_count": 19,
   "id": "b6f0f7cc-8cd1-41ad-8436-56dca779e48f",
   "metadata": {},
   "outputs": [
    {
     "data": {
      "text/plain": [
       "[1, 2, 3, 4, 5, 6, 7, 8, 9, 10]"
      ]
     },
     "execution_count": 19,
     "metadata": {},
     "output_type": "execute_result"
    }
   ],
   "source": [
    "list03 = [1, 2, 3, 4, 5, 6, 7, 8, 9, 10]\n",
    "list03[:]"
   ]
  },
  {
   "cell_type": "code",
   "execution_count": 22,
   "id": "77f29c45-2bcf-47f2-858a-be4f7767b731",
   "metadata": {},
   "outputs": [
    {
     "data": {
      "text/plain": [
       "[1, 2, 3, 4, 5, 6, 7, 8, 9, 10]"
      ]
     },
     "execution_count": 22,
     "metadata": {},
     "output_type": "execute_result"
    }
   ],
   "source": [
    "list03[::]"
   ]
  },
  {
   "cell_type": "code",
   "execution_count": 23,
   "id": "9cd9f3d0-7ec9-429a-8776-ba0a972cd036",
   "metadata": {},
   "outputs": [
    {
     "data": {
      "text/plain": [
       "[1, 3, 5, 7, 9]"
      ]
     },
     "execution_count": 23,
     "metadata": {},
     "output_type": "execute_result"
    }
   ],
   "source": [
    "list03[::2]"
   ]
  },
  {
   "cell_type": "code",
   "execution_count": 25,
   "id": "5a316dfd-b6ed-4a30-b28e-229b42303f1f",
   "metadata": {},
   "outputs": [
    {
     "data": {
      "text/plain": [
       "[4, 5, 6, 7, 8, 9, 10]"
      ]
     },
     "execution_count": 25,
     "metadata": {},
     "output_type": "execute_result"
    }
   ],
   "source": [
    "list03[3::]"
   ]
  },
  {
   "cell_type": "code",
   "execution_count": 26,
   "id": "fbca4948-5956-4ef6-8810-fab9ed6fe67f",
   "metadata": {},
   "outputs": [
    {
     "data": {
      "text/plain": [
       "[1, 2, 3, 4, 5]"
      ]
     },
     "execution_count": 26,
     "metadata": {},
     "output_type": "execute_result"
    }
   ],
   "source": [
    "list03[:5:]"
   ]
  },
  {
   "cell_type": "code",
   "execution_count": 29,
   "id": "52ec7830-dac1-4126-9ec8-d83208e920c8",
   "metadata": {},
   "outputs": [
    {
     "data": {
      "text/plain": [
       "[10, 9, 8, 7, 6, 5, 4, 3, 2, 1]"
      ]
     },
     "execution_count": 29,
     "metadata": {},
     "output_type": "execute_result"
    }
   ],
   "source": [
    "list03[::-1]"
   ]
  },
  {
   "cell_type": "code",
   "execution_count": 30,
   "id": "66c8679c-8b1b-4b80-bf14-17f56d7c2666",
   "metadata": {},
   "outputs": [
    {
     "data": {
      "text/plain": [
       "10"
      ]
     },
     "execution_count": 30,
     "metadata": {},
     "output_type": "execute_result"
    }
   ],
   "source": [
    "len(list03)"
   ]
  },
  {
   "cell_type": "code",
   "execution_count": 31,
   "id": "5c9c3269-ecbb-4438-b072-517224cbb46f",
   "metadata": {},
   "outputs": [
    {
     "data": {
      "text/plain": [
       "[1, 2, 3, 4, 5, 6, 7, 8, 9, 10, 11]"
      ]
     },
     "execution_count": 31,
     "metadata": {},
     "output_type": "execute_result"
    }
   ],
   "source": [
    "list03.append(11)\n",
    "list03"
   ]
  },
  {
   "cell_type": "code",
   "execution_count": 33,
   "id": "3bca40d0-dc9f-41f1-9aee-1f4603acdc2d",
   "metadata": {},
   "outputs": [
    {
     "data": {
      "text/plain": [
       "[1, 2, 3, 4, 5, 6, 7, 8, 9, 10, 11, 12, 13]"
      ]
     },
     "execution_count": 33,
     "metadata": {},
     "output_type": "execute_result"
    }
   ],
   "source": [
    "list03.extend([12,13])\n",
    "list03"
   ]
  },
  {
   "cell_type": "code",
   "execution_count": 41,
   "id": "908dcc22-7c7a-4d29-b7a5-6938d66d263a",
   "metadata": {},
   "outputs": [
    {
     "data": {
      "text/plain": [
       "[1, 2, 3, 30, 30, 4, 5, 6, 7, 8, 9, 10, 11, 12, 13]"
      ]
     },
     "execution_count": 41,
     "metadata": {},
     "output_type": "execute_result"
    }
   ],
   "source": [
    "list03.insert(3,30)\n",
    "list03"
   ]
  },
  {
   "cell_type": "code",
   "execution_count": 42,
   "id": "0978b9ca-3c4e-4bb4-8aa5-5d0d08b10c68",
   "metadata": {},
   "outputs": [
    {
     "data": {
      "text/plain": [
       "[1, 2, 3, 30, 30, 4, [20, 30, 40], 5, 6, 7, 8, 9, 10, 11, 12, 13]"
      ]
     },
     "execution_count": 42,
     "metadata": {},
     "output_type": "execute_result"
    }
   ],
   "source": [
    "#list03.insert(6,[20,30,40])\n",
    "#list03"
   ]
  },
  {
   "cell_type": "code",
   "execution_count": 46,
   "id": "0685213e-f950-4d78-98cb-42331b1bbca6",
   "metadata": {},
   "outputs": [
    {
     "data": {
      "text/plain": [
       "[1, 2, 3, 30, 30, 4, [20, 30, 40], 5, 6, 7, 8, 9, 10, 11, 12, 13, 14, 15]"
      ]
     },
     "execution_count": 46,
     "metadata": {},
     "output_type": "execute_result"
    }
   ],
   "source": [
    "list03.extend([15])\n",
    "list03"
   ]
  },
  {
   "cell_type": "code",
   "execution_count": 47,
   "id": "284dc0e1-dd07-47f2-832c-0616d484e6ba",
   "metadata": {},
   "outputs": [
    {
     "data": {
      "text/plain": [
       "15"
      ]
     },
     "execution_count": 47,
     "metadata": {},
     "output_type": "execute_result"
    }
   ],
   "source": [
    "list03.pop()"
   ]
  },
  {
   "cell_type": "code",
   "execution_count": 48,
   "id": "19fd6741-e1fb-4a42-8d94-642403e3214d",
   "metadata": {},
   "outputs": [
    {
     "data": {
      "text/plain": [
       "[1, 2, 3, 30, 30, 4, [20, 30, 40], 5, 6, 7, 8, 9, 10, 11, 12, 13, 14]"
      ]
     },
     "execution_count": 48,
     "metadata": {},
     "output_type": "execute_result"
    }
   ],
   "source": [
    "list03"
   ]
  },
  {
   "cell_type": "code",
   "execution_count": 52,
   "id": "3e80e8e3-5082-49dd-99bb-1804cf7ed92d",
   "metadata": {},
   "outputs": [
    {
     "data": {
      "text/plain": [
       "7"
      ]
     },
     "execution_count": 52,
     "metadata": {},
     "output_type": "execute_result"
    }
   ],
   "source": [
    "list03.pop(8)"
   ]
  },
  {
   "cell_type": "code",
   "execution_count": 50,
   "id": "3782f8d4-ad98-4847-a30b-573c0b8964f8",
   "metadata": {},
   "outputs": [
    {
     "data": {
      "text/plain": [
       "[1, 2, 3, 30, 30, 4, [20, 30, 40], 5, 7, 8, 9, 10, 11, 12, 13, 14]"
      ]
     },
     "execution_count": 50,
     "metadata": {},
     "output_type": "execute_result"
    }
   ],
   "source": [
    "list03"
   ]
  },
  {
   "cell_type": "code",
   "execution_count": 54,
   "id": "3f67deab-9c52-45c3-b32d-899b7af7a38d",
   "metadata": {},
   "outputs": [
    {
     "data": {
      "text/plain": [
       "[1, 2, 3, 4, [20, 30, 40], 5, 8, 9, 10, 11, 12, 13, 14]"
      ]
     },
     "execution_count": 54,
     "metadata": {},
     "output_type": "execute_result"
    }
   ],
   "source": [
    "list03.remove(30)\n",
    "list03"
   ]
  },
  {
   "cell_type": "code",
   "execution_count": 57,
   "id": "eee351d0-844e-4e88-bda0-dcad28e6af8b",
   "metadata": {},
   "outputs": [
    {
     "data": {
      "text/plain": [
       "[1, 2, 5, 8, 9, 10, 11, 12, 13, 14]"
      ]
     },
     "execution_count": 57,
     "metadata": {},
     "output_type": "execute_result"
    }
   ],
   "source": [
    "del list03[2]\n",
    "list03"
   ]
  },
  {
   "cell_type": "code",
   "execution_count": 58,
   "id": "b33ab0f1-647c-44b7-93f9-04f5181ba246",
   "metadata": {},
   "outputs": [
    {
     "data": {
      "text/plain": [
       "[]"
      ]
     },
     "execution_count": 58,
     "metadata": {},
     "output_type": "execute_result"
    }
   ],
   "source": [
    "list03.clear()\n",
    "list03"
   ]
  },
  {
   "cell_type": "code",
   "execution_count": 59,
   "id": "11eeb038-9b02-4a8d-8750-a4194da480c6",
   "metadata": {},
   "outputs": [],
   "source": [
    "del list03"
   ]
  },
  {
   "cell_type": "code",
   "execution_count": 66,
   "id": "26d5f22f-d515-49b2-9e0c-44e784c5b590",
   "metadata": {},
   "outputs": [
    {
     "ename": "NameError",
     "evalue": "name 'list03' is not defined",
     "output_type": "error",
     "traceback": [
      "\u001b[1;31m---------------------------------------------------------------------------\u001b[0m",
      "\u001b[1;31mNameError\u001b[0m                                 Traceback (most recent call last)",
      "Cell \u001b[1;32mIn[66], line 1\u001b[0m\n\u001b[1;32m----> 1\u001b[0m list03\n",
      "\u001b[1;31mNameError\u001b[0m: name 'list03' is not defined"
     ]
    }
   ],
   "source": [
    "list03"
   ]
  },
  {
   "cell_type": "code",
   "execution_count": 67,
   "id": "6db57816-62d1-49c2-89c2-aa9e8bc3f36e",
   "metadata": {},
   "outputs": [
    {
     "data": {
      "text/plain": [
       "['Sanika', 'Pune', 21, 5.3]"
      ]
     },
     "execution_count": 67,
     "metadata": {},
     "output_type": "execute_result"
    }
   ],
   "source": [
    "info"
   ]
  },
  {
   "cell_type": "code",
   "execution_count": 68,
   "id": "29c4ae50-c746-4d4d-91d2-4ed7cfdffd73",
   "metadata": {},
   "outputs": [],
   "source": [
    "info[1]=\"Mundhwa\""
   ]
  },
  {
   "cell_type": "code",
   "execution_count": 69,
   "id": "ac621ae0-2bca-4633-8c24-ea3d20d50ffd",
   "metadata": {},
   "outputs": [
    {
     "data": {
      "text/plain": [
       "['Sanika', 'Mundhwa', 21, 5.3]"
      ]
     },
     "execution_count": 69,
     "metadata": {},
     "output_type": "execute_result"
    }
   ],
   "source": [
    "info"
   ]
  },
  {
   "cell_type": "code",
   "execution_count": 70,
   "id": "6d249a92-3b4e-45f8-8d9d-d26baa7a4ea5",
   "metadata": {},
   "outputs": [
    {
     "data": {
      "text/plain": [
       "['Sahsham', 'Wagholi', 22, 6.0]"
      ]
     },
     "execution_count": 70,
     "metadata": {},
     "output_type": "execute_result"
    }
   ],
   "source": [
    "info02 = [\"Sahsham\", \"Wagholi\", 22, 6.0]\n",
    "info02"
   ]
  },
  {
   "cell_type": "code",
   "execution_count": 71,
   "id": "d2563beb-7907-452a-a124-af1d5bed13e5",
   "metadata": {},
   "outputs": [
    {
     "data": {
      "text/plain": [
       "['Sanika', 'Mundhwa', 21, 5.3, 'Sahsham', 'Wagholi', 22, 6.0]"
      ]
     },
     "execution_count": 71,
     "metadata": {},
     "output_type": "execute_result"
    }
   ],
   "source": [
    "us = info + info02\n",
    "us"
   ]
  },
  {
   "cell_type": "code",
   "execution_count": 72,
   "id": "e82bb5e6-aeb8-441a-b9ae-68451937a59b",
   "metadata": {},
   "outputs": [
    {
     "data": {
      "text/plain": [
       "True"
      ]
     },
     "execution_count": 72,
     "metadata": {},
     "output_type": "execute_result"
    }
   ],
   "source": [
    "21 in us"
   ]
  },
  {
   "cell_type": "code",
   "execution_count": 73,
   "id": "d36d0078-77fe-4486-9020-7215f362beac",
   "metadata": {},
   "outputs": [
    {
     "data": {
      "text/plain": [
       "False"
      ]
     },
     "execution_count": 73,
     "metadata": {},
     "output_type": "execute_result"
    }
   ],
   "source": [
    "30 in us"
   ]
  },
  {
   "cell_type": "code",
   "execution_count": 74,
   "id": "5a254be2-6145-4b87-8732-ede48c0f638a",
   "metadata": {},
   "outputs": [
    {
     "data": {
      "text/plain": [
       "True"
      ]
     },
     "execution_count": 74,
     "metadata": {},
     "output_type": "execute_result"
    }
   ],
   "source": [
    "30 not in us"
   ]
  },
  {
   "cell_type": "code",
   "execution_count": 75,
   "id": "4e7648ed-d0d5-460d-ab48-97aa6d45a963",
   "metadata": {},
   "outputs": [
    {
     "data": {
      "text/plain": [
       "[6.0, 22, 'Wagholi', 'Sahsham', 5.3, 21, 'Mundhwa', 'Sanika']"
      ]
     },
     "execution_count": 75,
     "metadata": {},
     "output_type": "execute_result"
    }
   ],
   "source": [
    "us.reverse()\n",
    "us"
   ]
  },
  {
   "cell_type": "code",
   "execution_count": 77,
   "id": "bc1323aa-bdfe-428f-8f00-953823f02224",
   "metadata": {},
   "outputs": [
    {
     "data": {
      "text/plain": [
       "['Sanika', 'Mundhwa', 21, 5.3, 'Sahsham', 'Wagholi', 22, 6.0]"
      ]
     },
     "execution_count": 77,
     "metadata": {},
     "output_type": "execute_result"
    }
   ],
   "source": [
    "l1 = us[::-1]\n",
    "l1"
   ]
  },
  {
   "cell_type": "code",
   "execution_count": 81,
   "id": "8857abc9-51c8-448e-bc9b-c8d275d177a5",
   "metadata": {},
   "outputs": [],
   "source": [
    "#reverse the list\n",
    "newlist = []\n",
    "for i in range(len(l1)-1,-1,-1):\n",
    "    newlist.append(l1[i])"
   ]
  },
  {
   "cell_type": "code",
   "execution_count": 82,
   "id": "ca239099-f2ca-4889-a9a1-3fcd3b734d07",
   "metadata": {},
   "outputs": [
    {
     "data": {
      "text/plain": [
       "[6.0, 22, 'Wagholi', 'Sahsham', 5.3, 21, 'Mundhwa', 'Sanika']"
      ]
     },
     "execution_count": 82,
     "metadata": {},
     "output_type": "execute_result"
    }
   ],
   "source": [
    "newlist"
   ]
  },
  {
   "cell_type": "code",
   "execution_count": null,
   "id": "dc04126a-0395-4204-99df-19c6e46e6f98",
   "metadata": {},
   "outputs": [],
   "source": []
  }
 ],
 "metadata": {
  "kernelspec": {
   "display_name": "Python 3 (ipykernel)",
   "language": "python",
   "name": "python3"
  },
  "language_info": {
   "codemirror_mode": {
    "name": "ipython",
    "version": 3
   },
   "file_extension": ".py",
   "mimetype": "text/x-python",
   "name": "python",
   "nbconvert_exporter": "python",
   "pygments_lexer": "ipython3",
   "version": "3.12.4"
  }
 },
 "nbformat": 4,
 "nbformat_minor": 5
}
