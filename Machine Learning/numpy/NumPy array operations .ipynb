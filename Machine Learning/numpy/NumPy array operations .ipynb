{
 "cells": [
  {
   "cell_type": "markdown",
   "id": "b29baecb-291e-41b9-929d-a9c03a818fe3",
   "metadata": {},
   "source": [
    "## numpy"
   ]
  },
  {
   "cell_type": "markdown",
   "id": "f3ac0922-5d57-4d73-abaf-f4d765b42501",
   "metadata": {},
   "source": [
    "NumPy is a powerful Python library used for numerical computing. It provides support for large, multi-dimensional arrays and matrices, along with a collection of mathematical functions to operate on these arrays efficiently."
   ]
  },
  {
   "cell_type": "markdown",
   "id": "a394575b-f760-4b28-baac-08863d1ee232",
   "metadata": {},
   "source": [
    "Array Handling: NumPy introduces the ndarray object, which is a fast, efficient container for large datasets in Python. It's much more efficient than Python's built-in lists for numerical data.\n",
    "\n",
    "Mathematical Operations: NumPy provides a wide range of mathematical functions, such as linear algebra operations, Fourier transforms, random number generation, and statistical functions.\n",
    "\n",
    "Data Manipulation: NumPy allows for easy reshaping, slicing, and indexing of arrays. This makes it straightforward to manipulate and access data.\n",
    "\n",
    "Integration with Other Libraries: NumPy is the foundation for many other libraries in Python, including pandas, scikit-learn, and TensorFlow. It provides the numerical backbone for data analysis and machine learning.\n",
    "\n",
    "Performance: NumPy operations are executed in C, making them much faster than equivalent Python code. This performance boost is crucial for handling large datasets"
   ]
  },
  {
   "cell_type": "code",
   "execution_count": 1,
   "id": "0a57e1a6-30bf-4273-87e2-f0e4340e407e",
   "metadata": {},
   "outputs": [
    {
     "name": "stdout",
     "output_type": "stream",
     "text": [
      "Requirement already satisfied: numpy in c:\\users\\sanik\\anaconda3\\lib\\site-packages (1.26.4)\n"
     ]
    }
   ],
   "source": [
    "!pip install numpy"
   ]
  },
  {
   "cell_type": "markdown",
   "id": "7802f4d1-9ff6-4c48-acc0-013f7060004d",
   "metadata": {},
   "source": [
    "## Using NumPy"
   ]
  },
  {
   "cell_type": "code",
   "execution_count": 2,
   "id": "71eb14ad-c793-49ce-b89b-0de9b23a434e",
   "metadata": {},
   "outputs": [],
   "source": [
    "import numpy as np"
   ]
  },
  {
   "cell_type": "markdown",
   "id": "9827032b-2ae5-47a4-9180-8a70093943e8",
   "metadata": {},
   "source": [
    "## Arrays"
   ]
  },
  {
   "cell_type": "code",
   "execution_count": 4,
   "id": "3ef51c5f-7263-471f-95a9-7325ec9c536f",
   "metadata": {},
   "outputs": [
    {
     "data": {
      "text/plain": [
       "array([], dtype=float64)"
      ]
     },
     "execution_count": 4,
     "metadata": {},
     "output_type": "execute_result"
    }
   ],
   "source": [
    "# creating an empty array\n",
    "# default datatype of elements of array is float\n",
    "arr1 = np.array([])\n",
    "arr1"
   ]
  },
  {
   "cell_type": "code",
   "execution_count": 7,
   "id": "cc8a6c20-c8db-4565-a373-778b72041dfe",
   "metadata": {},
   "outputs": [
    {
     "name": "stdout",
     "output_type": "stream",
     "text": [
      "[1, 2, 3, 4, 5, 6, 7]\n",
      "<class 'list'>\n"
     ]
    }
   ],
   "source": [
    "my_list = [1,2,3,4,5,6,7]\n",
    "print(my_list)\n",
    "print(type(my_list))"
   ]
  },
  {
   "cell_type": "code",
   "execution_count": 8,
   "id": "cc450e08-b469-441a-ad24-dd477f8d5d2b",
   "metadata": {},
   "outputs": [
    {
     "name": "stdout",
     "output_type": "stream",
     "text": [
      "[1 2 3 4 5 6 7]\n"
     ]
    }
   ],
   "source": [
    "# passing list to array\n",
    "a = np.array(my_list)\n",
    "print(a)"
   ]
  },
  {
   "cell_type": "code",
   "execution_count": 23,
   "id": "c3f8d67b-bd48-4c34-95fa-be6019ecb336",
   "metadata": {},
   "outputs": [
    {
     "name": "stdout",
     "output_type": "stream",
     "text": [
      "<class 'numpy.ndarray'>\n"
     ]
    }
   ],
   "source": [
    "print(type(a))\n",
    "# n dimensional array"
   ]
  },
  {
   "cell_type": "markdown",
   "id": "e2d86cd1-d1b7-470e-b4d2-4c3ecb5ec948",
   "metadata": {},
   "source": [
    "ndim"
   ]
  },
  {
   "cell_type": "code",
   "execution_count": 28,
   "id": "454e49d4-a074-4bae-a5d4-0d8ff808901d",
   "metadata": {},
   "outputs": [
    {
     "name": "stdout",
     "output_type": "stream",
     "text": [
      "This is  1 dimension array\n"
     ]
    }
   ],
   "source": [
    "print(\"This is \", a.ndim ,\"dimension array\")\n",
    "# to find number of dimension in array"
   ]
  },
  {
   "cell_type": "markdown",
   "id": "44408ff1-805b-4bb9-a22b-3b1415318a2f",
   "metadata": {},
   "source": [
    "size"
   ]
  },
  {
   "cell_type": "code",
   "execution_count": 26,
   "id": "df6bf79c-dcf1-47b7-acba-14a2abd3cf64",
   "metadata": {},
   "outputs": [
    {
     "name": "stdout",
     "output_type": "stream",
     "text": [
      "The size of array is :  7\n"
     ]
    }
   ],
   "source": [
    "print(\"The size of array is : \", a.size)\n",
    "# no. of itens in array"
   ]
  },
  {
   "cell_type": "markdown",
   "id": "b4f81675-dfb0-4ba7-a37b-5c5459816f67",
   "metadata": {},
   "source": [
    "shape"
   ]
  },
  {
   "cell_type": "code",
   "execution_count": 29,
   "id": "25251dc7-e4dd-4b1e-9730-deebd2478b19",
   "metadata": {},
   "outputs": [
    {
     "name": "stdout",
     "output_type": "stream",
     "text": [
      "Shape of array is :  (7,)\n"
     ]
    }
   ],
   "source": [
    "print(\"Shape of array is : \", a.shape)\n",
    "# shape of array "
   ]
  },
  {
   "cell_type": "markdown",
   "id": "0a1a8696-f328-4b83-a703-158226e5209a",
   "metadata": {},
   "source": [
    "## n dimension array"
   ]
  },
  {
   "cell_type": "code",
   "execution_count": 18,
   "id": "9443b3bf-68c2-4718-8c3d-ae3262518cea",
   "metadata": {},
   "outputs": [
    {
     "name": "stdout",
     "output_type": "stream",
     "text": [
      "[[1, 2, 3, 4], [8, 7, 6, 5], [2, 9, 0, 4]]\n"
     ]
    }
   ],
   "source": [
    "my_matrix = [[1,2,3,4],[8,7,6,5],[2,9,0,4]]\n",
    "print(my_matrix)"
   ]
  },
  {
   "cell_type": "code",
   "execution_count": 19,
   "id": "90aa4413-5ce8-4b7e-b63c-1cff203dae2f",
   "metadata": {},
   "outputs": [
    {
     "name": "stdout",
     "output_type": "stream",
     "text": [
      "<class 'list'>\n"
     ]
    }
   ],
   "source": [
    "print(type(my_matrix))"
   ]
  },
  {
   "cell_type": "code",
   "execution_count": 21,
   "id": "272d47a2-4c64-4f09-b486-ba5e7451f33b",
   "metadata": {},
   "outputs": [
    {
     "name": "stdout",
     "output_type": "stream",
     "text": [
      "[[1 2 3 4]\n",
      " [8 7 6 5]\n",
      " [2 9 0 4]]\n"
     ]
    }
   ],
   "source": [
    "arr2 = np.array(my_matrix)\n",
    "print(arr2)\n",
    "# generating a 2D array"
   ]
  },
  {
   "cell_type": "code",
   "execution_count": 22,
   "id": "c06b0160-9809-46b4-918c-cf03cb15b5c2",
   "metadata": {},
   "outputs": [
    {
     "name": "stdout",
     "output_type": "stream",
     "text": [
      "<class 'numpy.ndarray'>\n"
     ]
    }
   ],
   "source": [
    "print(type(arr2))"
   ]
  },
  {
   "cell_type": "code",
   "execution_count": 30,
   "id": "1fd5c469-51e8-4eb2-9015-d16d3ec2bdc8",
   "metadata": {},
   "outputs": [
    {
     "name": "stdout",
     "output_type": "stream",
     "text": [
      "This is  2 dimension array\n"
     ]
    }
   ],
   "source": [
    "print(\"This is \", arr2.ndim ,\"dimension array\")"
   ]
  },
  {
   "cell_type": "code",
   "execution_count": 31,
   "id": "506bb1ea-b90b-427f-8eae-f34b42460a3f",
   "metadata": {},
   "outputs": [
    {
     "name": "stdout",
     "output_type": "stream",
     "text": [
      "The size of array: 12\n"
     ]
    }
   ],
   "source": [
    "print('The size of array:', arr2.size)"
   ]
  },
  {
   "cell_type": "code",
   "execution_count": 32,
   "id": "cf50512f-cb9b-49af-8030-fd4dfb5f2790",
   "metadata": {},
   "outputs": [
    {
     "name": "stdout",
     "output_type": "stream",
     "text": [
      "The datatype of element: int32\n"
     ]
    }
   ],
   "source": [
    "print('The datatype of element:', arr2.dtype)"
   ]
  },
  {
   "cell_type": "code",
   "execution_count": 34,
   "id": "daa738b3-3fed-457c-90e8-d6f7438e46a7",
   "metadata": {},
   "outputs": [
    {
     "name": "stdout",
     "output_type": "stream",
     "text": [
      "The shape of array is : (3, 4)\n"
     ]
    }
   ],
   "source": [
    "print('The shape of array is :', arr2.shape)"
   ]
  },
  {
   "cell_type": "code",
   "execution_count": 35,
   "id": "86256174-6721-4fc1-9efa-47fa43b1bbc6",
   "metadata": {},
   "outputs": [
    {
     "name": "stdout",
     "output_type": "stream",
     "text": [
      "[[[1 2 3]\n",
      "  [4 5 6]]\n",
      "\n",
      " [[4 5 6]\n",
      "  [1 2 3]]]\n"
     ]
    }
   ],
   "source": [
    "arr3 = np.array([[[1,2,3],[4,5,6]],[[4,5,6],[1,2,3]]])\n",
    "print(arr3)"
   ]
  },
  {
   "cell_type": "code",
   "execution_count": 36,
   "id": "2a1b9063-5cf2-44e5-ad68-3ce1bab52904",
   "metadata": {},
   "outputs": [
    {
     "name": "stdout",
     "output_type": "stream",
     "text": [
      "The shape of array is :  (2, 2, 3)\n"
     ]
    }
   ],
   "source": [
    "print(\"The shape of array is : \", arr3.shape)\n",
    "# no. of lists, rows, column"
   ]
  },
  {
   "cell_type": "code",
   "execution_count": 37,
   "id": "14659364-548b-4713-ab6d-07fe6a12bcb3",
   "metadata": {},
   "outputs": [
    {
     "name": "stdout",
     "output_type": "stream",
     "text": [
      "This is  3 dimension array\n"
     ]
    }
   ],
   "source": [
    "print(\"This is \", arr3.ndim ,\"dimension array\")"
   ]
  },
  {
   "cell_type": "code",
   "execution_count": 38,
   "id": "ee5ba1a8-7b6a-43b2-982f-6d037d682bd5",
   "metadata": {},
   "outputs": [
    {
     "name": "stdout",
     "output_type": "stream",
     "text": [
      "The size of array: 12\n"
     ]
    }
   ],
   "source": [
    "print('The size of array:', arr3.size)"
   ]
  },
  {
   "cell_type": "markdown",
   "id": "8b897c7a-fda5-43dc-96c4-8a975f677582",
   "metadata": {},
   "source": [
    "## Built-in Methods"
   ]
  },
  {
   "cell_type": "markdown",
   "id": "13e2dc2b-e87b-4c62-99e4-72444c33ca34",
   "metadata": {},
   "source": [
    "## 1. reshape()"
   ]
  },
  {
   "cell_type": "code",
   "execution_count": 39,
   "id": "2f7b0928-ddb1-48b1-97f5-029a88406b12",
   "metadata": {},
   "outputs": [
    {
     "name": "stdout",
     "output_type": "stream",
     "text": [
      "[[[1 2 3]\n",
      "  [4 5 6]]\n",
      "\n",
      " [[4 5 6]\n",
      "  [1 2 3]]]\n"
     ]
    }
   ],
   "source": [
    "print(arr3)"
   ]
  },
  {
   "cell_type": "code",
   "execution_count": 40,
   "id": "e2b9c93d-659c-4078-81b5-9989355f3b85",
   "metadata": {},
   "outputs": [
    {
     "data": {
      "text/plain": [
       "(2, 2, 3)"
      ]
     },
     "execution_count": 40,
     "metadata": {},
     "output_type": "execute_result"
    }
   ],
   "source": [
    "arr3.shape"
   ]
  },
  {
   "cell_type": "code",
   "execution_count": 42,
   "id": "0d727c4c-90b2-44a2-9de3-98105b8aa40a",
   "metadata": {},
   "outputs": [
    {
     "name": "stdout",
     "output_type": "stream",
     "text": [
      "[[[1 2]\n",
      "  [3 4]\n",
      "  [5 6]\n",
      "  [4 5]\n",
      "  [6 1]\n",
      "  [2 3]]]\n"
     ]
    }
   ],
   "source": [
    "new_arr3 = arr3.reshape((1,6,2))\n",
    "print(new_arr3)\n",
    "# change the shape of an existing array without altering its data\n",
    "# The total number of elements in the new shape must match the total number of elements in the original array"
   ]
  },
  {
   "cell_type": "code",
   "execution_count": 45,
   "id": "370ae344-f602-4c85-8b4e-6537cccdac59",
   "metadata": {},
   "outputs": [
    {
     "name": "stdout",
     "output_type": "stream",
     "text": [
      "(1, 6, 2)\n"
     ]
    }
   ],
   "source": [
    "print(new_arr3.shape)"
   ]
  },
  {
   "cell_type": "code",
   "execution_count": 49,
   "id": "558eed3b-d52e-46de-8c27-62b0dcd464d0",
   "metadata": {},
   "outputs": [
    {
     "name": "stdout",
     "output_type": "stream",
     "text": [
      "[[1 2 3 4]\n",
      " [5 6 4 5]\n",
      " [6 1 2 3]]\n"
     ]
    }
   ],
   "source": [
    "new_arr3 = arr3.reshape((3,4))\n",
    "print(new_arr3)"
   ]
  },
  {
   "cell_type": "code",
   "execution_count": 50,
   "id": "47c676c7-64f7-4578-a2b0-80cec784c601",
   "metadata": {},
   "outputs": [
    {
     "name": "stdout",
     "output_type": "stream",
     "text": [
      "(3, 4)\n"
     ]
    }
   ],
   "source": [
    "print(new_arr3.shape)"
   ]
  },
  {
   "cell_type": "markdown",
   "id": "c1a719c4-2ad9-41ae-bac0-3b14a5e57709",
   "metadata": {},
   "source": [
    "Reshape a 1D array into a 2D array"
   ]
  },
  {
   "cell_type": "code",
   "execution_count": 58,
   "id": "03abf6e2-1e2f-43c4-9571-78e0f5a148d8",
   "metadata": {},
   "outputs": [
    {
     "name": "stdout",
     "output_type": "stream",
     "text": [
      "[[1 2 3]\n",
      " [4 5 6]]\n"
     ]
    }
   ],
   "source": [
    "arr = np.array([1, 2, 3, 4, 5, 6])\n",
    "new_arr = arr.reshape((2, 3))\n",
    "print(new_arr)"
   ]
  },
  {
   "cell_type": "code",
   "execution_count": 59,
   "id": "53eda5ce-ec4f-43d7-b827-7030ac5046b3",
   "metadata": {},
   "outputs": [
    {
     "data": {
      "text/plain": [
       "2"
      ]
     },
     "execution_count": 59,
     "metadata": {},
     "output_type": "execute_result"
    }
   ],
   "source": [
    "new_arr.ndim"
   ]
  },
  {
   "cell_type": "markdown",
   "id": "d4077592-c965-48b9-8c2b-034d51972e34",
   "metadata": {},
   "source": [
    "Reshape a 2D array into a 3D array"
   ]
  },
  {
   "cell_type": "code",
   "execution_count": 55,
   "id": "7489985e-d989-49b2-b29d-c0483c4cb7c1",
   "metadata": {},
   "outputs": [
    {
     "name": "stdout",
     "output_type": "stream",
     "text": [
      "[[[1 2 3]]\n",
      "\n",
      " [[4 5 6]]]\n"
     ]
    }
   ],
   "source": [
    "arr = np.array([[1, 2, 3], [4, 5, 6]])\n",
    "new_arr = arr.reshape((2,1,3))\n",
    "print(new_arr)"
   ]
  },
  {
   "cell_type": "code",
   "execution_count": 57,
   "id": "37865472-2048-4972-8e6c-8be2ea0dc42e",
   "metadata": {},
   "outputs": [
    {
     "data": {
      "text/plain": [
       "3"
      ]
     },
     "execution_count": 57,
     "metadata": {},
     "output_type": "execute_result"
    }
   ],
   "source": [
    "new_arr.ndim"
   ]
  },
  {
   "cell_type": "markdown",
   "id": "1d66dc56-cf96-4a5f-b9ea-8605f0738e26",
   "metadata": {},
   "source": [
    "## 2. arange()"
   ]
  },
  {
   "cell_type": "markdown",
   "id": "4922edf8-0a2c-43f2-a326-31c07962e853",
   "metadata": {},
   "source": [
    "Return evenly spaced values within a given interval"
   ]
  },
  {
   "cell_type": "code",
   "execution_count": 63,
   "id": "fa9af09f-73f7-4484-9715-8c2358c7679a",
   "metadata": {},
   "outputs": [
    {
     "data": {
      "text/plain": [
       "array([ 0,  1,  2,  3,  4,  5,  6,  7,  8,  9, 10, 11, 12, 13, 14])"
      ]
     },
     "execution_count": 63,
     "metadata": {},
     "output_type": "execute_result"
    }
   ],
   "source": [
    "np.arange(15) # end, default start from 0"
   ]
  },
  {
   "cell_type": "code",
   "execution_count": 65,
   "id": "3a8948ab-f60d-4765-9004-50e8c1429caa",
   "metadata": {},
   "outputs": [
    {
     "data": {
      "text/plain": [
       "array([50, 45, 40, 35, 30, 25, 20, 15, 10,  5])"
      ]
     },
     "execution_count": 65,
     "metadata": {},
     "output_type": "execute_result"
    }
   ],
   "source": [
    "np.arange(50,1,-5) # start, end, step"
   ]
  },
  {
   "cell_type": "code",
   "execution_count": 66,
   "id": "beff26c1-ccd2-456d-8af9-f2baad69bf58",
   "metadata": {},
   "outputs": [
    {
     "data": {
      "text/plain": [
       "array([ 0,  2,  4,  6,  8, 10])"
      ]
     },
     "execution_count": 66,
     "metadata": {},
     "output_type": "execute_result"
    }
   ],
   "source": [
    "np.arange(0,11,2)"
   ]
  },
  {
   "cell_type": "markdown",
   "id": "49cffa3f-52d9-4281-99f7-2da481f4fd6f",
   "metadata": {},
   "source": [
    "## 3. zeros and ones"
   ]
  },
  {
   "cell_type": "markdown",
   "id": "d2fb652b-8f1c-4c74-a6e1-fda3f3b66704",
   "metadata": {},
   "source": [
    "Generate arrays of zeros or ones"
   ]
  },
  {
   "cell_type": "code",
   "execution_count": 3,
   "id": "00c730fd-8dd6-4795-98b8-37437cc488dc",
   "metadata": {},
   "outputs": [
    {
     "data": {
      "text/plain": [
       "array([0., 0., 0., 0., 0.])"
      ]
     },
     "execution_count": 3,
     "metadata": {},
     "output_type": "execute_result"
    }
   ],
   "source": [
    "np.zeros(5)\n",
    "# generate 1d array with all elements 0"
   ]
  },
  {
   "cell_type": "code",
   "execution_count": 5,
   "id": "ade85953-f444-4254-baad-227185338394",
   "metadata": {},
   "outputs": [
    {
     "data": {
      "text/plain": [
       "array([[0., 0., 0.],\n",
       "       [0., 0., 0.]])"
      ]
     },
     "execution_count": 5,
     "metadata": {},
     "output_type": "execute_result"
    }
   ],
   "source": [
    "np.zeros((2,3))\n",
    "# generate 2d array"
   ]
  },
  {
   "cell_type": "code",
   "execution_count": 6,
   "id": "58db3e13-7385-433c-9dd9-8b61e7ab3f7e",
   "metadata": {},
   "outputs": [
    {
     "data": {
      "text/plain": [
       "array([[[0., 0., 0.],\n",
       "        [0., 0., 0.]],\n",
       "\n",
       "       [[0., 0., 0.],\n",
       "        [0., 0., 0.]]])"
      ]
     },
     "execution_count": 6,
     "metadata": {},
     "output_type": "execute_result"
    }
   ],
   "source": [
    "np.zeros((2,2,3))"
   ]
  },
  {
   "cell_type": "code",
   "execution_count": 10,
   "id": "fcc728fc-ecf4-4f0a-a05a-255af09dfff3",
   "metadata": {},
   "outputs": [
    {
     "data": {
      "text/plain": [
       "array([1., 1., 1.])"
      ]
     },
     "execution_count": 10,
     "metadata": {},
     "output_type": "execute_result"
    }
   ],
   "source": [
    "np.ones(3)\n",
    "# generate 1d array with all elements 1"
   ]
  },
  {
   "cell_type": "code",
   "execution_count": 11,
   "id": "31670cfb-017f-4f32-80a7-6ace391c86c5",
   "metadata": {},
   "outputs": [
    {
     "data": {
      "text/plain": [
       "array([[1., 1., 1., 1.],\n",
       "       [1., 1., 1., 1.],\n",
       "       [1., 1., 1., 1.],\n",
       "       [1., 1., 1., 1.]])"
      ]
     },
     "execution_count": 11,
     "metadata": {},
     "output_type": "execute_result"
    }
   ],
   "source": [
    "np.ones((4,4))"
   ]
  },
  {
   "cell_type": "code",
   "execution_count": 12,
   "id": "a5cba9ba-2999-47a7-803f-4a362ef3f3b3",
   "metadata": {},
   "outputs": [
    {
     "data": {
      "text/plain": [
       "array([[[1., 1., 1.],\n",
       "        [1., 1., 1.],\n",
       "        [1., 1., 1.],\n",
       "        [1., 1., 1.],\n",
       "        [1., 1., 1.]],\n",
       "\n",
       "       [[1., 1., 1.],\n",
       "        [1., 1., 1.],\n",
       "        [1., 1., 1.],\n",
       "        [1., 1., 1.],\n",
       "        [1., 1., 1.]],\n",
       "\n",
       "       [[1., 1., 1.],\n",
       "        [1., 1., 1.],\n",
       "        [1., 1., 1.],\n",
       "        [1., 1., 1.],\n",
       "        [1., 1., 1.]],\n",
       "\n",
       "       [[1., 1., 1.],\n",
       "        [1., 1., 1.],\n",
       "        [1., 1., 1.],\n",
       "        [1., 1., 1.],\n",
       "        [1., 1., 1.]]])"
      ]
     },
     "execution_count": 12,
     "metadata": {},
     "output_type": "execute_result"
    }
   ],
   "source": [
    "np.ones((4,5,3))"
   ]
  },
  {
   "cell_type": "markdown",
   "id": "80e2a94d-a6b8-49a4-9dd7-f629638e0b3e",
   "metadata": {},
   "source": [
    "## 4. linspace()"
   ]
  },
  {
   "cell_type": "code",
   "execution_count": 14,
   "id": "508e841d-1858-4af3-892b-19c11212d9a9",
   "metadata": {},
   "outputs": [
    {
     "data": {
      "text/plain": [
       "array([ 1.        ,  1.28571429,  1.57142857,  1.85714286,  2.14285714,\n",
       "        2.42857143,  2.71428571,  3.        ,  3.28571429,  3.57142857,\n",
       "        3.85714286,  4.14285714,  4.42857143,  4.71428571,  5.        ,\n",
       "        5.28571429,  5.57142857,  5.85714286,  6.14285714,  6.42857143,\n",
       "        6.71428571,  7.        ,  7.28571429,  7.57142857,  7.85714286,\n",
       "        8.14285714,  8.42857143,  8.71428571,  9.        ,  9.28571429,\n",
       "        9.57142857,  9.85714286, 10.14285714, 10.42857143, 10.71428571,\n",
       "       11.        , 11.28571429, 11.57142857, 11.85714286, 12.14285714,\n",
       "       12.42857143, 12.71428571, 13.        , 13.28571429, 13.57142857,\n",
       "       13.85714286, 14.14285714, 14.42857143, 14.71428571, 15.        ])"
      ]
     },
     "execution_count": 14,
     "metadata": {},
     "output_type": "execute_result"
    }
   ],
   "source": [
    "np.linspace(1,15)\n",
    "# prints default 50 observations\n",
    "# generate evenly spaced numbers over a specified range\n",
    "# both the start and end are included in the array"
   ]
  },
  {
   "cell_type": "code",
   "execution_count": 24,
   "id": "26087bdf-ff45-43dd-90a9-1ae3e9dd4702",
   "metadata": {},
   "outputs": [
    {
     "data": {
      "text/plain": [
       "array([  0.,  25.,  50.,  75., 100.])"
      ]
     },
     "execution_count": 24,
     "metadata": {},
     "output_type": "execute_result"
    }
   ],
   "source": [
    "np.linspace(0,100,5)\n",
    "# prints evenly spaced 5 values starting from 0 till 100\n",
    "# ending value must be n+1"
   ]
  },
  {
   "cell_type": "code",
   "execution_count": 26,
   "id": "527cfc3d-8984-446c-8e54-945d6419b55a",
   "metadata": {},
   "outputs": [
    {
     "data": {
      "text/plain": [
       "array([ 0.,  1.,  2.,  3.,  4.,  5.,  6.,  7.,  8.,  9., 10.])"
      ]
     },
     "execution_count": 26,
     "metadata": {},
     "output_type": "execute_result"
    }
   ],
   "source": [
    "np.linspace(0,10,11)"
   ]
  },
  {
   "cell_type": "code",
   "execution_count": 27,
   "id": "3d359bda-9412-4a9f-8038-b8e7c3d65524",
   "metadata": {},
   "outputs": [
    {
     "data": {
      "text/plain": [
       "(array([  0.,  10.,  20.,  30.,  40.,  50.,  60.,  70.,  80.,  90., 100.]),\n",
       " 10.0)"
      ]
     },
     "execution_count": 27,
     "metadata": {},
     "output_type": "execute_result"
    }
   ],
   "source": [
    "np.linspace(0,100,11,retstep=True) \n",
    "# shows the difference between two elements"
   ]
  },
  {
   "cell_type": "markdown",
   "id": "f99bbd71-ce64-44ef-b811-761d60a539c7",
   "metadata": {},
   "source": [
    "## 5. eye()"
   ]
  },
  {
   "cell_type": "markdown",
   "id": "7f2e040b-01c3-40fa-a1ea-c83474cc9d7a",
   "metadata": {},
   "source": [
    "Creates an identity matrix"
   ]
  },
  {
   "cell_type": "code",
   "execution_count": 28,
   "id": "3e62bae8-586e-4ae5-afda-400eb1c21b8b",
   "metadata": {},
   "outputs": [
    {
     "data": {
      "text/plain": [
       "array([[1., 0., 0., 0.],\n",
       "       [0., 1., 0., 0.],\n",
       "       [0., 0., 1., 0.],\n",
       "       [0., 0., 0., 1.]])"
      ]
     },
     "execution_count": 28,
     "metadata": {},
     "output_type": "execute_result"
    }
   ],
   "source": [
    "np.eye(4)\n",
    "# generates 2d array of (4,4)"
   ]
  },
  {
   "cell_type": "markdown",
   "id": "f251d8eb-fc49-4f36-b245-5948eb6025e9",
   "metadata": {},
   "source": [
    "## 6. Broadcasting in an array"
   ]
  },
  {
   "cell_type": "markdown",
   "id": "719d7305-8a94-416f-b084-1ae680a60524",
   "metadata": {},
   "source": [
    "The ability to access each and every element of an array is known as Broadcasting"
   ]
  },
  {
   "cell_type": "code",
   "execution_count": 30,
   "id": "ff5f8b56-201a-49ef-bad2-6d73a3df673b",
   "metadata": {},
   "outputs": [
    {
     "name": "stdout",
     "output_type": "stream",
     "text": [
      "[[1. 1. 1.]\n",
      " [1. 1. 1.]]\n"
     ]
    }
   ],
   "source": [
    "my_arr = np.ones((2,3))\n",
    "print(my_arr)"
   ]
  },
  {
   "cell_type": "code",
   "execution_count": 35,
   "id": "3bb46d47-b8aa-4e71-a792-6d94d0fc142f",
   "metadata": {},
   "outputs": [
    {
     "name": "stdout",
     "output_type": "stream",
     "text": [
      "[[4. 4. 4.]\n",
      " [4. 4. 4.]]\n"
     ]
    }
   ],
   "source": [
    "print(my_arr*4)"
   ]
  },
  {
   "cell_type": "code",
   "execution_count": 36,
   "id": "7e504a87-69fe-42a2-bb69-6da9a04bdb6f",
   "metadata": {},
   "outputs": [
    {
     "name": "stdout",
     "output_type": "stream",
     "text": [
      "[[3. 3. 3.]\n",
      " [3. 3. 3.]]\n"
     ]
    }
   ],
   "source": [
    "print(my_arr*6-3)"
   ]
  },
  {
   "cell_type": "code",
   "execution_count": 34,
   "id": "5bb9a50e-07e7-4d17-ab71-22aac0e2d580",
   "metadata": {},
   "outputs": [
    {
     "name": "stdout",
     "output_type": "stream",
     "text": [
      "[[2 2 2]\n",
      " [2 2 2]]\n"
     ]
    }
   ],
   "source": [
    "bigger=np.array(my_arr*3 - 0.4, dtype='int')\n",
    "print(bigger)"
   ]
  },
  {
   "cell_type": "code",
   "execution_count": 37,
   "id": "e539a7cf-de6d-4f8f-b17d-c8479a0ee037",
   "metadata": {},
   "outputs": [
    {
     "name": "stdout",
     "output_type": "stream",
     "text": [
      "int32\n"
     ]
    }
   ],
   "source": [
    "print(bigger.dtype)"
   ]
  },
  {
   "cell_type": "code",
   "execution_count": 38,
   "id": "d1a1d375-3fe4-44db-abd2-826ff200f7c5",
   "metadata": {},
   "outputs": [
    {
     "name": "stdout",
     "output_type": "stream",
     "text": [
      "<class 'numpy.ndarray'>\n"
     ]
    }
   ],
   "source": [
    "print(type(bigger))"
   ]
  },
  {
   "cell_type": "code",
   "execution_count": 40,
   "id": "37cabf32-c30c-4dc2-bc6d-46111df11d46",
   "metadata": {},
   "outputs": [
    {
     "name": "stdout",
     "output_type": "stream",
     "text": [
      "6\n"
     ]
    }
   ],
   "source": [
    "print(bigger.size)"
   ]
  },
  {
   "cell_type": "code",
   "execution_count": 41,
   "id": "2932f1d4-526b-4480-bd49-54f7259db18f",
   "metadata": {},
   "outputs": [
    {
     "name": "stdout",
     "output_type": "stream",
     "text": [
      "(2, 3)\n"
     ]
    }
   ],
   "source": [
    "print(bigger.shape)"
   ]
  },
  {
   "cell_type": "code",
   "execution_count": 42,
   "id": "5920b254-9f63-43ef-b16b-62baa1b3374d",
   "metadata": {},
   "outputs": [
    {
     "name": "stdout",
     "output_type": "stream",
     "text": [
      "[[1. 1. 1.]\n",
      " [1. 1. 1.]]\n"
     ]
    }
   ],
   "source": [
    "print(bigger/bigger)"
   ]
  },
  {
   "cell_type": "code",
   "execution_count": 43,
   "id": "2b46fc9c-63e6-46f0-8529-4dc7e92ddcbb",
   "metadata": {},
   "outputs": [
    {
     "name": "stdout",
     "output_type": "stream",
     "text": [
      "[0 1 2 3 4 5 6 7 8 9]\n"
     ]
    }
   ],
   "source": [
    "arr = np.arange(10)\n",
    "print(arr)"
   ]
  },
  {
   "cell_type": "code",
   "execution_count": 44,
   "id": "990069f2-9167-4c94-8f27-94d3970a6ced",
   "metadata": {},
   "outputs": [
    {
     "name": "stdout",
     "output_type": "stream",
     "text": [
      "[ 0  2  4  6  8 10 12 14 16 18]\n"
     ]
    }
   ],
   "source": [
    "print(arr + arr)"
   ]
  },
  {
   "cell_type": "code",
   "execution_count": 45,
   "id": "ed4439c9-896c-4ab0-ba4c-b841759da342",
   "metadata": {},
   "outputs": [
    {
     "name": "stdout",
     "output_type": "stream",
     "text": [
      "[ 0  1  4  9 16 25 36 49 64 81]\n"
     ]
    }
   ],
   "source": [
    "print(arr ** 2)"
   ]
  },
  {
   "cell_type": "markdown",
   "id": "930e118b-e879-4521-b80c-4583a2769b42",
   "metadata": {},
   "source": [
    "## 7. copy()"
   ]
  },
  {
   "cell_type": "code",
   "execution_count": 46,
   "id": "a090cd28-9d70-4607-b170-70968da0ce75",
   "metadata": {},
   "outputs": [
    {
     "name": "stdout",
     "output_type": "stream",
     "text": [
      "[1, 2, 3, 4]\n",
      "[4, 5, 6, 7]\n"
     ]
    }
   ],
   "source": [
    "arr1 = [1,2,3,4]\n",
    "arr2 = [4,5,6,7]\n",
    "print(arr1)\n",
    "print(arr2)"
   ]
  },
  {
   "cell_type": "markdown",
   "id": "ec9cc2c2-bece-4d58-b257-ce1203d71547",
   "metadata": {},
   "source": [
    "Shallow copy"
   ]
  },
  {
   "cell_type": "code",
   "execution_count": 53,
   "id": "62a52b84-c6f2-49e9-9ef6-fb7a9df6e2a3",
   "metadata": {},
   "outputs": [
    {
     "data": {
      "text/plain": [
       "[4, 5, 6, 7]"
      ]
     },
     "execution_count": 53,
     "metadata": {},
     "output_type": "execute_result"
    }
   ],
   "source": [
    "arr1 = arr2\n",
    "arr1\n",
    "# shallow copy not recommended as it changes the original value of elements in array"
   ]
  },
  {
   "cell_type": "markdown",
   "id": "1551560d-7f34-4cb7-94fa-deb486c5dcfa",
   "metadata": {},
   "source": [
    "Deep copy"
   ]
  },
  {
   "cell_type": "code",
   "execution_count": 55,
   "id": "08a0dfc9-5b6f-4fb6-88fc-fb1605a8a5f1",
   "metadata": {},
   "outputs": [
    {
     "name": "stdout",
     "output_type": "stream",
     "text": [
      "[1, 2, 3, 4]\n",
      "[4, 5, 6, 7]\n"
     ]
    }
   ],
   "source": [
    "arr3 = [1,2,3,4]\n",
    "arr4 = [4,5,6,7]\n",
    "print(arr3)\n",
    "print(arr4)"
   ]
  },
  {
   "cell_type": "code",
   "execution_count": 57,
   "id": "1bced3d6-fad7-4c83-97a7-59ecbe2c93b8",
   "metadata": {},
   "outputs": [
    {
     "name": "stdout",
     "output_type": "stream",
     "text": [
      "copy of arr3 :  [1, 2, 3, 4]\n",
      "arr3 :  [1, 2, 3, 4]\n",
      "arr4 :  [4, 5, 6, 7]\n"
     ]
    }
   ],
   "source": [
    "copy_arr3 = arr3.copy()\n",
    "print(\"copy of arr3 : \",copy_arr3) # generates a copy / backup\n",
    "print(\"arr3 : \",arr3)\n",
    "print(\"arr4 : \",arr4)"
   ]
  },
  {
   "cell_type": "code",
   "execution_count": 58,
   "id": "d3ef34bf-1e75-4d4a-babf-c7261a190c0b",
   "metadata": {},
   "outputs": [
    {
     "name": "stdout",
     "output_type": "stream",
     "text": [
      "[ 0  1  2  3  4  5  6  7  8  9 10 11 12 13 14 15 16 17 18 19]\n"
     ]
    }
   ],
   "source": [
    "slicing_arr = np.arange(20)\n",
    "print(slicing_arr)"
   ]
  },
  {
   "cell_type": "code",
   "execution_count": 60,
   "id": "009b575d-7ef5-44d7-a2a2-576765d38f6d",
   "metadata": {},
   "outputs": [
    {
     "name": "stdout",
     "output_type": "stream",
     "text": [
      "[30 30 30 30 30 30 30 30 30 30 10 11 12 13 14 15 16 17 18 19]\n"
     ]
    }
   ],
   "source": [
    "slicing_arr[:10] = 30\n",
    "print(slicing_arr)"
   ]
  },
  {
   "cell_type": "code",
   "execution_count": 61,
   "id": "f7d20026-1b98-4bdc-984e-816293d47635",
   "metadata": {},
   "outputs": [
    {
     "name": "stdout",
     "output_type": "stream",
     "text": [
      "[ 30  30  30  30  30  30  30  30  30  30 100 100 100 100 100 100 100 100\n",
      " 100 100]\n"
     ]
    }
   ],
   "source": [
    "slicing_arr[10:] = 100\n",
    "print(slicing_arr)"
   ]
  },
  {
   "cell_type": "markdown",
   "id": "357b04df-07cd-4ca7-abb2-137f895735a0",
   "metadata": {},
   "source": [
    "## 8. rand()"
   ]
  },
  {
   "cell_type": "code",
   "execution_count": 65,
   "id": "f05f1605-363a-445d-bbe6-06fba4f4de86",
   "metadata": {},
   "outputs": [
    {
     "data": {
      "text/plain": [
       "0.2340685444326014"
      ]
     },
     "execution_count": 65,
     "metadata": {},
     "output_type": "execute_result"
    }
   ],
   "source": [
    "random_number = np.random.rand()\n",
    "random_number\n",
    "# prints any random number between 0 and 1"
   ]
  },
  {
   "cell_type": "code",
   "execution_count": 64,
   "id": "ce7bf22f-9832-4fb9-9b0c-4ec809d4cd00",
   "metadata": {},
   "outputs": [
    {
     "data": {
      "text/plain": [
       "array([0.65761421, 0.56930241, 0.81273322, 0.52974617, 0.88170992,\n",
       "       0.9158096 , 0.43192951, 0.73578125, 0.33239163, 0.64452605])"
      ]
     },
     "execution_count": 64,
     "metadata": {},
     "output_type": "execute_result"
    }
   ],
   "source": [
    "random_numbers = np.random.rand(10)\n",
    "random_numbers\n",
    "# prints 10 random number between 0 and 1"
   ]
  },
  {
   "cell_type": "code",
   "execution_count": 69,
   "id": "8bc500f8-8947-4017-8ff4-196e4f4f3a8e",
   "metadata": {},
   "outputs": [
    {
     "name": "stdout",
     "output_type": "stream",
     "text": [
      "[[0.65761421 0.56930241 0.81273322 0.52974617 0.88170992]\n",
      " [0.9158096  0.43192951 0.73578125 0.33239163 0.64452605]]\n"
     ]
    }
   ],
   "source": [
    "reshaped_numbers = random_numbers.reshape((2, 5))\n",
    "print(reshaped_numbers)"
   ]
  },
  {
   "cell_type": "code",
   "execution_count": 71,
   "id": "19436abd-acf7-4fb9-8cd4-e7b12442cd64",
   "metadata": {},
   "outputs": [
    {
     "data": {
      "text/plain": [
       "array([[0.70352817, 0.90808667],\n",
       "       [0.02506224, 0.62379955],\n",
       "       [0.21296939, 0.13671374],\n",
       "       [0.81876444, 0.91140885],\n",
       "       [0.33927893, 0.85930345],\n",
       "       [0.78164936, 0.33690853]])"
      ]
     },
     "execution_count": 71,
     "metadata": {},
     "output_type": "execute_result"
    }
   ],
   "source": [
    "np.random.rand(12).reshape((6,2))"
   ]
  },
  {
   "cell_type": "code",
   "execution_count": 75,
   "id": "b6a1eee3-a151-4327-b25b-fa04c56f550e",
   "metadata": {},
   "outputs": [
    {
     "name": "stdout",
     "output_type": "stream",
     "text": [
      "[[0.55785412 0.35990535 0.72302111]\n",
      " [0.82890047 0.17737354 0.29890735]\n",
      " [0.71054809 0.00405271 0.3529113 ]]\n"
     ]
    }
   ],
   "source": [
    "twod_arr = np.random.rand(3,3)\n",
    "print(twod_arr)"
   ]
  },
  {
   "cell_type": "markdown",
   "id": "a76cc39f-c726-466e-b4d1-018bd4062bb6",
   "metadata": {},
   "source": [
    "## 9. randn()"
   ]
  },
  {
   "cell_type": "markdown",
   "id": "e829e39e-3d39-4b20-80f5-7917103ac943",
   "metadata": {},
   "source": [
    "Returns a sample from standard normal distribution (range -3 to 3)"
   ]
  },
  {
   "cell_type": "code",
   "execution_count": 77,
   "id": "a8e3c0cb-d9d9-4d29-b8f1-b66a2b0a57a1",
   "metadata": {},
   "outputs": [
    {
     "name": "stdout",
     "output_type": "stream",
     "text": [
      "[-0.03476997 -0.21977915  0.17374993  0.12521918 -0.03109224 -2.05235489\n",
      "  0.40920779  0.17566566 -0.01227193 -0.83068045  0.20541964  0.4537362\n",
      " -0.12562594  1.23220643 -0.53576095  1.97921626  0.90471044  0.08638071\n",
      " -0.91249072  0.06043925 -0.11695206  0.3226445   0.28250949  0.6975977\n",
      "  0.31605747 -0.04874907  0.10547094  0.9198783  -0.63724728 -0.03388498\n",
      " -0.7515377  -0.06030347 -1.43487993  1.01270982  1.36474716  0.17494527\n",
      "  0.73018703 -0.40274723  2.0549746   2.5488443   0.39540596 -0.57369112\n",
      "  0.70846263  1.53208648 -0.0469775   0.40743277  0.5405894  -2.28357114\n",
      " -0.20265979  0.83242197]\n"
     ]
    }
   ],
   "source": [
    "randn_arr = np.random.randn(50)\n",
    "print(randn_arr)"
   ]
  },
  {
   "cell_type": "code",
   "execution_count": 78,
   "id": "68be710b-64a5-4c67-9c81-de2cb121cd7e",
   "metadata": {},
   "outputs": [
    {
     "data": {
      "text/plain": [
       "2.5488442989007094"
      ]
     },
     "execution_count": 78,
     "metadata": {},
     "output_type": "execute_result"
    }
   ],
   "source": [
    "max(randn_arr)"
   ]
  },
  {
   "cell_type": "code",
   "execution_count": 79,
   "id": "6b62101b-ffac-456c-be4d-4fdc3f6c5d16",
   "metadata": {},
   "outputs": [
    {
     "data": {
      "text/plain": [
       "-2.2835711357369712"
      ]
     },
     "execution_count": 79,
     "metadata": {},
     "output_type": "execute_result"
    }
   ],
   "source": [
    "min(randn_arr)"
   ]
  },
  {
   "cell_type": "code",
   "execution_count": 80,
   "id": "ba739553-ee78-4dba-bbe7-90b6bc8fbd4e",
   "metadata": {},
   "outputs": [
    {
     "data": {
      "text/plain": [
       "array([[-0.76331514, -0.3427408 ,  0.54655052],\n",
       "       [-0.17666539, -0.27889269,  0.67923447],\n",
       "       [-0.99412919, -0.0096914 ,  0.04677845]])"
      ]
     },
     "execution_count": 80,
     "metadata": {},
     "output_type": "execute_result"
    }
   ],
   "source": [
    "np.random.randn(3,3)"
   ]
  },
  {
   "cell_type": "markdown",
   "id": "f934e426-cbe8-493e-8c52-6847a4b96600",
   "metadata": {},
   "source": [
    "## 10. randint()"
   ]
  },
  {
   "cell_type": "code",
   "execution_count": 81,
   "id": "fd7e1ecb-ff9e-4a98-8039-685f02a361aa",
   "metadata": {},
   "outputs": [
    {
     "data": {
      "text/plain": [
       "61"
      ]
     },
     "execution_count": 81,
     "metadata": {},
     "output_type": "execute_result"
    }
   ],
   "source": [
    "np.random.randint(1,100)\n",
    "# returns random value between 1 & 100 both inclusive"
   ]
  },
  {
   "cell_type": "code",
   "execution_count": 82,
   "id": "22c22775-a2ec-437e-b59a-3f77ecc4a1bb",
   "metadata": {},
   "outputs": [
    {
     "data": {
      "text/plain": [
       "array([71, 54, 62,  4, 77, 63, 91, 42, 50, 16])"
      ]
     },
     "execution_count": 82,
     "metadata": {},
     "output_type": "execute_result"
    }
   ],
   "source": [
    "np.random.randint(1,100,10)"
   ]
  },
  {
   "cell_type": "code",
   "execution_count": 83,
   "id": "d1072328-1ec7-41cf-b9d7-ae2b78c2d873",
   "metadata": {},
   "outputs": [
    {
     "data": {
      "text/plain": [
       "array([45, 49, 53, 41, 58, 41, 53, 59, 51, 52, 58, 52, 52, 53, 48, 50, 41,\n",
       "       48, 54, 47, 42, 56, 47, 55, 41, 57, 58, 43, 51, 59, 53, 54, 41, 43,\n",
       "       46, 56, 40, 58, 55, 53, 48, 43, 58, 45, 44, 54, 51, 46, 49, 51])"
      ]
     },
     "execution_count": 83,
     "metadata": {},
     "output_type": "execute_result"
    }
   ],
   "source": [
    "np.random.randint(40,60,50) # generating 50 values between 40 and 60"
   ]
  },
  {
   "cell_type": "markdown",
   "id": "a4abbc47-8cf5-4af8-b440-126caeb8f055",
   "metadata": {},
   "source": [
    "## Array Attributes and Methods"
   ]
  },
  {
   "cell_type": "code",
   "execution_count": 84,
   "id": "13583005-51e1-4ac5-af76-0aab14d950ce",
   "metadata": {},
   "outputs": [
    {
     "data": {
      "text/plain": [
       "array([ 0,  1,  2,  3,  4,  5,  6,  7,  8,  9, 10, 11, 12, 13, 14, 15, 16,\n",
       "       17, 18, 19])"
      ]
     },
     "execution_count": 84,
     "metadata": {},
     "output_type": "execute_result"
    }
   ],
   "source": [
    "arr = np.arange(20)\n",
    "ranarr = np.random.randint(0,100,10)\n",
    "arr"
   ]
  },
  {
   "cell_type": "code",
   "execution_count": 85,
   "id": "2d1da331-ead5-4dda-9dae-993091149e04",
   "metadata": {},
   "outputs": [
    {
     "data": {
      "text/plain": [
       "array([57, 11, 10, 27, 90, 63, 78, 12, 55, 62])"
      ]
     },
     "execution_count": 85,
     "metadata": {},
     "output_type": "execute_result"
    }
   ],
   "source": [
    "ranarr"
   ]
  },
  {
   "cell_type": "code",
   "execution_count": 86,
   "id": "70e666ac-e02f-4844-9790-2eafcca8b4a8",
   "metadata": {},
   "outputs": [
    {
     "data": {
      "text/plain": [
       "4"
      ]
     },
     "execution_count": 86,
     "metadata": {},
     "output_type": "execute_result"
    }
   ],
   "source": [
    "ranarr.argmax() \n",
    "# Index location of highest element"
   ]
  },
  {
   "cell_type": "code",
   "execution_count": 87,
   "id": "f867f733-4aa3-4fc1-bc1a-e1cd2eef5730",
   "metadata": {},
   "outputs": [
    {
     "data": {
      "text/plain": [
       "10"
      ]
     },
     "execution_count": 87,
     "metadata": {},
     "output_type": "execute_result"
    }
   ],
   "source": [
    "ranarr.min() \n",
    "# Gives the lowest element of array"
   ]
  },
  {
   "cell_type": "code",
   "execution_count": 88,
   "id": "8c41f7c7-f332-43e0-bc6a-f8755c343e92",
   "metadata": {},
   "outputs": [
    {
     "data": {
      "text/plain": [
       "2"
      ]
     },
     "execution_count": 88,
     "metadata": {},
     "output_type": "execute_result"
    }
   ],
   "source": [
    "ranarr.argmin() \n",
    "# Index location of lowest element"
   ]
  }
 ],
 "metadata": {
  "kernelspec": {
   "display_name": "Python 3 (ipykernel)",
   "language": "python",
   "name": "python3"
  },
  "language_info": {
   "codemirror_mode": {
    "name": "ipython",
    "version": 3
   },
   "file_extension": ".py",
   "mimetype": "text/x-python",
   "name": "python",
   "nbconvert_exporter": "python",
   "pygments_lexer": "ipython3",
   "version": "3.12.4"
  }
 },
 "nbformat": 4,
 "nbformat_minor": 5
}
